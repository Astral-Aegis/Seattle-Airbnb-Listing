{
 "cells": [
  {
   "cell_type": "markdown",
   "id": "c069d691",
   "metadata": {},
   "source": [
    "## Airbnb Seattle Dataset - Darlington_Aibangbee (Data_Science project)\n",
    "About Dataset\n",
    "Context\n",
    "Since 2008, guests and hosts have used Airbnb to travel in a more unique, personalized way. As part of the Airbnb Inside initiative, this dataset describes the listing activity of homestays in Seattle, WA.\n",
    "\n",
    "Content\n",
    "The following Airbnb activity is included in this Seattle dataset:\n",
    "\n",
    "- Listings: including full descriptions and average review score\n",
    "- Reviews: including unique id for each reviewer and detailed comments\n",
    "- Calendar: including listing id and the price and availability for that day\n",
    "\n",
    "Acknowledgement\n",
    "This dataset is part of Airbnb Inside, and the original source can be found here."
   ]
  },
  {
   "cell_type": "markdown",
   "id": "6f4947b3",
   "metadata": {},
   "source": [
    "Questions to Answer:\n",
    "\n",
    "- What are the types of properties available in seattle's listings? What are thier prices on average?\n",
    "- What are the neighbourhood trends? What neighbourhoods have the most expensive and cheapest listings?\n",
    "- What are the busiest times of the year to visit Seattle? By how much do prices spike?\n",
    "- Is there a general upward trend of both new Airbnb listings and total Airbnb visitors to Seattle?\n",
    "- What are the important features that predict price"
   ]
  },
  {
   "cell_type": "code",
   "execution_count": null,
   "id": "d559046a",
   "metadata": {},
   "outputs": [],
   "source": [
    "## Loading Libraries\n",
    "import numpy as np\n",
    "import pandas as pd\n",
    "import matplotlib.pyplot as plt\n",
    "from sklearn.linear_model import LinearRegression\n",
    "from sklearn.model_selection import train_test_split\n",
    "from sklearn.metrics import r2_score, mean_squared_error,accuracy_score\n",
    "import seaborn as sns\n",
    "%matplotlib inline\n",
    "import random"
   ]
  },
  {
   "cell_type": "code",
   "execution_count": null,
   "id": "1a346091",
   "metadata": {},
   "outputs": [],
   "source": [
    "#reading in all csv files to dataframes\n",
    "listing_df = pd.read_csv('listings.csv')\n",
    "calendar_df = pd.read_csv('calendar.csv')\n",
    "reviews_df = pd.read_csv('reviews.csv')"
   ]
  },
  {
   "cell_type": "code",
   "execution_count": null,
   "id": "bde1cf31",
   "metadata": {},
   "outputs": [],
   "source": [
    "listing_df.info()"
   ]
  },
  {
   "cell_type": "code",
   "execution_count": null,
   "id": "4f26aee6",
   "metadata": {},
   "outputs": [],
   "source": [
    "listing_df.head(4)"
   ]
  },
  {
   "cell_type": "code",
   "execution_count": null,
   "id": "dd127faa",
   "metadata": {},
   "outputs": [],
   "source": [
    "#listing dataframe information\n",
    "listing_df.info()"
   ]
  },
  {
   "cell_type": "code",
   "execution_count": null,
   "id": "e862e447",
   "metadata": {},
   "outputs": [],
   "source": [
    "calendar_df.head()"
   ]
  },
  {
   "cell_type": "code",
   "execution_count": null,
   "id": "73afd561",
   "metadata": {},
   "outputs": [],
   "source": [
    "calendar_df.info()"
   ]
  },
  {
   "cell_type": "code",
   "execution_count": null,
   "id": "f92950d5",
   "metadata": {},
   "outputs": [],
   "source": [
    "reviews_df.info()"
   ]
  },
  {
   "cell_type": "code",
   "execution_count": null,
   "id": "ad9e4195",
   "metadata": {},
   "outputs": [],
   "source": [
    "reviews_df.head()"
   ]
  },
  {
   "cell_type": "markdown",
   "id": "ae7873d7",
   "metadata": {},
   "source": [
    "## Data Cleaning and Preparation"
   ]
  },
  {
   "cell_type": "markdown",
   "id": "d40307ce",
   "metadata": {},
   "source": [
    "#### Cleaning the Listing dataframe listing_df"
   ]
  },
  {
   "cell_type": "code",
   "execution_count": null,
   "id": "3d72ed28",
   "metadata": {},
   "outputs": [],
   "source": [
    "## Showing columns with missing values \n",
    "listing_df.isna().any()[listing_df.isna().any() == True]"
   ]
  },
  {
   "cell_type": "code",
   "execution_count": null,
   "id": "026ffc81",
   "metadata": {},
   "outputs": [],
   "source": [
    "#Top missing features\n",
    "listing_df.isnull().mean().sort_values(ascending = False).nlargest(10)"
   ]
  },
  {
   "cell_type": "code",
   "execution_count": null,
   "id": "d9288100",
   "metadata": {},
   "outputs": [],
   "source": [
    "#Proportion of missing values in each feature of the listings dataframe\n",
    "prop_missing = listing_df.isnull().mean()\n",
    "prop_missing_40 = prop_missing[prop_missing > .4]\n",
    "missing_over40percent = prop_missing_40.index.tolist()"
   ]
  },
  {
   "cell_type": "code",
   "execution_count": null,
   "id": "a888273f",
   "metadata": {},
   "outputs": [],
   "source": [
    "listing_df.drop(missing_over40percent, axis = 1, inplace = True)"
   ]
  },
  {
   "cell_type": "code",
   "execution_count": null,
   "id": "b5ec1be9",
   "metadata": {},
   "outputs": [],
   "source": [
    "listing_df.columns"
   ]
  },
  {
   "cell_type": "code",
   "execution_count": null,
   "id": "235df11d",
   "metadata": {},
   "outputs": [],
   "source": [
    "listing_df['city'] = listing_df['market']"
   ]
  },
  {
   "cell_type": "code",
   "execution_count": null,
   "id": "f41025a0",
   "metadata": {},
   "outputs": [],
   "source": [
    "listing_df['city'].value_counts()"
   ]
  },
  {
   "cell_type": "code",
   "execution_count": null,
   "id": "e009298d",
   "metadata": {},
   "outputs": [],
   "source": [
    "# Market is the same as city and is not needed\n",
    "listing_df.drop('market', axis = 1, inplace =True)\n",
    "\n",
    "# The neighbourhood column is incomplete\n",
    "listing_df.drop('neighbourhood', axis = 1, inplace = True)"
   ]
  },
  {
   "cell_type": "code",
   "execution_count": null,
   "id": "449cfb96",
   "metadata": {},
   "outputs": [],
   "source": [
    "listing_df.rename(columns = {'neighbourhood_cleansed':'neighbourhood', 'neighbourhood_group_cleansed':'neighbourhood_group'}, inplace = True)"
   ]
  },
  {
   "cell_type": "markdown",
   "id": "6c615fc1",
   "metadata": {},
   "source": [
    "- I dropped the market column  which is redundant seeing that we already assigned it to the city column as the entire datasets contain entries for only Seattle\n",
    "\n",
    "- The neighbourhood information is contained in 2 different columns. the original **neighbourhood** column is incomplete while the '**neighbourhood_cleansed** column contains the complete neighbourhood information. So we drop the **'neighbourhood'** column and rename the **'neighbourhood_cleansed'** as neighbourhood\n",
    "\n",
    "- The **neighbourhood_group_cleansed** column is also renamed to '**neighbourhood_group**'"
   ]
  },
  {
   "cell_type": "code",
   "execution_count": null,
   "id": "301b4218",
   "metadata": {},
   "outputs": [],
   "source": [
    "# A function that takes the prices remove the $ symbol and sets the price to a float datatype that is usable\n",
    "def clean_price(df):\n",
    "    df['price'] = df.price.astype(str)\n",
    "    df['price'] = df['price'].str.replace(pat= r'[,$]', repl = '', regex = True).astype(float)\n",
    "    return df['price'].head()"
   ]
  },
  {
   "cell_type": "code",
   "execution_count": null,
   "id": "75bf6e8d",
   "metadata": {},
   "outputs": [],
   "source": [
    "# Cleaning price\n",
    "clean_price(listing_df)"
   ]
  },
  {
   "cell_type": "code",
   "execution_count": null,
   "id": "a331baec",
   "metadata": {},
   "outputs": [],
   "source": [
    "listing_df.price"
   ]
  },
  {
   "cell_type": "code",
   "execution_count": null,
   "id": "6c5f122f",
   "metadata": {},
   "outputs": [],
   "source": [
    "# Creating a list of features that should be type Boolean\n",
    "Bool_feat = ['has_availability', 'instant_bookable', 'requires_license', 'require_guest_profile_picture', 'require_guest_phone_verification']"
   ]
  },
  {
   "cell_type": "code",
   "execution_count": null,
   "id": "1ba2b7e6",
   "metadata": {},
   "outputs": [],
   "source": [
    "for col in Bool_feat:\n",
    "    listing_df[col] = listing_df[col].map({'f': False, 't': True});"
   ]
  },
  {
   "cell_type": "code",
   "execution_count": null,
   "id": "a337c9d3",
   "metadata": {},
   "outputs": [],
   "source": [
    "listing_df[Bool_feat]"
   ]
  },
  {
   "cell_type": "code",
   "execution_count": null,
   "id": "cb7390ce",
   "metadata": {},
   "outputs": [],
   "source": [
    "# Cleaning the amenities dataframe to be used as categorical type variable to get dummy variables for price prediction model\n",
    "listing_df['amenities'] = listing_df['amenities'].apply(lambda x: x.replace(' ', '_'))\n",
    "listing_df['amenities'] = listing_df['amenities'].apply(lambda x: x.replace('\"', ''))"
   ]
  },
  {
   "cell_type": "code",
   "execution_count": null,
   "id": "a7d7c635",
   "metadata": {},
   "outputs": [],
   "source": [
    "u = listing_df['amenities'].str.strip(',{}')"
   ]
  },
  {
   "cell_type": "code",
   "execution_count": null,
   "id": "367c3ee0",
   "metadata": {},
   "outputs": [],
   "source": [
    "u"
   ]
  },
  {
   "cell_type": "code",
   "execution_count": null,
   "id": "b11ef756",
   "metadata": {},
   "outputs": [],
   "source": [
    "listing_df['amenities'] = u"
   ]
  },
  {
   "cell_type": "code",
   "execution_count": null,
   "id": "a7618730",
   "metadata": {},
   "outputs": [],
   "source": [
    "listing_df.info()"
   ]
  },
  {
   "cell_type": "markdown",
   "id": "9deee646",
   "metadata": {},
   "source": [
    "- The listing_df dataframe is usable for the exploration we need to do now. Further cleaning and removal of null entries will be done when building the price prediction model"
   ]
  },
  {
   "cell_type": "markdown",
   "id": "c3959d2d",
   "metadata": {},
   "source": [
    "### Cleaning, Wrangling the Calendar Dataframe"
   ]
  },
  {
   "cell_type": "code",
   "execution_count": null,
   "id": "ef9b64c4",
   "metadata": {},
   "outputs": [],
   "source": [
    "calendar_df.head(80)"
   ]
  },
  {
   "cell_type": "code",
   "execution_count": null,
   "id": "7f79b68e",
   "metadata": {},
   "outputs": [],
   "source": [
    "calendar_df.dtypes"
   ]
  },
  {
   "cell_type": "code",
   "execution_count": null,
   "id": "3ade94ac",
   "metadata": {},
   "outputs": [],
   "source": [
    "#Cleaning the price column and setting to type float using previously defiened clean price function\n",
    "clean_price(calendar_df)\n",
    "calendar_df.dtypes"
   ]
  },
  {
   "cell_type": "code",
   "execution_count": null,
   "id": "5842199c",
   "metadata": {},
   "outputs": [],
   "source": [
    "calendar_df['available'].head()"
   ]
  },
  {
   "cell_type": "code",
   "execution_count": null,
   "id": "ab8a6ac0",
   "metadata": {},
   "outputs": [],
   "source": [
    "# Converting the 'available' feature to type boolean\n",
    "calendar_df['available'] = calendar_df['available'].map({'f': False, 't': True})\n",
    "calendar_df.dtypes"
   ]
  },
  {
   "cell_type": "code",
   "execution_count": null,
   "id": "118a089d",
   "metadata": {},
   "outputs": [],
   "source": [
    "#Checking the 'available' feature\n",
    "calendar_df.available.head()"
   ]
  },
  {
   "cell_type": "code",
   "execution_count": null,
   "id": "a53ab66e",
   "metadata": {},
   "outputs": [],
   "source": [
    "#setting the date column to type datetime\n",
    "calendar_df['date'] = pd.to_datetime(calendar_df['date'])"
   ]
  },
  {
   "cell_type": "code",
   "execution_count": null,
   "id": "14838a0f",
   "metadata": {},
   "outputs": [],
   "source": [
    "calendar_df.dtypes"
   ]
  },
  {
   "cell_type": "code",
   "execution_count": null,
   "id": "54a79ad7",
   "metadata": {},
   "outputs": [],
   "source": [
    "# https://github.com/softhints/Pandas-Tutorials/blob/master/datetime/1.extract-month-and-year-datetime-column-in-pandas.ipynb\n",
    "# Getting the Period Month for each date entry in the date column.\n",
    "calendar_df['month_period'] = calendar_df['date'].dt.to_period('M')"
   ]
  },
  {
   "cell_type": "code",
   "execution_count": null,
   "id": "74ef59f1",
   "metadata": {},
   "outputs": [],
   "source": [
    "calendar_df.dtypes"
   ]
  },
  {
   "cell_type": "markdown",
   "id": "accfeb96",
   "metadata": {},
   "source": [
    "### Exploring and Answering questions with the Listings Dataframe"
   ]
  },
  {
   "cell_type": "markdown",
   "id": "a2488687",
   "metadata": {},
   "source": [
    "##### The most common property type in airbnb listings"
   ]
  },
  {
   "cell_type": "code",
   "execution_count": null,
   "id": "cf6ef5ac",
   "metadata": {},
   "outputs": [],
   "source": [
    "#Exploring property type by their proportions in airbnb listings\n",
    "prop_type_prop = listing_df['property_type'].value_counts()/listing_df.shape[0]\n",
    "prop_type_prop.plot(kind = 'bar')\n",
    "plt.yticks(np.arange(0, .5, .05));"
   ]
  },
  {
   "cell_type": "code",
   "execution_count": null,
   "id": "48e3412f",
   "metadata": {},
   "outputs": [],
   "source": [
    "# A plot showing Average Price by property type\n",
    "listing_df.groupby('property_type')['price'].mean().sort_values(ascending = False).plot(kind = 'bar')"
   ]
  },
  {
   "cell_type": "markdown",
   "id": "f3789004",
   "metadata": {},
   "source": [
    "- Here we see that as expected **Boats** have the highest prices on average (since it is practically luxury), we also have **condomiums, lofts, houses** on the high sides.\n",
    "- On the low average price we have **Yurts, Chalets, Tents and Dorms**"
   ]
  },
  {
   "cell_type": "markdown",
   "id": "4f59b33f",
   "metadata": {},
   "source": [
    "##### Neighbourhoods Trends"
   ]
  },
  {
   "cell_type": "code",
   "execution_count": null,
   "id": "7dfb9344",
   "metadata": {},
   "outputs": [],
   "source": [
    "# Listings by neighbourhood\n",
    "listing_df.neighbourhood_group.value_counts().plot(kind = 'bar')"
   ]
  },
  {
   "cell_type": "code",
   "execution_count": null,
   "id": "94903869",
   "metadata": {},
   "outputs": [],
   "source": [
    "# Top 20 Neighbourhoods in seattle sorted by the highest price on average\n",
    "listing_df.groupby('neighbourhood')['price'].mean().nlargest(20).plot(kind = 'bar')\n",
    "plt.title('Top 20 Neighbourhoods by AVerage Price')\n",
    "plt.ylabel('average Price');"
   ]
  },
  {
   "cell_type": "code",
   "execution_count": null,
   "id": "20bb2d11",
   "metadata": {},
   "outputs": [],
   "source": [
    "# plot of average price by neighbourhood_group\n",
    "listing_df.groupby('neighbourhood_group')['price'].mean().sort_values(ascending = False).plot(kind = 'bar');"
   ]
  },
  {
   "cell_type": "code",
   "execution_count": null,
   "id": "439ccb6a",
   "metadata": {},
   "outputs": [],
   "source": [
    "#Lowest listing prices\n",
    "listing_df.groupby('neighbourhood')['price'].min().nsmallest(10)"
   ]
  },
  {
   "cell_type": "code",
   "execution_count": null,
   "id": "595bb0ce",
   "metadata": {},
   "outputs": [],
   "source": [
    "# Highest listing prices you can get\n",
    "listing_df.groupby('neighbourhood')['price'].max().nlargest(10)"
   ]
  },
  {
   "cell_type": "markdown",
   "id": "ac171a80",
   "metadata": {},
   "source": [
    "The neighbourhood-group with the highest price on the average is the **Magnolia Neighbourhood.** A search on google shows that. Magnolia an affluent residential neighbourhood with close proximity to seattle's top attractions is the second largest neighborhood of Seattle, Washington by area. This and the fact that it is one of the neighbourhood group with the lowest number of listings (**meaning high brow area, with low units available**) may explain why it is the highest on average.\n",
    "- The most expensive neighbourhood_groups by average price are: **Magnolia, Queen Anne, Downtown, West_Seattle and Cascade**\n",
    "- The least expensive neighbourhood_groups on average are: **University District, Lake City, Rainier Valley, Northgate, Delridge**\n",
    "\n",
    "\n",
    "> 20 Most expensive neighbourhoods in order of decreasing average prices: **'Southeast Magnolia'** (which is in the magnolia Neighbourhood group), **'Portage Bay',\n",
    " 'Westlake',\n",
    " 'West Queen Anne',\n",
    " 'Montlake',\n",
    " 'Briarcliff',\n",
    " 'Sunset Hill',\n",
    " 'Industrial District',\n",
    " 'Alki',\n",
    " 'Windermere',\n",
    " 'Pioneer Square',\n",
    " 'Central Business District',\n",
    " 'Fauntleroy',\n",
    " 'Belltown',\n",
    " 'East Queen Anne',\n",
    " 'Madrona',\n",
    " 'Pike-Market',\n",
    " 'North Queen Anne',\n",
    " 'Green Lake',\n",
    " 'Lawton Park'**"
   ]
  },
  {
   "cell_type": "markdown",
   "id": "6ec8526f",
   "metadata": {},
   "source": [
    "### What are the Busiest times of the year to visit seattle?"
   ]
  },
  {
   "cell_type": "code",
   "execution_count": null,
   "id": "57be72d0",
   "metadata": {},
   "outputs": [],
   "source": [
    "# What are the busiest times of the year to visit Seattle? By how much do prices spike?\n",
    "plt.figure(figsize = (15, 5))\n",
    "\n",
    "#count of rooms not available(Availability = False) by month\n",
    "plt.subplot(1, 2, 1)\n",
    "plt.title('Rooms not available')\n",
    "plt.xlabel('Months')\n",
    "plt.ylabel('count')\n",
    "complete_final[complete_final['available'] == False].groupby('month_period')['available'].count().plot(kind = 'bar')\n",
    "\n",
    "#count of rooms not available by month(Availability = True)\n",
    "plt.subplot(1, 2, 2)\n",
    "plt.title('Rooms Available')\n",
    "plt.xlabel('Months')\n",
    "plt.ylabel('count')\n",
    "calendar_df[calendar_df['available'] == True].groupby('month_period')['available'].count().plot(kind = 'bar')"
   ]
  },
  {
   "cell_type": "code",
   "execution_count": null,
   "id": "80bb7a64",
   "metadata": {},
   "outputs": [],
   "source": [
    "calendar_df.groupby('month_period')['available'].mean().plot(kind = 'line')\n",
    "plt.title('Average Room Availability by month')\n",
    "plt.xlabel('Months')\n",
    "plt.ylabel('average availability')\n",
    "plt.yticks(np.arange(0, 1, .1));"
   ]
  },
  {
   "cell_type": "markdown",
   "id": "6b7ee618",
   "metadata": {},
   "source": [
    "##### Observation:\n",
    "- Here, we see that the number of **available rooms** are mostly in the **lowest** towards the middle of the year around the summer holiday periods (between **June** and **August**). This is most likely due to high demands around these periods.\n",
    "- We see an increase in availability in the first quarter of the year, a tendency for availability to decrease mid year around summer and a spike again around the end of year. \n",
    "> This is probably because people tend to go on holidays around the december periods and mostly have their homes available and for the first quarter the most likely reason is because the demand for airbnb listings around that period is low unlike in the summer when everyone wants to go on summer holidays and require those listings.\n",
    "\n",
    "> **WE will further explore the price trends around these period**"
   ]
  },
  {
   "cell_type": "code",
   "execution_count": null,
   "id": "4b0e48a5",
   "metadata": {},
   "outputs": [],
   "source": [
    "calendar_df['day'] = calendar_df['date'].dt.day_name()"
   ]
  },
  {
   "cell_type": "code",
   "execution_count": null,
   "id": "46334a28",
   "metadata": {},
   "outputs": [],
   "source": [
    "#We fill in the missing prices with the mean of prices for each month\n",
    "calendar_df['price'] = calendar_df.groupby('month_period')['price'].transform(lambda x: x.fillna(x.mean()))"
   ]
  },
  {
   "cell_type": "code",
   "execution_count": null,
   "id": "e0442530",
   "metadata": {},
   "outputs": [],
   "source": [
    "calendar_df.groupby('month_period')['price'].mean().plot(kind = 'line')\n",
    "plt.yticks(np.arange(80, 200, 20))\n",
    "plt.title('Áverage price of listing by month');"
   ]
  },
  {
   "cell_type": "code",
   "execution_count": null,
   "id": "a32c6419",
   "metadata": {},
   "outputs": [],
   "source": [
    "calendar_df.head()"
   ]
  },
  {
   "cell_type": "code",
   "execution_count": null,
   "id": "cf8d63cb",
   "metadata": {},
   "outputs": [],
   "source": [
    "# plot of average listing price vs day  of week\n",
    "calendar_df.groupby('day')['price'].mean().sort_values().plot(kind = 'line')\n",
    "plt.yticks(np.arange(120, 160, 5))\n",
    "plt.xticks(rotation = 45)\n",
    "plt.title('Average listing price by day of week')\n",
    "plt.ylabel('average price of listing');"
   ]
  },
  {
   "cell_type": "code",
   "execution_count": null,
   "id": "a3d75593",
   "metadata": {},
   "outputs": [],
   "source": [
    "calendar_df"
   ]
  },
  {
   "cell_type": "markdown",
   "id": "6b85b533",
   "metadata": {},
   "source": [
    "##### Observation:\n",
    "- Here, we see that indirectly proportional to average availability, on the average, prices are higher towards the middle of the year around the summer holiday periods (between **June** and **August**) and tend to drop after august.\n",
    "- We also see that on the average listing prices are higher on the weekends (Friday and Saturday) and tend to drop and even out on week days and on sunday\n",
    "\n",
    "\n",
    "##### We can further explore the average price of listings in neighbourhood groups around the summer period to see what areas to visit if on a budget to get  the cheapest prices in the summer."
   ]
  },
  {
   "cell_type": "code",
   "execution_count": null,
   "id": "fb0959b2",
   "metadata": {},
   "outputs": [],
   "source": [
    "# merging the listing_df dataframe and calendar_df dataframe to get date column added to the listing dataframe\n",
    "cal_list_merged = listing_df.merge(calendar_df, left_on='id', right_on='listing_id')"
   ]
  },
  {
   "cell_type": "code",
   "execution_count": null,
   "id": "90354259",
   "metadata": {},
   "outputs": [],
   "source": [
    "# Getting a subset(summer months) dataframe\n",
    "summer = cal_list_merged.loc[cal_list_merged['month_period'].dt.month.isin([6, 7, 8])][['id', 'neighbourhood', 'neighbourhood_group', 'price_y', 'month_period']]"
   ]
  },
  {
   "cell_type": "code",
   "execution_count": null,
   "id": "a8579727",
   "metadata": {},
   "outputs": [],
   "source": [
    "summer.info()"
   ]
  },
  {
   "cell_type": "code",
   "execution_count": null,
   "id": "c17672f8",
   "metadata": {},
   "outputs": [],
   "source": [
    "plt.figure(figsize = (15, 5))\n",
    "plt.subplot(1, 2, 1)\n",
    "summer.groupby(['neighbourhood_group', 'month_period'])[ 'price_y'].mean().sort_values().nsmallest(10).plot(kind = 'bar')\n",
    "plt.title('Cheapest Neighbourhoodgroup on average In summer')\n",
    "\n",
    "#\n",
    "plt.subplot(1,2, 2)\n",
    "summer.groupby(['neighbourhood_group', 'month_period'])[ 'price_y'].mean().sort_values().nlargest(10).plot(kind = 'bar')\n",
    "plt.title('Costliest Neighbourhoodgroups on average in summer')"
   ]
  },
  {
   "cell_type": "markdown",
   "id": "401ffa59",
   "metadata": {},
   "source": [
    "- We see Neighbourhood groups like **Delridge, Northgate, Lake City and Beacon Hill** under \\$120 per night during the summer period\n",
    "- We also see Neighbourhood groups like **Downtown, Magnolia, Queen Anne, Cascade** doing a minimum of over \\\\$150 on average and going as high as \\$200 dollars per night on average\n",
    "\n",
    "> **Note:** We can get Neighbourhoods that go as low as 20dollars in areas like Queen Anne and Downtown and other highbrow areas and get costly listings around low brow neighbourhoods too."
   ]
  },
  {
   "cell_type": "markdown",
   "id": "895d0898",
   "metadata": {},
   "source": [
    "### Cleaning and Wrangling the Reviews Dataframe"
   ]
  },
  {
   "cell_type": "code",
   "execution_count": null,
   "id": "5eccd3a9",
   "metadata": {},
   "outputs": [],
   "source": [
    "reviews_df"
   ]
  },
  {
   "cell_type": "code",
   "execution_count": null,
   "id": "b2f3e55a",
   "metadata": {},
   "outputs": [],
   "source": [
    "reviews_df.head()"
   ]
  },
  {
   "cell_type": "code",
   "execution_count": null,
   "id": "0e38e871",
   "metadata": {},
   "outputs": [],
   "source": [
    "reviews_df.dtypes"
   ]
  },
  {
   "cell_type": "code",
   "execution_count": null,
   "id": "5c70f3a4",
   "metadata": {},
   "outputs": [],
   "source": [
    "reviews_df['date'] = pd.to_datetime(reviews_df['date'])"
   ]
  },
  {
   "cell_type": "code",
   "execution_count": null,
   "id": "7fc17e6a",
   "metadata": {},
   "outputs": [],
   "source": [
    "reviews_df.dtypes"
   ]
  },
  {
   "cell_type": "code",
   "execution_count": null,
   "id": "5ed6824e",
   "metadata": {},
   "outputs": [],
   "source": [
    "reviews_df['month_period'] = reviews_df['date'].dt.to_period('M')"
   ]
  },
  {
   "cell_type": "code",
   "execution_count": null,
   "id": "2273e049",
   "metadata": {},
   "outputs": [],
   "source": [
    "reviews_df.info()"
   ]
  },
  {
   "cell_type": "code",
   "execution_count": null,
   "id": "242baa54",
   "metadata": {},
   "outputs": [],
   "source": [
    "reviews_df.month_period.value_counts()"
   ]
  },
  {
   "cell_type": "code",
   "execution_count": null,
   "id": "8ea7a48d",
   "metadata": {},
   "outputs": [],
   "source": [
    "reviews_df['year_period'] = reviews_df['date'].dt.year"
   ]
  },
  {
   "cell_type": "markdown",
   "id": "2ad69e45",
   "metadata": {},
   "source": [
    "##### Trend in number of listings by the years"
   ]
  },
  {
   "cell_type": "code",
   "execution_count": null,
   "id": "63ddb910",
   "metadata": {},
   "outputs": [],
   "source": [
    "cal_list_merged[cal_list_merged['price_y']== cal_list_merged['price_y'].max()].groupby(['month_period', 'neighbourhood_group', 'neighbourhood'])['price_y'].mean()"
   ]
  },
  {
   "cell_type": "code",
   "execution_count": null,
   "id": "c45e0497",
   "metadata": {},
   "outputs": [],
   "source": [
    "cal_list_merged[cal_list_merged['price_y']== cal_list_merged['price_y'].min()].groupby(['month_period', 'neighbourhood_group', 'neighbourhood'])['price_y'].mean()"
   ]
  },
  {
   "cell_type": "code",
   "execution_count": null,
   "id": "bf851128",
   "metadata": {},
   "outputs": [],
   "source": [
    "rev_list_merged = listing_df.merge(reviews_df, left_on='id', right_on='listing_id')"
   ]
  },
  {
   "cell_type": "code",
   "execution_count": null,
   "id": "f591bd2f",
   "metadata": {},
   "outputs": [],
   "source": [
    "complete_data = pd.concat([cal_list_merged, rev_list_merged], axis=0)\n",
    "complete_data.info()"
   ]
  },
  {
   "cell_type": "code",
   "execution_count": null,
   "id": "a49bbe16",
   "metadata": {},
   "outputs": [],
   "source": [
    "complete_data.groupby('month_period')['listing_id'].nunique().plot(kind = 'line')\n",
    "plt.xticks(rotation = 45)\n",
    "plt.ylabel('number of listings');"
   ]
  },
  {
   "cell_type": "code",
   "execution_count": null,
   "id": "c35c50a8",
   "metadata": {},
   "outputs": [],
   "source": [
    "reviews_df['date'].max()"
   ]
  },
  {
   "cell_type": "markdown",
   "id": "1e0bb7c0",
   "metadata": {},
   "source": [
    "- We see a general upward trend in the number of airbnb listings over the years with occasional dips\n",
    "- the graph seems to dip in the end but that is only because the data stops on the 3rd day of january 2016"
   ]
  },
  {
   "cell_type": "markdown",
   "id": "34e01605",
   "metadata": {},
   "source": [
    "### Modelling for Price Predition"
   ]
  },
  {
   "cell_type": "code",
   "execution_count": null,
   "id": "c0076c03",
   "metadata": {},
   "outputs": [],
   "source": [
    "# A plot of numerical features showing correlation to price\n",
    "listing_df.corr()['price'].plot(kind = 'bar')\n",
    "plt.title('correlation plot')\n",
    "plt.xlabel('numerical features')\n",
    "plt.ylabel('correlation')"
   ]
  },
  {
   "cell_type": "markdown",
   "id": "8b3554b2",
   "metadata": {},
   "source": [
    "Numerical features showing a strong positive correlation to price are: **Accommodates, Bathrooms, Bedrooms, Beds, Guests_included.** The more of these we have, the higher the price.\n",
    "> **Surprisingly we see that reviews have very weak negative correlations with price.**\n",
    "    "
   ]
  },
  {
   "cell_type": "code",
   "execution_count": null,
   "id": "e6a77647",
   "metadata": {},
   "outputs": [],
   "source": [
    "#Drop Columns that are irrelevant to the price modelling\n",
    "Unneeded_columns = ['id', 'street', 'city', 'state', 'cleaning_fee', 'extra_people', 'calendar_last_scraped','calendar_updated',\n",
    "                    'neighbourhood', 'listing_url', 'scrape_id', 'last_scraped', 'name', 'summary',\n",
    "       'space', 'description', 'experiences_offered', 'neighborhood_overview',\n",
    "       'transit', 'thumbnail_url', 'medium_url', 'picture_url',\n",
    "       'xl_picture_url', 'host_id', 'host_url', 'host_name', 'host_since',\n",
    "       'host_location', 'host_about', 'host_response_time',\n",
    "       'host_response_rate', 'host_acceptance_rate', 'host_is_superhost',\n",
    "       'host_thumbnail_url', 'host_picture_url', 'host_neighbourhood',\n",
    "       'host_listings_count', 'host_total_listings_count',\n",
    "       'host_verifications', 'host_has_profile_pic', 'host_identity_verified', 'zipcode',\n",
    "       'smart_location', 'country_code', 'country', 'latitude', 'longitude',\n",
    "       'is_location_exact', 'zipcode', 'first_review', 'last_review', 'date','day', 'id_x', 'price',\n",
    "       'id_y', 'reviewer_id', 'reviewer_name', 'comments', 'year_period'\n",
    "       'smart_location', 'country_code', 'country', 'latitude', 'longitude',\n",
    "       'is_location_exact', 'calculated_host_listings_count', 'jurisdiction_names']"
   ]
  },
  {
   "cell_type": "markdown",
   "id": "df1ce81f",
   "metadata": {},
   "source": [
    "> **Note:** If this dataset involved comparing data for different states or cities then it would have been important to leave the city, state, street columns. But since we are focusing on only the Seattle area, only neighbourhood and neighbourhood group in terms of listing location are important to predict price."
   ]
  },
  {
   "cell_type": "code",
   "execution_count": null,
   "id": "08676d9a",
   "metadata": {},
   "outputs": [],
   "source": [
    "complete_data.drop(Unneeded_columns, axis = 1, inplace = True)"
   ]
  },
  {
   "cell_type": "code",
   "execution_count": null,
   "id": "3dd43c9a",
   "metadata": {},
   "outputs": [],
   "source": [
    "complete_data.info()"
   ]
  },
  {
   "cell_type": "code",
   "execution_count": null,
   "id": "c7a7fdef",
   "metadata": {},
   "outputs": [],
   "source": [
    "#Remove rows with any null entries from the dataset\n",
    "complete_data = complete_data[~complete_data.isnull().any(axis = 1)]"
   ]
  },
  {
   "cell_type": "code",
   "execution_count": null,
   "id": "913b3137",
   "metadata": {},
   "outputs": [],
   "source": [
    "complete_data.info()"
   ]
  },
  {
   "cell_type": "code",
   "execution_count": null,
   "id": "221b1df6",
   "metadata": {},
   "outputs": [],
   "source": [
    "complete_final = complete_data.drop('price_y', axis = 1)"
   ]
  },
  {
   "cell_type": "code",
   "execution_count": null,
   "id": "c1399ead",
   "metadata": {},
   "outputs": [],
   "source": [
    "#Use the CountVectorizer feature extractor to obtain amenities from each listings.\n",
    "from sklearn.feature_extraction.text import CountVectorizer\n",
    "count_vectorizer = CountVectorizer(analyzer = 'word', tokenizer=lambda u:u.strip().split(','))\n",
    "bag_of_words = count_vectorizer.fit_transform(complete_data['amenities'])\n",
    "bag_of_words = pd.DataFrame(bag_of_words.toarray(), index=complete_data['amenities'].index, columns = count_vectorizer.get_feature_names_out())\n",
    "bag_of_words"
   ]
  },
  {
   "cell_type": "code",
   "execution_count": null,
   "id": "2ecfccca",
   "metadata": {},
   "outputs": [],
   "source": [
    "complete_final = complete_final.join(bag_of_words)"
   ]
  },
  {
   "cell_type": "code",
   "execution_count": null,
   "id": "c49a8c51",
   "metadata": {},
   "outputs": [],
   "source": [
    "complete_final = complete_final.drop('amenities', axis = 1)"
   ]
  },
  {
   "cell_type": "code",
   "execution_count": null,
   "id": "06a60191",
   "metadata": {},
   "outputs": [],
   "source": [
    "feature_types = complete_final.dtypes"
   ]
  },
  {
   "cell_type": "code",
   "execution_count": null,
   "id": "b0558089",
   "metadata": {},
   "outputs": [],
   "source": [
    "cat_features = feature_types[feature_types == 'object'].index.tolist()\n",
    "cat_features"
   ]
  },
  {
   "cell_type": "code",
   "execution_count": null,
   "id": "ebc381d0",
   "metadata": {},
   "outputs": [],
   "source": [
    "complete_final['available'] = complete_final['available'].astype('bool')"
   ]
  },
  {
   "cell_type": "code",
   "execution_count": null,
   "id": "c1ba0ce0",
   "metadata": {},
   "outputs": [],
   "source": [
    "complete_final = pd.get_dummies(complete_final, columns = cat_features)"
   ]
  },
  {
   "cell_type": "code",
   "execution_count": null,
   "id": "0ca0d6a6",
   "metadata": {},
   "outputs": [],
   "source": [
    "#Obtain only the month int values from the month_period column to make it easier to model\n",
    "complete_final['month_period'] = complete_final['month_period'].dt.month"
   ]
  },
  {
   "cell_type": "code",
   "execution_count": null,
   "id": "f939b0f1",
   "metadata": {},
   "outputs": [],
   "source": [
    "complete_final['month_period'].unique()"
   ]
  },
  {
   "cell_type": "code",
   "execution_count": null,
   "id": "4e379033",
   "metadata": {},
   "outputs": [],
   "source": [
    "complete_final.info()"
   ]
  },
  {
   "cell_type": "markdown",
   "id": "3b1bb377",
   "metadata": {},
   "source": [
    "### Training and Predicting"
   ]
  },
  {
   "cell_type": "code",
   "execution_count": null,
   "id": "33fae903",
   "metadata": {},
   "outputs": [],
   "source": [
    "X = complete_final.drop('price_x',axis = 1)\n",
    "y = complete_final['price_x']"
   ]
  },
  {
   "cell_type": "code",
   "execution_count": null,
   "id": "00be5aeb",
   "metadata": {},
   "outputs": [],
   "source": [
    "X_train, X_test, y_train, y_test = train_test_split(X, y, test_size = .25, random_state = 42)"
   ]
  },
  {
   "cell_type": "code",
   "execution_count": null,
   "id": "13d6ee27",
   "metadata": {},
   "outputs": [],
   "source": [
    "model = LinearRegression()\n",
    "model.fit(X_train, y_train)"
   ]
  },
  {
   "cell_type": "code",
   "execution_count": null,
   "id": "2d062144",
   "metadata": {},
   "outputs": [],
   "source": [
    "# Making Predictions\n",
    "preds = model.predict(X_test)\n",
    "train_preds = model.predict(X_train)\n",
    "\n",
    "#r2_score\n",
    "train_accuracy = r2_score(y_train, train_preds)\n",
    "test_accuracy = r2_score(y_test, preds)\n",
    "print('training accuracy is:' , training_accuracy)\n",
    "print('testing accuracy is:' , test_accuracy)"
   ]
  },
  {
   "cell_type": "code",
   "execution_count": null,
   "id": "e4884a0b",
   "metadata": {},
   "outputs": [],
   "source": [
    "from sklearn.ensemble import RandomForestRegressor"
   ]
  },
  {
   "cell_type": "code",
   "execution_count": null,
   "id": "46b46538",
   "metadata": {},
   "outputs": [],
   "source": [
    "rfr = RandomForestRegressor(n_estimators=200, criterion = 'absolute_error', random_state=42)\n",
    "rfr.fit(X_train, y_train)\n",
    "\n",
    "# compute feature importances\n",
    "importances = rfr.feature_importances_\n",
    "\n",
    "# rank features by importance score\n",
    "indices = np.argsort(importances)[::-1]\n"
   ]
  },
  {
   "cell_type": "code",
   "execution_count": null,
   "id": "df8b4c65",
   "metadata": {},
   "outputs": [],
   "source": [
    "preds = rfr.predict(X_test)\n",
    "r2 = r2_score(y_test, preds)\n",
    "print('accuracy score for test: ', r2)"
   ]
  },
  {
   "cell_type": "code",
   "execution_count": null,
   "id": "18f8f631",
   "metadata": {},
   "outputs": [],
   "source": [
    "imp_feat = indices[:20].tolist()\n",
    "imp_feat"
   ]
  },
  {
   "cell_type": "code",
   "execution_count": null,
   "id": "f4702704",
   "metadata": {},
   "outputs": [],
   "source": [
    "important_features = listing_df_final.iloc[:,imp_feat]\n",
    "important_features\n",
    "print('the top 20 features that are most important for price prediction are: ')\n",
    "print(important_features.columns.tolist())"
   ]
  },
  {
   "cell_type": "markdown",
   "id": "171f214f",
   "metadata": {},
   "source": [
    "- The features that are the most important determinant of price are:\n",
    "    **'bedrooms', 'property_type', 'require_guest_phone_verification', 'bathrooms', 'accommodates', Availability, 'number_of_reviews', 'minimum_nights', 'guests_included', neighbourhood_group, dryer, beds, review_scores_communication**\n",
    "    \n",
    "> **We see that these talies with the correlation plot from earlier since we can find the same numerical features from the correlation plot as important features that can predict price**"
   ]
  },
  {
   "cell_type": "markdown",
   "id": "7dc7c2e1",
   "metadata": {},
   "source": [
    "### CONCLUSION: \n",
    "\n",
    "###### 1. Property type trends.\n",
    "the properties available in seattles airbnb listings are: **'Apartment', 'House', 'Cabin', 'Condominium', 'Camper/RV',\n",
    "       'Bungalow', 'Townhouse', 'Loft', 'Boat', 'Bed & Breakfast',\n",
    "       'Other', 'Dorm', 'Treehouse', 'Yurt', 'Chalet', 'Tent'**\n",
    "* **Houses and Apartments** are the most common properties accounting for about 90% of seattles listings. while the **Yurt** is the least common propety types.\n",
    "- **Boat** listings are the most expensive on the average while the cheapest on average are **Dorms**\n",
    "\n",
    "###### 2. Neighbourhood trends.\n",
    "Neighbourhood groups in the seattle area are: \n",
    "- The neighbourhood-group with the highest price on the average is the **Magnolia Neighbourhood.** Magnolia is the second largest neighborhood of Seattle, Washington by area (google). This and the fact that it is one of the neighbourhood group with the lowest number of listings (**meaning high brow area, with low units available**) may explain why it is the highest on average.\n",
    "- The most expensive neighbourhood_groups by average price are: **Magnolia, Queen Anne, Downtown, West_Seattle and Cascade**\n",
    "- The least expensive neighbourhood_groups on average are: **University District, Lake City, Rainier Valley, Northgate, Delridge**\n",
    "> 20 Most expensive neighbourhoods in order of decreasing average prices: **'Southeast Magnolia'** (which is in the magnolia Neighbourhood group), **'Portage Bay','Westlake','West Queen Anne','Montlake','Briarcliff','Sunset Hill', 'Industrial District','Alki','Windermere','Pioneer Square','Central Business District','Fauntleroy','Belltown','East Queen Anne','Madrona','Pike-Market','North Queen Anne','Green Lake','Lawton Park'**\n",
    "\n",
    "###### 3. Busiest times of the year to visit Seattle.\n",
    "\n",
    "- Listings are **mostly Unavailable** towards the middle of the year around the summer holiday periods (between **June** and **August**). This is most likely due to high demands around these periods.\n",
    "- The prices of listings on the average have an indirect realtionship with availability. The average prices of listings are therefore (as shown on the chart) higher around the Summer Season(June- August) and tend to be lower after august and before June. The prices also seemed to be on the average higher on the **weekends (Fridays and Saturdays)** and maintain lower prices on **weekdays and sundays**.\n",
    "\n",
    "- Anyone on a budget during the summer period should consider neighbourhoods like: **Delridge, Northgate, Lake City and Beacon Hill** which have prices under \\$120 on average during the summer period compared to Neighbourhood groups like **Downtown, Magnolia, Queen Anne, Cascade** doing a minimum of over \\\\$150 on average and going as high as \\$200 dollars on average in the summer.\n",
    "> **Note:** We can get Neighbourhoods that go as low as 30dollars in areas like Queen Anne and Downtown and other highbrow areas and get costly listings around low brow neighbourhoods too.\n",
    "\n",
    "###### 4. Is there a general upward trend of both new Airbnb listings and total Airbnb visitors to Seattle?\n",
    "- We see a general upward trend in the number of airbnb listings over the years with occasional dips\n",
    " > **Note:** the graph seems to dip in the end but that is only because the data stops on the 3rd day of january 2016.\n",
    " \n",
    "###### 5. The most important Factors that influenc price and can be used to predict price:\n",
    "- The features that are the most important determinant of price are:\n",
    "       **'bedrooms', 'property_type', 'require_guest_phone_verification', 'bathrooms', 'accommodates', Availability, 'number_of_reviews', 'minimum_nights', 'guests_included', neighbourhood_group, dryer, beds, review_scores_communication**"
   ]
  }
 ],
 "metadata": {
  "kernelspec": {
   "display_name": "Python 3 (ipykernel)",
   "language": "python",
   "name": "python3"
  },
  "language_info": {
   "codemirror_mode": {
    "name": "ipython",
    "version": 3
   },
   "file_extension": ".py",
   "mimetype": "text/x-python",
   "name": "python",
   "nbconvert_exporter": "python",
   "pygments_lexer": "ipython3",
   "version": "3.9.13"
  }
 },
 "nbformat": 4,
 "nbformat_minor": 5
}
