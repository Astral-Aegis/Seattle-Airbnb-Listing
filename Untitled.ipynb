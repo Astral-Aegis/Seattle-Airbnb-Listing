{
 "cells": [
  {
   "attachments": {},
   "cell_type": "markdown",
   "id": "ca92f745",
   "metadata": {},
   "source": [
    "## Airbnb Seattle Dataset - Darlington_Aibangbee (Data_Science project)\n",
    "### About Dataset\n",
    "#### Context\n",
    "Since 2008, guests and hosts have used Airbnb to travel in a more unique, personalized way. As part of the Airbnb Inside initiative, this dataset describes the listing activity of homestays in Seattle, WA.\n",
    "\n",
    "#### Content\n",
    "The following Airbnb activity is included in this Seattle dataset:\n",
    "\n",
    "- Listings: including full descriptions and average review score\n",
    "- Reviews: including unique id for each reviewer and detailed comments\n",
    "- Calendar: including listing id and the price and availability for that day\n",
    "\n",
    "Acknowledgement\n",
    "This dataset is part of Airbnb Inside, and the original source can be found here."
   ]
  },
  {
   "cell_type": "markdown",
   "id": "f9eae4cf",
   "metadata": {},
   "source": [
    "Questions to Answer:\n",
    "\n",
    "- What are the types of properties available in seattle's listings? What are thier prices on average?\n",
    "- What are the neighbourhood trends? What neighbourhoods have the most expensive and cheapest listings?\n",
    "- What are the busiest times of the year to visit Seattle? By how much do prices spike?\n",
    "- Is there a general upward trend of both new Airbnb listings and total Airbnb visitors to Seattle?\n",
    "- What are the important features that predict price"
   ]
  },
  {
   "cell_type": "code",
   "execution_count": null,
   "id": "d559046a",
   "metadata": {},
   "outputs": [],
   "source": [
    "## Loading Libraries\n",
    "import numpy as np\n",
    "import pandas as pd\n",
    "import matplotlib.pyplot as plt\n",
    "from sklearn.linear_model import LinearRegression\n",
    "from sklearn.model_selection import train_test_split\n",
    "from sklearn.metrics import r2_score, mean_squared_error,accuracy_score\n",
    "import seaborn as sns\n",
    "%matplotlib inline\n",
    "import random"
   ]
  },
  {
   "cell_type": "code",
   "execution_count": null,
   "id": "1a346091",
   "metadata": {},
   "outputs": [],
   "source": [
    "#reading in all csv files to dataframes\n",
    "listing_df = pd.read_csv('listings.csv')\n",
    "calendar_df = pd.read_csv('calendar.csv')\n",
    "reviews_df = pd.read_csv('reviews.csv')"
   ]
  },
  {
   "cell_type": "code",
   "execution_count": null,
   "id": "cd83ce0e",
   "metadata": {},
   "outputs": [
    {
     "name": "stdout",
     "output_type": "stream",
     "text": [
      "<class 'pandas.core.frame.DataFrame'>\n",
      "RangeIndex: 3818 entries, 0 to 3817\n",
      "Data columns (total 92 columns):\n",
      " #   Column                            Non-Null Count  Dtype  \n",
      "---  ------                            --------------  -----  \n",
      " 0   id                                3818 non-null   int64  \n",
      " 1   listing_url                       3818 non-null   object \n",
      " 2   scrape_id                         3818 non-null   int64  \n",
      " 3   last_scraped                      3818 non-null   object \n",
      " 4   name                              3818 non-null   object \n",
      " 5   summary                           3641 non-null   object \n",
      " 6   space                             3249 non-null   object \n",
      " 7   description                       3818 non-null   object \n",
      " 8   experiences_offered               3818 non-null   object \n",
      " 9   neighborhood_overview             2786 non-null   object \n",
      " 10  notes                             2212 non-null   object \n",
      " 11  transit                           2884 non-null   object \n",
      " 12  thumbnail_url                     3498 non-null   object \n",
      " 13  medium_url                        3498 non-null   object \n",
      " 14  picture_url                       3818 non-null   object \n",
      " 15  xl_picture_url                    3498 non-null   object \n",
      " 16  host_id                           3818 non-null   int64  \n",
      " 17  host_url                          3818 non-null   object \n",
      " 18  host_name                         3816 non-null   object \n",
      " 19  host_since                        3816 non-null   object \n",
      " 20  host_location                     3810 non-null   object \n",
      " 21  host_about                        2959 non-null   object \n",
      " 22  host_response_time                3295 non-null   object \n",
      " 23  host_response_rate                3295 non-null   object \n",
      " 24  host_acceptance_rate              3045 non-null   object \n",
      " 25  host_is_superhost                 3816 non-null   object \n",
      " 26  host_thumbnail_url                3816 non-null   object \n",
      " 27  host_picture_url                  3816 non-null   object \n",
      " 28  host_neighbourhood                3518 non-null   object \n",
      " 29  host_listings_count               3816 non-null   float64\n",
      " 30  host_total_listings_count         3816 non-null   float64\n",
      " 31  host_verifications                3818 non-null   object \n",
      " 32  host_has_profile_pic              3816 non-null   object \n",
      " 33  host_identity_verified            3816 non-null   object \n",
      " 34  street                            3818 non-null   object \n",
      " 35  neighbourhood                     3402 non-null   object \n",
      " 36  neighbourhood_cleansed            3818 non-null   object \n",
      " 37  neighbourhood_group_cleansed      3818 non-null   object \n",
      " 38  city                              3818 non-null   object \n",
      " 39  state                             3818 non-null   object \n",
      " 40  zipcode                           3811 non-null   object \n",
      " 41  market                            3818 non-null   object \n",
      " 42  smart_location                    3818 non-null   object \n",
      " 43  country_code                      3818 non-null   object \n",
      " 44  country                           3818 non-null   object \n",
      " 45  latitude                          3818 non-null   float64\n",
      " 46  longitude                         3818 non-null   float64\n",
      " 47  is_location_exact                 3818 non-null   object \n",
      " 48  property_type                     3817 non-null   object \n",
      " 49  room_type                         3818 non-null   object \n",
      " 50  accommodates                      3818 non-null   int64  \n",
      " 51  bathrooms                         3802 non-null   float64\n",
      " 52  bedrooms                          3812 non-null   float64\n",
      " 53  beds                              3817 non-null   float64\n",
      " 54  bed_type                          3818 non-null   object \n",
      " 55  amenities                         3818 non-null   object \n",
      " 56  square_feet                       97 non-null     float64\n",
      " 57  price                             3818 non-null   object \n",
      " 58  weekly_price                      2009 non-null   object \n",
      " 59  monthly_price                     1517 non-null   object \n",
      " 60  security_deposit                  1866 non-null   object \n",
      " 61  cleaning_fee                      2788 non-null   object \n",
      " 62  guests_included                   3818 non-null   int64  \n",
      " 63  extra_people                      3818 non-null   object \n",
      " 64  minimum_nights                    3818 non-null   int64  \n",
      " 65  maximum_nights                    3818 non-null   int64  \n",
      " 66  calendar_updated                  3818 non-null   object \n",
      " 67  has_availability                  3818 non-null   object \n",
      " 68  availability_30                   3818 non-null   int64  \n",
      " 69  availability_60                   3818 non-null   int64  \n",
      " 70  availability_90                   3818 non-null   int64  \n",
      " 71  availability_365                  3818 non-null   int64  \n",
      " 72  calendar_last_scraped             3818 non-null   object \n",
      " 73  number_of_reviews                 3818 non-null   int64  \n",
      " 74  first_review                      3191 non-null   object \n",
      " 75  last_review                       3191 non-null   object \n",
      " 76  review_scores_rating              3171 non-null   float64\n",
      " 77  review_scores_accuracy            3160 non-null   float64\n",
      " 78  review_scores_cleanliness         3165 non-null   float64\n",
      " 79  review_scores_checkin             3160 non-null   float64\n",
      " 80  review_scores_communication       3167 non-null   float64\n",
      " 81  review_scores_location            3163 non-null   float64\n",
      " 82  review_scores_value               3162 non-null   float64\n",
      " 83  requires_license                  3818 non-null   object \n",
      " 84  license                           0 non-null      float64\n",
      " 85  jurisdiction_names                3818 non-null   object \n",
      " 86  instant_bookable                  3818 non-null   object \n",
      " 87  cancellation_policy               3818 non-null   object \n",
      " 88  require_guest_profile_picture     3818 non-null   object \n",
      " 89  require_guest_phone_verification  3818 non-null   object \n",
      " 90  calculated_host_listings_count    3818 non-null   int64  \n",
      " 91  reviews_per_month                 3191 non-null   float64\n",
      "dtypes: float64(17), int64(13), object(62)\n",
      "memory usage: 2.7+ MB\n"
     ]
    }
   ],
   "source": [
    "listing_df.info()"
   ]
  },
  {
   "cell_type": "code",
   "execution_count": null,
   "id": "4f26aee6",
   "metadata": {},
   "outputs": [
    {
     "data": {
      "text/html": [
       "<div>\n",
       "<style scoped>\n",
       "    .dataframe tbody tr th:only-of-type {\n",
       "        vertical-align: middle;\n",
       "    }\n",
       "\n",
       "    .dataframe tbody tr th {\n",
       "        vertical-align: top;\n",
       "    }\n",
       "\n",
       "    .dataframe thead th {\n",
       "        text-align: right;\n",
       "    }\n",
       "</style>\n",
       "<table border=\"1\" class=\"dataframe\">\n",
       "  <thead>\n",
       "    <tr style=\"text-align: right;\">\n",
       "      <th></th>\n",
       "      <th>id</th>\n",
       "      <th>listing_url</th>\n",
       "      <th>scrape_id</th>\n",
       "      <th>last_scraped</th>\n",
       "      <th>name</th>\n",
       "      <th>summary</th>\n",
       "      <th>space</th>\n",
       "      <th>description</th>\n",
       "      <th>experiences_offered</th>\n",
       "      <th>neighborhood_overview</th>\n",
       "      <th>...</th>\n",
       "      <th>review_scores_value</th>\n",
       "      <th>requires_license</th>\n",
       "      <th>license</th>\n",
       "      <th>jurisdiction_names</th>\n",
       "      <th>instant_bookable</th>\n",
       "      <th>cancellation_policy</th>\n",
       "      <th>require_guest_profile_picture</th>\n",
       "      <th>require_guest_phone_verification</th>\n",
       "      <th>calculated_host_listings_count</th>\n",
       "      <th>reviews_per_month</th>\n",
       "    </tr>\n",
       "  </thead>\n",
       "  <tbody>\n",
       "    <tr>\n",
       "      <th>0</th>\n",
       "      <td>241032</td>\n",
       "      <td>https://www.airbnb.com/rooms/241032</td>\n",
       "      <td>20160104002432</td>\n",
       "      <td>2016-01-04</td>\n",
       "      <td>Stylish Queen Anne Apartment</td>\n",
       "      <td>NaN</td>\n",
       "      <td>Make your self at home in this charming one-be...</td>\n",
       "      <td>Make your self at home in this charming one-be...</td>\n",
       "      <td>none</td>\n",
       "      <td>NaN</td>\n",
       "      <td>...</td>\n",
       "      <td>10.0</td>\n",
       "      <td>f</td>\n",
       "      <td>NaN</td>\n",
       "      <td>WASHINGTON</td>\n",
       "      <td>f</td>\n",
       "      <td>moderate</td>\n",
       "      <td>f</td>\n",
       "      <td>f</td>\n",
       "      <td>2</td>\n",
       "      <td>4.07</td>\n",
       "    </tr>\n",
       "    <tr>\n",
       "      <th>1</th>\n",
       "      <td>953595</td>\n",
       "      <td>https://www.airbnb.com/rooms/953595</td>\n",
       "      <td>20160104002432</td>\n",
       "      <td>2016-01-04</td>\n",
       "      <td>Bright &amp; Airy Queen Anne Apartment</td>\n",
       "      <td>Chemically sensitive? We've removed the irrita...</td>\n",
       "      <td>Beautiful, hypoallergenic apartment in an extr...</td>\n",
       "      <td>Chemically sensitive? We've removed the irrita...</td>\n",
       "      <td>none</td>\n",
       "      <td>Queen Anne is a wonderful, truly functional vi...</td>\n",
       "      <td>...</td>\n",
       "      <td>10.0</td>\n",
       "      <td>f</td>\n",
       "      <td>NaN</td>\n",
       "      <td>WASHINGTON</td>\n",
       "      <td>f</td>\n",
       "      <td>strict</td>\n",
       "      <td>t</td>\n",
       "      <td>t</td>\n",
       "      <td>6</td>\n",
       "      <td>1.48</td>\n",
       "    </tr>\n",
       "    <tr>\n",
       "      <th>2</th>\n",
       "      <td>3308979</td>\n",
       "      <td>https://www.airbnb.com/rooms/3308979</td>\n",
       "      <td>20160104002432</td>\n",
       "      <td>2016-01-04</td>\n",
       "      <td>New Modern House-Amazing water view</td>\n",
       "      <td>New modern house built in 2013.  Spectacular s...</td>\n",
       "      <td>Our house is modern, light and fresh with a wa...</td>\n",
       "      <td>New modern house built in 2013.  Spectacular s...</td>\n",
       "      <td>none</td>\n",
       "      <td>Upper Queen Anne is a charming neighborhood fu...</td>\n",
       "      <td>...</td>\n",
       "      <td>10.0</td>\n",
       "      <td>f</td>\n",
       "      <td>NaN</td>\n",
       "      <td>WASHINGTON</td>\n",
       "      <td>f</td>\n",
       "      <td>strict</td>\n",
       "      <td>f</td>\n",
       "      <td>f</td>\n",
       "      <td>2</td>\n",
       "      <td>1.15</td>\n",
       "    </tr>\n",
       "    <tr>\n",
       "      <th>3</th>\n",
       "      <td>7421966</td>\n",
       "      <td>https://www.airbnb.com/rooms/7421966</td>\n",
       "      <td>20160104002432</td>\n",
       "      <td>2016-01-04</td>\n",
       "      <td>Queen Anne Chateau</td>\n",
       "      <td>A charming apartment that sits atop Queen Anne...</td>\n",
       "      <td>NaN</td>\n",
       "      <td>A charming apartment that sits atop Queen Anne...</td>\n",
       "      <td>none</td>\n",
       "      <td>NaN</td>\n",
       "      <td>...</td>\n",
       "      <td>NaN</td>\n",
       "      <td>f</td>\n",
       "      <td>NaN</td>\n",
       "      <td>WASHINGTON</td>\n",
       "      <td>f</td>\n",
       "      <td>flexible</td>\n",
       "      <td>f</td>\n",
       "      <td>f</td>\n",
       "      <td>1</td>\n",
       "      <td>NaN</td>\n",
       "    </tr>\n",
       "  </tbody>\n",
       "</table>\n",
       "<p>4 rows × 92 columns</p>\n",
       "</div>"
      ],
      "text/plain": [
       "        id                           listing_url       scrape_id last_scraped  \\\n",
       "0   241032   https://www.airbnb.com/rooms/241032  20160104002432   2016-01-04   \n",
       "1   953595   https://www.airbnb.com/rooms/953595  20160104002432   2016-01-04   \n",
       "2  3308979  https://www.airbnb.com/rooms/3308979  20160104002432   2016-01-04   \n",
       "3  7421966  https://www.airbnb.com/rooms/7421966  20160104002432   2016-01-04   \n",
       "\n",
       "                                  name  \\\n",
       "0         Stylish Queen Anne Apartment   \n",
       "1   Bright & Airy Queen Anne Apartment   \n",
       "2  New Modern House-Amazing water view   \n",
       "3                   Queen Anne Chateau   \n",
       "\n",
       "                                             summary  \\\n",
       "0                                                NaN   \n",
       "1  Chemically sensitive? We've removed the irrita...   \n",
       "2  New modern house built in 2013.  Spectacular s...   \n",
       "3  A charming apartment that sits atop Queen Anne...   \n",
       "\n",
       "                                               space  \\\n",
       "0  Make your self at home in this charming one-be...   \n",
       "1  Beautiful, hypoallergenic apartment in an extr...   \n",
       "2  Our house is modern, light and fresh with a wa...   \n",
       "3                                                NaN   \n",
       "\n",
       "                                         description experiences_offered  \\\n",
       "0  Make your self at home in this charming one-be...                none   \n",
       "1  Chemically sensitive? We've removed the irrita...                none   \n",
       "2  New modern house built in 2013.  Spectacular s...                none   \n",
       "3  A charming apartment that sits atop Queen Anne...                none   \n",
       "\n",
       "                               neighborhood_overview  ... review_scores_value  \\\n",
       "0                                                NaN  ...                10.0   \n",
       "1  Queen Anne is a wonderful, truly functional vi...  ...                10.0   \n",
       "2  Upper Queen Anne is a charming neighborhood fu...  ...                10.0   \n",
       "3                                                NaN  ...                 NaN   \n",
       "\n",
       "  requires_license license jurisdiction_names instant_bookable  \\\n",
       "0                f     NaN         WASHINGTON                f   \n",
       "1                f     NaN         WASHINGTON                f   \n",
       "2                f     NaN         WASHINGTON                f   \n",
       "3                f     NaN         WASHINGTON                f   \n",
       "\n",
       "  cancellation_policy  require_guest_profile_picture  \\\n",
       "0            moderate                              f   \n",
       "1              strict                              t   \n",
       "2              strict                              f   \n",
       "3            flexible                              f   \n",
       "\n",
       "  require_guest_phone_verification calculated_host_listings_count  \\\n",
       "0                                f                              2   \n",
       "1                                t                              6   \n",
       "2                                f                              2   \n",
       "3                                f                              1   \n",
       "\n",
       "  reviews_per_month  \n",
       "0              4.07  \n",
       "1              1.48  \n",
       "2              1.15  \n",
       "3               NaN  \n",
       "\n",
       "[4 rows x 92 columns]"
      ]
     },
     "execution_count": 4,
     "metadata": {},
     "output_type": "execute_result"
    }
   ],
   "source": [
    "listing_df.head(4)"
   ]
  },
  {
   "cell_type": "code",
   "execution_count": null,
   "id": "dd127faa",
   "metadata": {},
   "outputs": [
    {
     "name": "stdout",
     "output_type": "stream",
     "text": [
      "<class 'pandas.core.frame.DataFrame'>\n",
      "RangeIndex: 3818 entries, 0 to 3817\n",
      "Data columns (total 92 columns):\n",
      " #   Column                            Non-Null Count  Dtype  \n",
      "---  ------                            --------------  -----  \n",
      " 0   id                                3818 non-null   int64  \n",
      " 1   listing_url                       3818 non-null   object \n",
      " 2   scrape_id                         3818 non-null   int64  \n",
      " 3   last_scraped                      3818 non-null   object \n",
      " 4   name                              3818 non-null   object \n",
      " 5   summary                           3641 non-null   object \n",
      " 6   space                             3249 non-null   object \n",
      " 7   description                       3818 non-null   object \n",
      " 8   experiences_offered               3818 non-null   object \n",
      " 9   neighborhood_overview             2786 non-null   object \n",
      " 10  notes                             2212 non-null   object \n",
      " 11  transit                           2884 non-null   object \n",
      " 12  thumbnail_url                     3498 non-null   object \n",
      " 13  medium_url                        3498 non-null   object \n",
      " 14  picture_url                       3818 non-null   object \n",
      " 15  xl_picture_url                    3498 non-null   object \n",
      " 16  host_id                           3818 non-null   int64  \n",
      " 17  host_url                          3818 non-null   object \n",
      " 18  host_name                         3816 non-null   object \n",
      " 19  host_since                        3816 non-null   object \n",
      " 20  host_location                     3810 non-null   object \n",
      " 21  host_about                        2959 non-null   object \n",
      " 22  host_response_time                3295 non-null   object \n",
      " 23  host_response_rate                3295 non-null   object \n",
      " 24  host_acceptance_rate              3045 non-null   object \n",
      " 25  host_is_superhost                 3816 non-null   object \n",
      " 26  host_thumbnail_url                3816 non-null   object \n",
      " 27  host_picture_url                  3816 non-null   object \n",
      " 28  host_neighbourhood                3518 non-null   object \n",
      " 29  host_listings_count               3816 non-null   float64\n",
      " 30  host_total_listings_count         3816 non-null   float64\n",
      " 31  host_verifications                3818 non-null   object \n",
      " 32  host_has_profile_pic              3816 non-null   object \n",
      " 33  host_identity_verified            3816 non-null   object \n",
      " 34  street                            3818 non-null   object \n",
      " 35  neighbourhood                     3402 non-null   object \n",
      " 36  neighbourhood_cleansed            3818 non-null   object \n",
      " 37  neighbourhood_group_cleansed      3818 non-null   object \n",
      " 38  city                              3818 non-null   object \n",
      " 39  state                             3818 non-null   object \n",
      " 40  zipcode                           3811 non-null   object \n",
      " 41  market                            3818 non-null   object \n",
      " 42  smart_location                    3818 non-null   object \n",
      " 43  country_code                      3818 non-null   object \n",
      " 44  country                           3818 non-null   object \n",
      " 45  latitude                          3818 non-null   float64\n",
      " 46  longitude                         3818 non-null   float64\n",
      " 47  is_location_exact                 3818 non-null   object \n",
      " 48  property_type                     3817 non-null   object \n",
      " 49  room_type                         3818 non-null   object \n",
      " 50  accommodates                      3818 non-null   int64  \n",
      " 51  bathrooms                         3802 non-null   float64\n",
      " 52  bedrooms                          3812 non-null   float64\n",
      " 53  beds                              3817 non-null   float64\n",
      " 54  bed_type                          3818 non-null   object \n",
      " 55  amenities                         3818 non-null   object \n",
      " 56  square_feet                       97 non-null     float64\n",
      " 57  price                             3818 non-null   object \n",
      " 58  weekly_price                      2009 non-null   object \n",
      " 59  monthly_price                     1517 non-null   object \n",
      " 60  security_deposit                  1866 non-null   object \n",
      " 61  cleaning_fee                      2788 non-null   object \n",
      " 62  guests_included                   3818 non-null   int64  \n",
      " 63  extra_people                      3818 non-null   object \n",
      " 64  minimum_nights                    3818 non-null   int64  \n",
      " 65  maximum_nights                    3818 non-null   int64  \n",
      " 66  calendar_updated                  3818 non-null   object \n",
      " 67  has_availability                  3818 non-null   object \n",
      " 68  availability_30                   3818 non-null   int64  \n",
      " 69  availability_60                   3818 non-null   int64  \n",
      " 70  availability_90                   3818 non-null   int64  \n",
      " 71  availability_365                  3818 non-null   int64  \n",
      " 72  calendar_last_scraped             3818 non-null   object \n",
      " 73  number_of_reviews                 3818 non-null   int64  \n",
      " 74  first_review                      3191 non-null   object \n",
      " 75  last_review                       3191 non-null   object \n",
      " 76  review_scores_rating              3171 non-null   float64\n",
      " 77  review_scores_accuracy            3160 non-null   float64\n",
      " 78  review_scores_cleanliness         3165 non-null   float64\n",
      " 79  review_scores_checkin             3160 non-null   float64\n",
      " 80  review_scores_communication       3167 non-null   float64\n",
      " 81  review_scores_location            3163 non-null   float64\n",
      " 82  review_scores_value               3162 non-null   float64\n",
      " 83  requires_license                  3818 non-null   object \n",
      " 84  license                           0 non-null      float64\n",
      " 85  jurisdiction_names                3818 non-null   object \n",
      " 86  instant_bookable                  3818 non-null   object \n",
      " 87  cancellation_policy               3818 non-null   object \n",
      " 88  require_guest_profile_picture     3818 non-null   object \n",
      " 89  require_guest_phone_verification  3818 non-null   object \n",
      " 90  calculated_host_listings_count    3818 non-null   int64  \n",
      " 91  reviews_per_month                 3191 non-null   float64\n",
      "dtypes: float64(17), int64(13), object(62)\n",
      "memory usage: 2.7+ MB\n"
     ]
    }
   ],
   "source": [
    "#listing dataframe information\n",
    "listing_df.info()"
   ]
  },
  {
   "cell_type": "code",
   "execution_count": null,
   "id": "e862e447",
   "metadata": {},
   "outputs": [
    {
     "data": {
      "text/html": [
       "<div>\n",
       "<style scoped>\n",
       "    .dataframe tbody tr th:only-of-type {\n",
       "        vertical-align: middle;\n",
       "    }\n",
       "\n",
       "    .dataframe tbody tr th {\n",
       "        vertical-align: top;\n",
       "    }\n",
       "\n",
       "    .dataframe thead th {\n",
       "        text-align: right;\n",
       "    }\n",
       "</style>\n",
       "<table border=\"1\" class=\"dataframe\">\n",
       "  <thead>\n",
       "    <tr style=\"text-align: right;\">\n",
       "      <th></th>\n",
       "      <th>listing_id</th>\n",
       "      <th>date</th>\n",
       "      <th>available</th>\n",
       "      <th>price</th>\n",
       "    </tr>\n",
       "  </thead>\n",
       "  <tbody>\n",
       "    <tr>\n",
       "      <th>0</th>\n",
       "      <td>241032</td>\n",
       "      <td>2016-01-04</td>\n",
       "      <td>t</td>\n",
       "      <td>$85.00</td>\n",
       "    </tr>\n",
       "    <tr>\n",
       "      <th>1</th>\n",
       "      <td>241032</td>\n",
       "      <td>2016-01-05</td>\n",
       "      <td>t</td>\n",
       "      <td>$85.00</td>\n",
       "    </tr>\n",
       "    <tr>\n",
       "      <th>2</th>\n",
       "      <td>241032</td>\n",
       "      <td>2016-01-06</td>\n",
       "      <td>f</td>\n",
       "      <td>NaN</td>\n",
       "    </tr>\n",
       "    <tr>\n",
       "      <th>3</th>\n",
       "      <td>241032</td>\n",
       "      <td>2016-01-07</td>\n",
       "      <td>f</td>\n",
       "      <td>NaN</td>\n",
       "    </tr>\n",
       "    <tr>\n",
       "      <th>4</th>\n",
       "      <td>241032</td>\n",
       "      <td>2016-01-08</td>\n",
       "      <td>f</td>\n",
       "      <td>NaN</td>\n",
       "    </tr>\n",
       "  </tbody>\n",
       "</table>\n",
       "</div>"
      ],
      "text/plain": [
       "   listing_id        date available   price\n",
       "0      241032  2016-01-04         t  $85.00\n",
       "1      241032  2016-01-05         t  $85.00\n",
       "2      241032  2016-01-06         f     NaN\n",
       "3      241032  2016-01-07         f     NaN\n",
       "4      241032  2016-01-08         f     NaN"
      ]
     },
     "execution_count": 6,
     "metadata": {},
     "output_type": "execute_result"
    }
   ],
   "source": [
    "calendar_df.head()"
   ]
  },
  {
   "cell_type": "code",
   "execution_count": null,
   "id": "73afd561",
   "metadata": {},
   "outputs": [
    {
     "name": "stdout",
     "output_type": "stream",
     "text": [
      "<class 'pandas.core.frame.DataFrame'>\n",
      "RangeIndex: 1393570 entries, 0 to 1393569\n",
      "Data columns (total 4 columns):\n",
      " #   Column      Non-Null Count    Dtype \n",
      "---  ------      --------------    ----- \n",
      " 0   listing_id  1393570 non-null  int64 \n",
      " 1   date        1393570 non-null  object\n",
      " 2   available   1393570 non-null  object\n",
      " 3   price       934542 non-null   object\n",
      "dtypes: int64(1), object(3)\n",
      "memory usage: 42.5+ MB\n"
     ]
    }
   ],
   "source": [
    "calendar_df.info()"
   ]
  },
  {
   "cell_type": "code",
   "execution_count": null,
   "id": "f92950d5",
   "metadata": {},
   "outputs": [
    {
     "name": "stdout",
     "output_type": "stream",
     "text": [
      "<class 'pandas.core.frame.DataFrame'>\n",
      "RangeIndex: 84849 entries, 0 to 84848\n",
      "Data columns (total 6 columns):\n",
      " #   Column         Non-Null Count  Dtype \n",
      "---  ------         --------------  ----- \n",
      " 0   listing_id     84849 non-null  int64 \n",
      " 1   id             84849 non-null  int64 \n",
      " 2   date           84849 non-null  object\n",
      " 3   reviewer_id    84849 non-null  int64 \n",
      " 4   reviewer_name  84849 non-null  object\n",
      " 5   comments       84831 non-null  object\n",
      "dtypes: int64(3), object(3)\n",
      "memory usage: 3.9+ MB\n"
     ]
    }
   ],
   "source": [
    "reviews_df.info()"
   ]
  },
  {
   "cell_type": "code",
   "execution_count": null,
   "id": "ad9e4195",
   "metadata": {},
   "outputs": [
    {
     "data": {
      "text/html": [
       "<div>\n",
       "<style scoped>\n",
       "    .dataframe tbody tr th:only-of-type {\n",
       "        vertical-align: middle;\n",
       "    }\n",
       "\n",
       "    .dataframe tbody tr th {\n",
       "        vertical-align: top;\n",
       "    }\n",
       "\n",
       "    .dataframe thead th {\n",
       "        text-align: right;\n",
       "    }\n",
       "</style>\n",
       "<table border=\"1\" class=\"dataframe\">\n",
       "  <thead>\n",
       "    <tr style=\"text-align: right;\">\n",
       "      <th></th>\n",
       "      <th>listing_id</th>\n",
       "      <th>id</th>\n",
       "      <th>date</th>\n",
       "      <th>reviewer_id</th>\n",
       "      <th>reviewer_name</th>\n",
       "      <th>comments</th>\n",
       "    </tr>\n",
       "  </thead>\n",
       "  <tbody>\n",
       "    <tr>\n",
       "      <th>0</th>\n",
       "      <td>7202016</td>\n",
       "      <td>38917982</td>\n",
       "      <td>2015-07-19</td>\n",
       "      <td>28943674</td>\n",
       "      <td>Bianca</td>\n",
       "      <td>Cute and cozy place. Perfect location to every...</td>\n",
       "    </tr>\n",
       "    <tr>\n",
       "      <th>1</th>\n",
       "      <td>7202016</td>\n",
       "      <td>39087409</td>\n",
       "      <td>2015-07-20</td>\n",
       "      <td>32440555</td>\n",
       "      <td>Frank</td>\n",
       "      <td>Kelly has a great room in a very central locat...</td>\n",
       "    </tr>\n",
       "    <tr>\n",
       "      <th>2</th>\n",
       "      <td>7202016</td>\n",
       "      <td>39820030</td>\n",
       "      <td>2015-07-26</td>\n",
       "      <td>37722850</td>\n",
       "      <td>Ian</td>\n",
       "      <td>Very spacious apartment, and in a great neighb...</td>\n",
       "    </tr>\n",
       "    <tr>\n",
       "      <th>3</th>\n",
       "      <td>7202016</td>\n",
       "      <td>40813543</td>\n",
       "      <td>2015-08-02</td>\n",
       "      <td>33671805</td>\n",
       "      <td>George</td>\n",
       "      <td>Close to Seattle Center and all it has to offe...</td>\n",
       "    </tr>\n",
       "    <tr>\n",
       "      <th>4</th>\n",
       "      <td>7202016</td>\n",
       "      <td>41986501</td>\n",
       "      <td>2015-08-10</td>\n",
       "      <td>34959538</td>\n",
       "      <td>Ming</td>\n",
       "      <td>Kelly was a great host and very accommodating ...</td>\n",
       "    </tr>\n",
       "  </tbody>\n",
       "</table>\n",
       "</div>"
      ],
      "text/plain": [
       "   listing_id        id        date  reviewer_id reviewer_name  \\\n",
       "0     7202016  38917982  2015-07-19     28943674        Bianca   \n",
       "1     7202016  39087409  2015-07-20     32440555         Frank   \n",
       "2     7202016  39820030  2015-07-26     37722850           Ian   \n",
       "3     7202016  40813543  2015-08-02     33671805        George   \n",
       "4     7202016  41986501  2015-08-10     34959538          Ming   \n",
       "\n",
       "                                            comments  \n",
       "0  Cute and cozy place. Perfect location to every...  \n",
       "1  Kelly has a great room in a very central locat...  \n",
       "2  Very spacious apartment, and in a great neighb...  \n",
       "3  Close to Seattle Center and all it has to offe...  \n",
       "4  Kelly was a great host and very accommodating ...  "
      ]
     },
     "execution_count": 9,
     "metadata": {},
     "output_type": "execute_result"
    }
   ],
   "source": [
    "reviews_df.head()"
   ]
  },
  {
   "cell_type": "markdown",
   "id": "ae7873d7",
   "metadata": {},
   "source": [
    "## Data Cleaning and Preparation"
   ]
  },
  {
   "cell_type": "markdown",
   "id": "d40307ce",
   "metadata": {},
   "source": [
    "#### Cleaning the Listing dataframe listing_df"
   ]
  },
  {
   "cell_type": "code",
   "execution_count": null,
   "id": "3d72ed28",
   "metadata": {},
   "outputs": [
    {
     "data": {
      "text/plain": [
       "summary                        True\n",
       "space                          True\n",
       "neighborhood_overview          True\n",
       "notes                          True\n",
       "transit                        True\n",
       "thumbnail_url                  True\n",
       "medium_url                     True\n",
       "xl_picture_url                 True\n",
       "host_name                      True\n",
       "host_since                     True\n",
       "host_location                  True\n",
       "host_about                     True\n",
       "host_response_time             True\n",
       "host_response_rate             True\n",
       "host_acceptance_rate           True\n",
       "host_is_superhost              True\n",
       "host_thumbnail_url             True\n",
       "host_picture_url               True\n",
       "host_neighbourhood             True\n",
       "host_listings_count            True\n",
       "host_total_listings_count      True\n",
       "host_has_profile_pic           True\n",
       "host_identity_verified         True\n",
       "neighbourhood                  True\n",
       "zipcode                        True\n",
       "property_type                  True\n",
       "bathrooms                      True\n",
       "bedrooms                       True\n",
       "beds                           True\n",
       "square_feet                    True\n",
       "weekly_price                   True\n",
       "monthly_price                  True\n",
       "security_deposit               True\n",
       "cleaning_fee                   True\n",
       "first_review                   True\n",
       "last_review                    True\n",
       "review_scores_rating           True\n",
       "review_scores_accuracy         True\n",
       "review_scores_cleanliness      True\n",
       "review_scores_checkin          True\n",
       "review_scores_communication    True\n",
       "review_scores_location         True\n",
       "review_scores_value            True\n",
       "license                        True\n",
       "reviews_per_month              True\n",
       "dtype: bool"
      ]
     },
     "execution_count": 10,
     "metadata": {},
     "output_type": "execute_result"
    }
   ],
   "source": [
    "## Showing columns with missing values \n",
    "listing_df.isna().any()[listing_df.isna().any() == True]"
   ]
  },
  {
   "cell_type": "code",
   "execution_count": null,
   "id": "026ffc81",
   "metadata": {},
   "outputs": [
    {
     "data": {
      "text/plain": [
       "license                  1.000000\n",
       "square_feet              0.974594\n",
       "monthly_price            0.602672\n",
       "security_deposit         0.511262\n",
       "weekly_price             0.473808\n",
       "notes                    0.420639\n",
       "neighborhood_overview    0.270299\n",
       "cleaning_fee             0.269775\n",
       "transit                  0.244631\n",
       "host_about               0.224987\n",
       "dtype: float64"
      ]
     },
     "execution_count": 11,
     "metadata": {},
     "output_type": "execute_result"
    }
   ],
   "source": [
    "#Top missing features\n",
    "listing_df.isnull().mean().sort_values(ascending = False).nlargest(10)"
   ]
  },
  {
   "cell_type": "code",
   "execution_count": null,
   "id": "d9288100",
   "metadata": {},
   "outputs": [],
   "source": [
    "#Proportion of missing values in each feature of the listings dataframe\n",
    "prop_missing = listing_df.isnull().mean()\n",
    "prop_missing_40 = prop_missing[prop_missing > .4]\n",
    "missing_over40percent = prop_missing_40.index.tolist()"
   ]
  },
  {
   "cell_type": "code",
   "execution_count": null,
   "id": "a888273f",
   "metadata": {},
   "outputs": [],
   "source": [
    "listing_df.drop(missing_over40percent, axis = 1, inplace = True)"
   ]
  },
  {
   "cell_type": "code",
   "execution_count": null,
   "id": "b5ec1be9",
   "metadata": {},
   "outputs": [
    {
     "data": {
      "text/plain": [
       "Index(['id', 'listing_url', 'scrape_id', 'last_scraped', 'name', 'summary',\n",
       "       'space', 'description', 'experiences_offered', 'neighborhood_overview',\n",
       "       'transit', 'thumbnail_url', 'medium_url', 'picture_url',\n",
       "       'xl_picture_url', 'host_id', 'host_url', 'host_name', 'host_since',\n",
       "       'host_location', 'host_about', 'host_response_time',\n",
       "       'host_response_rate', 'host_acceptance_rate', 'host_is_superhost',\n",
       "       'host_thumbnail_url', 'host_picture_url', 'host_neighbourhood',\n",
       "       'host_listings_count', 'host_total_listings_count',\n",
       "       'host_verifications', 'host_has_profile_pic', 'host_identity_verified',\n",
       "       'street', 'neighbourhood', 'neighbourhood_cleansed',\n",
       "       'neighbourhood_group_cleansed', 'city', 'state', 'zipcode', 'market',\n",
       "       'smart_location', 'country_code', 'country', 'latitude', 'longitude',\n",
       "       'is_location_exact', 'property_type', 'room_type', 'accommodates',\n",
       "       'bathrooms', 'bedrooms', 'beds', 'bed_type', 'amenities', 'price',\n",
       "       'cleaning_fee', 'guests_included', 'extra_people', 'minimum_nights',\n",
       "       'maximum_nights', 'calendar_updated', 'has_availability',\n",
       "       'availability_30', 'availability_60', 'availability_90',\n",
       "       'availability_365', 'calendar_last_scraped', 'number_of_reviews',\n",
       "       'first_review', 'last_review', 'review_scores_rating',\n",
       "       'review_scores_accuracy', 'review_scores_cleanliness',\n",
       "       'review_scores_checkin', 'review_scores_communication',\n",
       "       'review_scores_location', 'review_scores_value', 'requires_license',\n",
       "       'jurisdiction_names', 'instant_bookable', 'cancellation_policy',\n",
       "       'require_guest_profile_picture', 'require_guest_phone_verification',\n",
       "       'calculated_host_listings_count', 'reviews_per_month'],\n",
       "      dtype='object')"
      ]
     },
     "execution_count": 14,
     "metadata": {},
     "output_type": "execute_result"
    }
   ],
   "source": [
    "listing_df.columns"
   ]
  },
  {
   "cell_type": "code",
   "execution_count": null,
   "id": "235df11d",
   "metadata": {},
   "outputs": [],
   "source": [
    "listing_df['city'] = listing_df['market']"
   ]
  },
  {
   "cell_type": "code",
   "execution_count": null,
   "id": "f41025a0",
   "metadata": {},
   "outputs": [
    {
     "data": {
      "text/plain": [
       "Seattle    3818\n",
       "Name: city, dtype: int64"
      ]
     },
     "execution_count": 16,
     "metadata": {},
     "output_type": "execute_result"
    }
   ],
   "source": [
    "listing_df['city'].value_counts()"
   ]
  },
  {
   "cell_type": "code",
   "execution_count": null,
   "id": "e009298d",
   "metadata": {},
   "outputs": [],
   "source": [
    "# Market is the same as city and is not needed\n",
    "listing_df.drop('market', axis = 1, inplace =True)\n",
    "\n",
    "# The neighbourhood column is incomplete\n",
    "listing_df.drop('neighbourhood', axis = 1, inplace = True)"
   ]
  },
  {
   "cell_type": "code",
   "execution_count": null,
   "id": "449cfb96",
   "metadata": {},
   "outputs": [],
   "source": [
    "listing_df.rename(columns = {'neighbourhood_cleansed':'neighbourhood', 'neighbourhood_group_cleansed':'neighbourhood_group'}, inplace = True)"
   ]
  },
  {
   "cell_type": "markdown",
   "id": "30af13a0",
   "metadata": {},
   "source": [
    "- I dropped the market column  which is redundant seeing that we already assigned it to the city column as the entire datasets contain entries for only Seattle\n",
    "\n",
    "- The neighbourhood information is contained in 2 different columns. the original **neighbourhood** column is incomplete while the '**neighbourhood_cleansed** column contains the complete neighbourhood information. So we drop the **'neighbourhood'** column and rename the **'neighbourhood_cleansed'** as neighbourhood\n",
    "\n",
    "- The **neighbourhood_group_cleansed** column is also renamed to '**neighbourhood_group**'"
   ]
  },
  {
   "cell_type": "code",
   "execution_count": null,
   "id": "301b4218",
   "metadata": {},
   "outputs": [],
   "source": [
    "# A function that takes the prices remove the $ symbol and sets the price to a float datatype that is usable\n",
    "def clean_price(df):\n",
    "    df['price'] = df.price.astype(str)\n",
    "    df['price'] = df['price'].str.replace(pat= r'[,$]', repl = '', regex = True).astype(float)\n",
    "    return df['price'].head()"
   ]
  },
  {
   "cell_type": "code",
   "execution_count": null,
   "id": "75bf6e8d",
   "metadata": {},
   "outputs": [
    {
     "data": {
      "text/plain": [
       "0     85.0\n",
       "1    150.0\n",
       "2    975.0\n",
       "3    100.0\n",
       "4    450.0\n",
       "Name: price, dtype: float64"
      ]
     },
     "execution_count": 20,
     "metadata": {},
     "output_type": "execute_result"
    }
   ],
   "source": [
    "# Cleaning price\n",
    "clean_price(listing_df)"
   ]
  },
  {
   "cell_type": "code",
   "execution_count": null,
   "id": "a331baec",
   "metadata": {},
   "outputs": [
    {
     "data": {
      "text/plain": [
       "0        85.0\n",
       "1       150.0\n",
       "2       975.0\n",
       "3       100.0\n",
       "4       450.0\n",
       "        ...  \n",
       "3813    359.0\n",
       "3814     79.0\n",
       "3815     93.0\n",
       "3816     99.0\n",
       "3817     87.0\n",
       "Name: price, Length: 3818, dtype: float64"
      ]
     },
     "execution_count": 21,
     "metadata": {},
     "output_type": "execute_result"
    }
   ],
   "source": [
    "listing_df.price"
   ]
  },
  {
   "cell_type": "code",
   "execution_count": null,
   "id": "6c5f122f",
   "metadata": {},
   "outputs": [],
   "source": [
    "# Creating a list of features that should be type Boolean\n",
    "Bool_feat = ['has_availability', 'instant_bookable', 'requires_license', 'require_guest_profile_picture', 'require_guest_phone_verification']"
   ]
  },
  {
   "cell_type": "code",
   "execution_count": null,
   "id": "1ba2b7e6",
   "metadata": {},
   "outputs": [],
   "source": [
    "for col in Bool_feat:\n",
    "    listing_df[col] = listing_df[col].map({'f': False, 't': True});"
   ]
  },
  {
   "cell_type": "code",
   "execution_count": null,
   "id": "a337c9d3",
   "metadata": {},
   "outputs": [
    {
     "data": {
      "text/html": [
       "<div>\n",
       "<style scoped>\n",
       "    .dataframe tbody tr th:only-of-type {\n",
       "        vertical-align: middle;\n",
       "    }\n",
       "\n",
       "    .dataframe tbody tr th {\n",
       "        vertical-align: top;\n",
       "    }\n",
       "\n",
       "    .dataframe thead th {\n",
       "        text-align: right;\n",
       "    }\n",
       "</style>\n",
       "<table border=\"1\" class=\"dataframe\">\n",
       "  <thead>\n",
       "    <tr style=\"text-align: right;\">\n",
       "      <th></th>\n",
       "      <th>has_availability</th>\n",
       "      <th>instant_bookable</th>\n",
       "      <th>requires_license</th>\n",
       "      <th>require_guest_profile_picture</th>\n",
       "      <th>require_guest_phone_verification</th>\n",
       "    </tr>\n",
       "  </thead>\n",
       "  <tbody>\n",
       "    <tr>\n",
       "      <th>0</th>\n",
       "      <td>True</td>\n",
       "      <td>False</td>\n",
       "      <td>False</td>\n",
       "      <td>False</td>\n",
       "      <td>False</td>\n",
       "    </tr>\n",
       "    <tr>\n",
       "      <th>1</th>\n",
       "      <td>True</td>\n",
       "      <td>False</td>\n",
       "      <td>False</td>\n",
       "      <td>True</td>\n",
       "      <td>True</td>\n",
       "    </tr>\n",
       "    <tr>\n",
       "      <th>2</th>\n",
       "      <td>True</td>\n",
       "      <td>False</td>\n",
       "      <td>False</td>\n",
       "      <td>False</td>\n",
       "      <td>False</td>\n",
       "    </tr>\n",
       "    <tr>\n",
       "      <th>3</th>\n",
       "      <td>True</td>\n",
       "      <td>False</td>\n",
       "      <td>False</td>\n",
       "      <td>False</td>\n",
       "      <td>False</td>\n",
       "    </tr>\n",
       "    <tr>\n",
       "      <th>4</th>\n",
       "      <td>True</td>\n",
       "      <td>False</td>\n",
       "      <td>False</td>\n",
       "      <td>False</td>\n",
       "      <td>False</td>\n",
       "    </tr>\n",
       "    <tr>\n",
       "      <th>...</th>\n",
       "      <td>...</td>\n",
       "      <td>...</td>\n",
       "      <td>...</td>\n",
       "      <td>...</td>\n",
       "      <td>...</td>\n",
       "    </tr>\n",
       "    <tr>\n",
       "      <th>3813</th>\n",
       "      <td>True</td>\n",
       "      <td>False</td>\n",
       "      <td>False</td>\n",
       "      <td>False</td>\n",
       "      <td>False</td>\n",
       "    </tr>\n",
       "    <tr>\n",
       "      <th>3814</th>\n",
       "      <td>True</td>\n",
       "      <td>False</td>\n",
       "      <td>False</td>\n",
       "      <td>False</td>\n",
       "      <td>False</td>\n",
       "    </tr>\n",
       "    <tr>\n",
       "      <th>3815</th>\n",
       "      <td>True</td>\n",
       "      <td>False</td>\n",
       "      <td>False</td>\n",
       "      <td>False</td>\n",
       "      <td>False</td>\n",
       "    </tr>\n",
       "    <tr>\n",
       "      <th>3816</th>\n",
       "      <td>True</td>\n",
       "      <td>False</td>\n",
       "      <td>False</td>\n",
       "      <td>False</td>\n",
       "      <td>False</td>\n",
       "    </tr>\n",
       "    <tr>\n",
       "      <th>3817</th>\n",
       "      <td>True</td>\n",
       "      <td>False</td>\n",
       "      <td>False</td>\n",
       "      <td>False</td>\n",
       "      <td>False</td>\n",
       "    </tr>\n",
       "  </tbody>\n",
       "</table>\n",
       "<p>3818 rows × 5 columns</p>\n",
       "</div>"
      ],
      "text/plain": [
       "      has_availability  instant_bookable  requires_license  \\\n",
       "0                 True             False             False   \n",
       "1                 True             False             False   \n",
       "2                 True             False             False   \n",
       "3                 True             False             False   \n",
       "4                 True             False             False   \n",
       "...                ...               ...               ...   \n",
       "3813              True             False             False   \n",
       "3814              True             False             False   \n",
       "3815              True             False             False   \n",
       "3816              True             False             False   \n",
       "3817              True             False             False   \n",
       "\n",
       "      require_guest_profile_picture  require_guest_phone_verification  \n",
       "0                             False                             False  \n",
       "1                              True                              True  \n",
       "2                             False                             False  \n",
       "3                             False                             False  \n",
       "4                             False                             False  \n",
       "...                             ...                               ...  \n",
       "3813                          False                             False  \n",
       "3814                          False                             False  \n",
       "3815                          False                             False  \n",
       "3816                          False                             False  \n",
       "3817                          False                             False  \n",
       "\n",
       "[3818 rows x 5 columns]"
      ]
     },
     "execution_count": 24,
     "metadata": {},
     "output_type": "execute_result"
    }
   ],
   "source": [
    "listing_df[Bool_feat]"
   ]
  },
  {
   "cell_type": "code",
   "execution_count": null,
   "id": "cb7390ce",
   "metadata": {},
   "outputs": [],
   "source": [
    "# Cleaning the amenities dataframe to be used as categorical type variable to get dummy variables for price prediction model\n",
    "listing_df['amenities'] = listing_df['amenities'].apply(lambda x: x.replace(' ', '_'))\n",
    "listing_df['amenities'] = listing_df['amenities'].apply(lambda x: x.replace('\"', ''))"
   ]
  },
  {
   "cell_type": "code",
   "execution_count": null,
   "id": "a7d7c635",
   "metadata": {},
   "outputs": [],
   "source": [
    "u = listing_df['amenities'].str.strip(',{}')"
   ]
  },
  {
   "cell_type": "code",
   "execution_count": null,
   "id": "367c3ee0",
   "metadata": {},
   "outputs": [
    {
     "data": {
      "text/plain": [
       "0       TV,Cable_TV,Internet,Wireless_Internet,Air_Con...\n",
       "1       TV,Internet,Wireless_Internet,Kitchen,Free_Par...\n",
       "2       TV,Cable_TV,Internet,Wireless_Internet,Air_Con...\n",
       "3       Internet,Wireless_Internet,Kitchen,Indoor_Fire...\n",
       "4       TV,Cable_TV,Internet,Wireless_Internet,Kitchen...\n",
       "                              ...                        \n",
       "3813    TV,Cable_TV,Internet,Wireless_Internet,Air_Con...\n",
       "3814    TV,Cable_TV,Internet,Wireless_Internet,Kitchen...\n",
       "3815    Cable_TV,Wireless_Internet,Kitchen,Free_Parkin...\n",
       "3816    TV,Wireless_Internet,Kitchen,Free_Parking_on_P...\n",
       "3817    TV,Cable_TV,Internet,Wireless_Internet,Kitchen...\n",
       "Name: amenities, Length: 3818, dtype: object"
      ]
     },
     "execution_count": 27,
     "metadata": {},
     "output_type": "execute_result"
    }
   ],
   "source": [
    "u"
   ]
  },
  {
   "cell_type": "code",
   "execution_count": null,
   "id": "b11ef756",
   "metadata": {},
   "outputs": [],
   "source": [
    "listing_df['amenities'] = u"
   ]
  },
  {
   "cell_type": "code",
   "execution_count": null,
   "id": "a7618730",
   "metadata": {},
   "outputs": [
    {
     "name": "stdout",
     "output_type": "stream",
     "text": [
      "<class 'pandas.core.frame.DataFrame'>\n",
      "RangeIndex: 3818 entries, 0 to 3817\n",
      "Data columns (total 84 columns):\n",
      " #   Column                            Non-Null Count  Dtype  \n",
      "---  ------                            --------------  -----  \n",
      " 0   id                                3818 non-null   int64  \n",
      " 1   listing_url                       3818 non-null   object \n",
      " 2   scrape_id                         3818 non-null   int64  \n",
      " 3   last_scraped                      3818 non-null   object \n",
      " 4   name                              3818 non-null   object \n",
      " 5   summary                           3641 non-null   object \n",
      " 6   space                             3249 non-null   object \n",
      " 7   description                       3818 non-null   object \n",
      " 8   experiences_offered               3818 non-null   object \n",
      " 9   neighborhood_overview             2786 non-null   object \n",
      " 10  transit                           2884 non-null   object \n",
      " 11  thumbnail_url                     3498 non-null   object \n",
      " 12  medium_url                        3498 non-null   object \n",
      " 13  picture_url                       3818 non-null   object \n",
      " 14  xl_picture_url                    3498 non-null   object \n",
      " 15  host_id                           3818 non-null   int64  \n",
      " 16  host_url                          3818 non-null   object \n",
      " 17  host_name                         3816 non-null   object \n",
      " 18  host_since                        3816 non-null   object \n",
      " 19  host_location                     3810 non-null   object \n",
      " 20  host_about                        2959 non-null   object \n",
      " 21  host_response_time                3295 non-null   object \n",
      " 22  host_response_rate                3295 non-null   object \n",
      " 23  host_acceptance_rate              3045 non-null   object \n",
      " 24  host_is_superhost                 3816 non-null   object \n",
      " 25  host_thumbnail_url                3816 non-null   object \n",
      " 26  host_picture_url                  3816 non-null   object \n",
      " 27  host_neighbourhood                3518 non-null   object \n",
      " 28  host_listings_count               3816 non-null   float64\n",
      " 29  host_total_listings_count         3816 non-null   float64\n",
      " 30  host_verifications                3818 non-null   object \n",
      " 31  host_has_profile_pic              3816 non-null   object \n",
      " 32  host_identity_verified            3816 non-null   object \n",
      " 33  street                            3818 non-null   object \n",
      " 34  neighbourhood                     3818 non-null   object \n",
      " 35  neighbourhood_group               3818 non-null   object \n",
      " 36  city                              3818 non-null   object \n",
      " 37  state                             3818 non-null   object \n",
      " 38  zipcode                           3811 non-null   object \n",
      " 39  smart_location                    3818 non-null   object \n",
      " 40  country_code                      3818 non-null   object \n",
      " 41  country                           3818 non-null   object \n",
      " 42  latitude                          3818 non-null   float64\n",
      " 43  longitude                         3818 non-null   float64\n",
      " 44  is_location_exact                 3818 non-null   object \n",
      " 45  property_type                     3817 non-null   object \n",
      " 46  room_type                         3818 non-null   object \n",
      " 47  accommodates                      3818 non-null   int64  \n",
      " 48  bathrooms                         3802 non-null   float64\n",
      " 49  bedrooms                          3812 non-null   float64\n",
      " 50  beds                              3817 non-null   float64\n",
      " 51  bed_type                          3818 non-null   object \n",
      " 52  amenities                         3818 non-null   object \n",
      " 53  price                             3818 non-null   float64\n",
      " 54  cleaning_fee                      2788 non-null   object \n",
      " 55  guests_included                   3818 non-null   int64  \n",
      " 56  extra_people                      3818 non-null   object \n",
      " 57  minimum_nights                    3818 non-null   int64  \n",
      " 58  maximum_nights                    3818 non-null   int64  \n",
      " 59  calendar_updated                  3818 non-null   object \n",
      " 60  has_availability                  3818 non-null   bool   \n",
      " 61  availability_30                   3818 non-null   int64  \n",
      " 62  availability_60                   3818 non-null   int64  \n",
      " 63  availability_90                   3818 non-null   int64  \n",
      " 64  availability_365                  3818 non-null   int64  \n",
      " 65  calendar_last_scraped             3818 non-null   object \n",
      " 66  number_of_reviews                 3818 non-null   int64  \n",
      " 67  first_review                      3191 non-null   object \n",
      " 68  last_review                       3191 non-null   object \n",
      " 69  review_scores_rating              3171 non-null   float64\n",
      " 70  review_scores_accuracy            3160 non-null   float64\n",
      " 71  review_scores_cleanliness         3165 non-null   float64\n",
      " 72  review_scores_checkin             3160 non-null   float64\n",
      " 73  review_scores_communication       3167 non-null   float64\n",
      " 74  review_scores_location            3163 non-null   float64\n",
      " 75  review_scores_value               3162 non-null   float64\n",
      " 76  requires_license                  3818 non-null   bool   \n",
      " 77  jurisdiction_names                3818 non-null   object \n",
      " 78  instant_bookable                  3818 non-null   bool   \n",
      " 79  cancellation_policy               3818 non-null   object \n",
      " 80  require_guest_profile_picture     3818 non-null   bool   \n",
      " 81  require_guest_phone_verification  3818 non-null   bool   \n",
      " 82  calculated_host_listings_count    3818 non-null   int64  \n",
      " 83  reviews_per_month                 3191 non-null   float64\n",
      "dtypes: bool(5), float64(16), int64(13), object(50)\n",
      "memory usage: 2.3+ MB\n"
     ]
    }
   ],
   "source": [
    "listing_df.info()"
   ]
  },
  {
   "cell_type": "markdown",
   "id": "df9654e1",
   "metadata": {},
   "source": [
    "- The listing_df dataframe is usable for the exploration we need to do now. Further cleaning and removal of null entries will be done when building the price prediction model"
   ]
  },
  {
   "cell_type": "markdown",
   "id": "c3959d2d",
   "metadata": {},
   "source": [
    "### Cleaning, Wrangling the Calendar Dataframe"
   ]
  },
  {
   "cell_type": "code",
   "execution_count": null,
   "id": "ef9b64c4",
   "metadata": {},
   "outputs": [
    {
     "data": {
      "text/html": [
       "<div>\n",
       "<style scoped>\n",
       "    .dataframe tbody tr th:only-of-type {\n",
       "        vertical-align: middle;\n",
       "    }\n",
       "\n",
       "    .dataframe tbody tr th {\n",
       "        vertical-align: top;\n",
       "    }\n",
       "\n",
       "    .dataframe thead th {\n",
       "        text-align: right;\n",
       "    }\n",
       "</style>\n",
       "<table border=\"1\" class=\"dataframe\">\n",
       "  <thead>\n",
       "    <tr style=\"text-align: right;\">\n",
       "      <th></th>\n",
       "      <th>listing_id</th>\n",
       "      <th>date</th>\n",
       "      <th>available</th>\n",
       "      <th>price</th>\n",
       "    </tr>\n",
       "  </thead>\n",
       "  <tbody>\n",
       "    <tr>\n",
       "      <th>0</th>\n",
       "      <td>241032</td>\n",
       "      <td>2016-01-04</td>\n",
       "      <td>t</td>\n",
       "      <td>$85.00</td>\n",
       "    </tr>\n",
       "    <tr>\n",
       "      <th>1</th>\n",
       "      <td>241032</td>\n",
       "      <td>2016-01-05</td>\n",
       "      <td>t</td>\n",
       "      <td>$85.00</td>\n",
       "    </tr>\n",
       "    <tr>\n",
       "      <th>2</th>\n",
       "      <td>241032</td>\n",
       "      <td>2016-01-06</td>\n",
       "      <td>f</td>\n",
       "      <td>NaN</td>\n",
       "    </tr>\n",
       "    <tr>\n",
       "      <th>3</th>\n",
       "      <td>241032</td>\n",
       "      <td>2016-01-07</td>\n",
       "      <td>f</td>\n",
       "      <td>NaN</td>\n",
       "    </tr>\n",
       "    <tr>\n",
       "      <th>4</th>\n",
       "      <td>241032</td>\n",
       "      <td>2016-01-08</td>\n",
       "      <td>f</td>\n",
       "      <td>NaN</td>\n",
       "    </tr>\n",
       "    <tr>\n",
       "      <th>...</th>\n",
       "      <td>...</td>\n",
       "      <td>...</td>\n",
       "      <td>...</td>\n",
       "      <td>...</td>\n",
       "    </tr>\n",
       "    <tr>\n",
       "      <th>75</th>\n",
       "      <td>241032</td>\n",
       "      <td>2016-03-19</td>\n",
       "      <td>t</td>\n",
       "      <td>$85.00</td>\n",
       "    </tr>\n",
       "    <tr>\n",
       "      <th>76</th>\n",
       "      <td>241032</td>\n",
       "      <td>2016-03-20</td>\n",
       "      <td>t</td>\n",
       "      <td>$85.00</td>\n",
       "    </tr>\n",
       "    <tr>\n",
       "      <th>77</th>\n",
       "      <td>241032</td>\n",
       "      <td>2016-03-21</td>\n",
       "      <td>t</td>\n",
       "      <td>$85.00</td>\n",
       "    </tr>\n",
       "    <tr>\n",
       "      <th>78</th>\n",
       "      <td>241032</td>\n",
       "      <td>2016-03-22</td>\n",
       "      <td>t</td>\n",
       "      <td>$85.00</td>\n",
       "    </tr>\n",
       "    <tr>\n",
       "      <th>79</th>\n",
       "      <td>241032</td>\n",
       "      <td>2016-03-23</td>\n",
       "      <td>t</td>\n",
       "      <td>$85.00</td>\n",
       "    </tr>\n",
       "  </tbody>\n",
       "</table>\n",
       "<p>80 rows × 4 columns</p>\n",
       "</div>"
      ],
      "text/plain": [
       "    listing_id        date available   price\n",
       "0       241032  2016-01-04         t  $85.00\n",
       "1       241032  2016-01-05         t  $85.00\n",
       "2       241032  2016-01-06         f     NaN\n",
       "3       241032  2016-01-07         f     NaN\n",
       "4       241032  2016-01-08         f     NaN\n",
       "..         ...         ...       ...     ...\n",
       "75      241032  2016-03-19         t  $85.00\n",
       "76      241032  2016-03-20         t  $85.00\n",
       "77      241032  2016-03-21         t  $85.00\n",
       "78      241032  2016-03-22         t  $85.00\n",
       "79      241032  2016-03-23         t  $85.00\n",
       "\n",
       "[80 rows x 4 columns]"
      ]
     },
     "execution_count": 30,
     "metadata": {},
     "output_type": "execute_result"
    }
   ],
   "source": [
    "calendar_df.head(80)"
   ]
  },
  {
   "cell_type": "code",
   "execution_count": null,
   "id": "7f79b68e",
   "metadata": {},
   "outputs": [
    {
     "data": {
      "text/plain": [
       "listing_id     int64\n",
       "date          object\n",
       "available     object\n",
       "price         object\n",
       "dtype: object"
      ]
     },
     "execution_count": 31,
     "metadata": {},
     "output_type": "execute_result"
    }
   ],
   "source": [
    "calendar_df.dtypes"
   ]
  },
  {
   "cell_type": "code",
   "execution_count": null,
   "id": "3ade94ac",
   "metadata": {},
   "outputs": [
    {
     "data": {
      "text/plain": [
       "listing_id      int64\n",
       "date           object\n",
       "available      object\n",
       "price         float64\n",
       "dtype: object"
      ]
     },
     "execution_count": 32,
     "metadata": {},
     "output_type": "execute_result"
    }
   ],
   "source": [
    "#Cleaning the price column and setting to type float using previously defiened clean price function\n",
    "clean_price(calendar_df)\n",
    "calendar_df.dtypes"
   ]
  },
  {
   "cell_type": "code",
   "execution_count": null,
   "id": "5842199c",
   "metadata": {},
   "outputs": [
    {
     "data": {
      "text/plain": [
       "0    t\n",
       "1    t\n",
       "2    f\n",
       "3    f\n",
       "4    f\n",
       "Name: available, dtype: object"
      ]
     },
     "execution_count": 33,
     "metadata": {},
     "output_type": "execute_result"
    }
   ],
   "source": [
    "calendar_df['available'].head()"
   ]
  },
  {
   "cell_type": "code",
   "execution_count": null,
   "id": "ab8a6ac0",
   "metadata": {},
   "outputs": [
    {
     "data": {
      "text/plain": [
       "listing_id      int64\n",
       "date           object\n",
       "available        bool\n",
       "price         float64\n",
       "dtype: object"
      ]
     },
     "execution_count": 34,
     "metadata": {},
     "output_type": "execute_result"
    }
   ],
   "source": [
    "# Converting the 'available' feature to type boolean\n",
    "calendar_df['available'] = calendar_df['available'].map({'f': False, 't': True})\n",
    "calendar_df.dtypes"
   ]
  },
  {
   "cell_type": "code",
   "execution_count": null,
   "id": "118a089d",
   "metadata": {},
   "outputs": [
    {
     "data": {
      "text/plain": [
       "0     True\n",
       "1     True\n",
       "2    False\n",
       "3    False\n",
       "4    False\n",
       "Name: available, dtype: bool"
      ]
     },
     "execution_count": 35,
     "metadata": {},
     "output_type": "execute_result"
    }
   ],
   "source": [
    "#Checking the 'available' feature\n",
    "calendar_df.available.head()"
   ]
  },
  {
   "cell_type": "code",
   "execution_count": null,
   "id": "a53ab66e",
   "metadata": {},
   "outputs": [],
   "source": [
    "#setting the date column to type datetime\n",
    "calendar_df['date'] = pd.to_datetime(calendar_df['date'])"
   ]
  },
  {
   "cell_type": "code",
   "execution_count": null,
   "id": "14838a0f",
   "metadata": {},
   "outputs": [
    {
     "data": {
      "text/plain": [
       "listing_id             int64\n",
       "date          datetime64[ns]\n",
       "available               bool\n",
       "price                float64\n",
       "dtype: object"
      ]
     },
     "execution_count": 37,
     "metadata": {},
     "output_type": "execute_result"
    }
   ],
   "source": [
    "calendar_df.dtypes"
   ]
  },
  {
   "cell_type": "code",
   "execution_count": null,
   "id": "54a79ad7",
   "metadata": {},
   "outputs": [],
   "source": [
    "# https://github.com/softhints/Pandas-Tutorials/blob/master/datetime/1.extract-month-and-year-datetime-column-in-pandas.ipynb\n",
    "# Getting the Period Month for each date entry in the date column.\n",
    "calendar_df['month_period'] = calendar_df['date'].dt.to_period('M')"
   ]
  },
  {
   "cell_type": "code",
   "execution_count": null,
   "id": "74ef59f1",
   "metadata": {},
   "outputs": [
    {
     "data": {
      "text/plain": [
       "listing_id               int64\n",
       "date            datetime64[ns]\n",
       "available                 bool\n",
       "price                  float64\n",
       "month_period         period[M]\n",
       "dtype: object"
      ]
     },
     "execution_count": 39,
     "metadata": {},
     "output_type": "execute_result"
    }
   ],
   "source": [
    "calendar_df.dtypes"
   ]
  },
  {
   "cell_type": "markdown",
   "id": "accfeb96",
   "metadata": {},
   "source": [
    "### Exploring and Answering questions with the Listings Dataframe"
   ]
  },
  {
   "cell_type": "markdown",
   "id": "a2488687",
   "metadata": {},
   "source": [
    "##### The most common property type in airbnb listings"
   ]
  },
  {
   "cell_type": "code",
   "execution_count": null,
   "id": "cf6ef5ac",
   "metadata": {},
   "outputs": [
    {
     "data": {
      "image/png": "[encoded data removed]",
      "text/plain": [
       "<Figure size 640x480 with 1 Axes>"
      ]
     },
     "metadata": {},
     "output_type": "display_data"
    }
   ],
   "source": [
    "#Exploring property type by their proportions in airbnb listings\n",
    "prop_type_prop = listing_df['property_type'].value_counts()/listing_df.shape[0]\n",
    "prop_type_prop.plot(kind = 'bar')\n",
    "plt.yticks(np.arange(0, .5, .05));"
   ]
  },
  {
   "cell_type": "code",
   "execution_count": null,
   "id": "48e3412f",
   "metadata": {},
   "outputs": [
    {
     "data": {
      "text/plain": [
       "<Axes: xlabel='property_type'>"
      ]
     },
     "execution_count": 41,
     "metadata": {},
     "output_type": "execute_result"
    },
    {
     "data": {
      "image/png": "[encoded data removed]",
      "text/plain": [
       "<Figure size 640x480 with 1 Axes>"
      ]
     },
     "metadata": {},
     "output_type": "display_data"
    }
   ],
   "source": [
    "# A plot showing Average Price by property type\n",
    "listing_df.groupby('property_type')['price'].mean().sort_values(ascending = False).plot(kind = 'bar')"
   ]
  },
  {
   "cell_type": "markdown",
   "id": "f3789004",
   "metadata": {},
   "source": [
    "- Here we see that as expected **Boats** have the highest prices on average (since it is practically luxury), we also have **condomiums, lofts, houses** on the high sides.\n",
    "- On the low average price we have **Yurts, Chalets, Tents and Dorms**"
   ]
  },
  {
   "cell_type": "markdown",
   "id": "4f59b33f",
   "metadata": {},
   "source": [
    "##### Neighbourhoods Trends"
   ]
  },
  {
   "cell_type": "code",
   "execution_count": null,
   "id": "7dfb9344",
   "metadata": {},
   "outputs": [
    {
     "data": {
      "text/plain": [
       "<Axes: >"
      ]
     },
     "execution_count": 42,
     "metadata": {},
     "output_type": "execute_result"
    },
    {
     "data": {
      "image/png": "[encoded data removed]",
      "text/plain": [
       "<Figure size 640x480 with 1 Axes>"
      ]
     },
     "metadata": {},
     "output_type": "display_data"
    }
   ],
   "source": [
    "# Listings by neighbourhood\n",
    "listing_df.neighbourhood_group.value_counts().plot(kind = 'bar')"
   ]
  },
  {
   "cell_type": "code",
   "execution_count": null,
   "id": "94903869",
   "metadata": {},
   "outputs": [
    {
     "data": {
      "image/png": "[encoded data removed]",
      "text/plain": [
       "<Figure size 640x480 with 1 Axes>"
      ]
     },
     "metadata": {},
     "output_type": "display_data"
    }
   ],
   "source": [
    "# Top 20 Neighbourhoods in seattle sorted by the highest price on average\n",
    "listing_df.groupby('neighbourhood')['price'].mean().nlargest(20).plot(kind = 'bar')\n",
    "plt.title('Top 20 Neighbourhoods by AVerage Price')\n",
    "plt.ylabel('average Price');"
   ]
  },
  {
   "cell_type": "code",
   "execution_count": null,
   "id": "20bb2d11",
   "metadata": {},
   "outputs": [
    {
     "data": {
      "image/png": "[encoded data removed]",
      "text/plain": [
       "<Figure size 640x480 with 1 Axes>"
      ]
     },
     "metadata": {},
     "output_type": "display_data"
    }
   ],
   "source": [
    "# plot of average price by neighbourhood_group\n",
    "listing_df.groupby('neighbourhood_group')['price'].mean().sort_values(ascending = False).plot(kind = 'bar');"
   ]
  },
  {
   "cell_type": "code",
   "execution_count": null,
   "id": "439ccb6a",
   "metadata": {},
   "outputs": [
    {
     "data": {
      "text/plain": [
       "neighbourhood\n",
       "West Queen Anne        20.0\n",
       "Stevens                22.0\n",
       "Adams                  25.0\n",
       "Broadway               25.0\n",
       "Columbia City          25.0\n",
       "Greenwood              25.0\n",
       "Industrial District    25.0\n",
       "Crown Hill             28.0\n",
       "Ravenna                28.0\n",
       "University District    28.0\n",
       "Name: price, dtype: float64"
      ]
     },
     "execution_count": 45,
     "metadata": {},
     "output_type": "execute_result"
    }
   ],
   "source": [
    "#Lowest listing prices\n",
    "listing_df.groupby('neighbourhood')['price'].min().nsmallest(10)"
   ]
  },
  {
   "cell_type": "code",
   "execution_count": null,
   "id": "595bb0ce",
   "metadata": {},
   "outputs": [
    {
     "data": {
      "text/plain": [
       "neighbourhood\n",
       "Roosevelt             1000.0\n",
       "Belltown               999.0\n",
       "West Queen Anne        975.0\n",
       "Southeast Magnolia     950.0\n",
       "Westlake               775.0\n",
       "Montlake               750.0\n",
       "Portage Bay            750.0\n",
       "East Queen Anne        749.0\n",
       "Wallingford            680.0\n",
       "Broadway               673.0\n",
       "Name: price, dtype: float64"
      ]
     },
     "execution_count": 46,
     "metadata": {},
     "output_type": "execute_result"
    }
   ],
   "source": [
    "# Highest listing prices you can get\n",
    "listing_df.groupby('neighbourhood')['price'].max().nlargest(10)"
   ]
  },
  {
   "cell_type": "markdown",
   "id": "ac171a80",
   "metadata": {},
   "source": [
    "The neighbourhood-group with the highest price on the average is the **Magnolia Neighbourhood.** A search on google shows that. Magnolia an affluent residential neighbourhood with close proximity to seattle's top attractions is the second largest neighborhood of Seattle, Washington by area. This and the fact that it is one of the neighbourhood group with the lowest number of listings (**meaning high brow area, with low units available**) may explain why it is the highest on average.\n",
    "- The most expensive neighbourhood_groups by average price are: **Magnolia, Queen Anne, Downtown, West_Seattle and Cascade**\n",
    "- The least expensive neighbourhood_groups on average are: **University District, Lake City, Rainier Valley, Northgate, Delridge**\n",
    "\n",
    "\n",
    "> 20 Most expensive neighbourhoods in order of decreasing average prices: **'Southeast Magnolia'** (which is in the magnolia Neighbourhood group), **'Portage Bay',\n",
    " 'Westlake',\n",
    " 'West Queen Anne',\n",
    " 'Montlake',\n",
    " 'Briarcliff',\n",
    " 'Sunset Hill',\n",
    " 'Industrial District',\n",
    " 'Alki',\n",
    " 'Windermere',\n",
    " 'Pioneer Square',\n",
    " 'Central Business District',\n",
    " 'Fauntleroy',\n",
    " 'Belltown',\n",
    " 'East Queen Anne',\n",
    " 'Madrona',\n",
    " 'Pike-Market',\n",
    " 'North Queen Anne',\n",
    " 'Green Lake',\n",
    " 'Lawton Park'**"
   ]
  },
  {
   "cell_type": "markdown",
   "id": "6ec8526f",
   "metadata": {},
   "source": [
    "### What are the Busiest times of the year to visit seattle?"
   ]
  },
  {
   "cell_type": "code",
   "execution_count": null,
   "id": "57be72d0",
   "metadata": {},
   "outputs": [
    {
     "data": {
      "text/plain": [
       "<Axes: title={'center': 'Rooms Available'}, xlabel='month_period', ylabel='count'>"
      ]
     },
     "execution_count": 47,
     "metadata": {},
     "output_type": "execute_result"
    },
    {
     "data": {
      "image/png": "[encoded data removed]",
      "text/plain": [
       "<Figure size 1500x500 with 2 Axes>"
      ]
     },
     "metadata": {},
     "output_type": "display_data"
    }
   ],
   "source": [
    "# What are the busiest times of the year to visit Seattle? By how much do prices spike?\n",
    "plt.figure(figsize = (15, 5))\n",
    "\n",
    "#count of rooms not available(Availability = False) by month\n",
    "plt.subplot(1, 2, 1)\n",
    "plt.title('Rooms not available')\n",
    "plt.xlabel('Months')\n",
    "plt.ylabel('count')\n",
    "calendar_df[calendar_df['available'] == False].groupby('month_period')['available'].count().plot(kind = 'bar')\n",
    "\n",
    "#count of rooms not available by month(Availability = True)\n",
    "plt.subplot(1, 2, 2)\n",
    "plt.title('Rooms Available')\n",
    "plt.xlabel('Months')\n",
    "plt.ylabel('count')\n",
    "calendar_df[calendar_df['available'] == True].groupby('month_period')['available'].count().plot(kind = 'bar')"
   ]
  },
  {
   "cell_type": "code",
   "execution_count": null,
   "id": "80bb7a64",
   "metadata": {},
   "outputs": [
    {
     "data": {
      "image/png": "[encoded data removed]",
      "text/plain": [
       "<Figure size 640x480 with 1 Axes>"
      ]
     },
     "metadata": {},
     "output_type": "display_data"
    }
   ],
   "source": [
    "calendar_df.groupby('month_period')['available'].mean().plot(kind = 'line')\n",
    "plt.title('Average Room Availability by month')\n",
    "plt.xlabel('Months')\n",
    "plt.ylabel('average availability')\n",
    "plt.yticks(np.arange(0, 1, .1));"
   ]
  },
  {
   "cell_type": "markdown",
   "id": "6b7ee618",
   "metadata": {},
   "source": [
    "##### Observation:\n",
    "- Here, we see that the number of **available rooms** are mostly in the **lowest** towards the middle of the year around the summer holiday periods (between **June** and **August**). This is most likely due to high demands around these periods.\n",
    "- We see an increase in availability in the first quarter of the year, a tendency for availability to decrease mid year around summer and a spike again around the end of year. \n",
    "> This is probably because people tend to go on holidays around the december periods and mostly have their homes available and for the first quarter the most likely reason is because the demand for airbnb listings around that period is low unlike in the summer when everyone wants to go on summer holidays and require those listings.\n",
    "\n",
    "> **WE will further explore the price trends around these period**"
   ]
  },
  {
   "cell_type": "code",
   "execution_count": null,
   "id": "4b0e48a5",
   "metadata": {},
   "outputs": [],
   "source": [
    "calendar_df['day'] = calendar_df['date'].dt.day_name()"
   ]
  },
  {
   "cell_type": "code",
   "execution_count": null,
   "id": "46334a28",
   "metadata": {},
   "outputs": [],
   "source": [
    "#We fill in the missing prices with the mean of prices for each month\n",
    "calendar_df['price'] = calendar_df.groupby('month_period')['price'].transform(lambda x: x.fillna(x.mean()))"
   ]
  },
  {
   "cell_type": "code",
   "execution_count": null,
   "id": "e0442530",
   "metadata": {},
   "outputs": [
    {
     "data": {
      "image/png": "[encoded data removed]",
      "text/plain": [
       "<Figure size 640x480 with 1 Axes>"
      ]
     },
     "metadata": {},
     "output_type": "display_data"
    }
   ],
   "source": [
    "calendar_df.groupby('month_period')['price'].mean().plot(kind = 'line')\n",
    "plt.yticks(np.arange(80, 200, 20))\n",
    "plt.title('Áverage price of listing by month');"
   ]
  },
  {
   "cell_type": "code",
   "execution_count": null,
   "id": "a32c6419",
   "metadata": {},
   "outputs": [
    {
     "data": {
      "text/html": [
       "<div>\n",
       "<style scoped>\n",
       "    .dataframe tbody tr th:only-of-type {\n",
       "        vertical-align: middle;\n",
       "    }\n",
       "\n",
       "    .dataframe tbody tr th {\n",
       "        vertical-align: top;\n",
       "    }\n",
       "\n",
       "    .dataframe thead th {\n",
       "        text-align: right;\n",
       "    }\n",
       "</style>\n",
       "<table border=\"1\" class=\"dataframe\">\n",
       "  <thead>\n",
       "    <tr style=\"text-align: right;\">\n",
       "      <th></th>\n",
       "      <th>listing_id</th>\n",
       "      <th>date</th>\n",
       "      <th>available</th>\n",
       "      <th>price</th>\n",
       "      <th>month_period</th>\n",
       "      <th>day</th>\n",
       "    </tr>\n",
       "  </thead>\n",
       "  <tbody>\n",
       "    <tr>\n",
       "      <th>0</th>\n",
       "      <td>241032</td>\n",
       "      <td>2016-01-04</td>\n",
       "      <td>True</td>\n",
       "      <td>85.000000</td>\n",
       "      <td>2016-01</td>\n",
       "      <td>Monday</td>\n",
       "    </tr>\n",
       "    <tr>\n",
       "      <th>1</th>\n",
       "      <td>241032</td>\n",
       "      <td>2016-01-05</td>\n",
       "      <td>True</td>\n",
       "      <td>85.000000</td>\n",
       "      <td>2016-01</td>\n",
       "      <td>Tuesday</td>\n",
       "    </tr>\n",
       "    <tr>\n",
       "      <th>2</th>\n",
       "      <td>241032</td>\n",
       "      <td>2016-01-06</td>\n",
       "      <td>False</td>\n",
       "      <td>121.568409</td>\n",
       "      <td>2016-01</td>\n",
       "      <td>Wednesday</td>\n",
       "    </tr>\n",
       "    <tr>\n",
       "      <th>3</th>\n",
       "      <td>241032</td>\n",
       "      <td>2016-01-07</td>\n",
       "      <td>False</td>\n",
       "      <td>121.568409</td>\n",
       "      <td>2016-01</td>\n",
       "      <td>Thursday</td>\n",
       "    </tr>\n",
       "    <tr>\n",
       "      <th>4</th>\n",
       "      <td>241032</td>\n",
       "      <td>2016-01-08</td>\n",
       "      <td>False</td>\n",
       "      <td>121.568409</td>\n",
       "      <td>2016-01</td>\n",
       "      <td>Friday</td>\n",
       "    </tr>\n",
       "  </tbody>\n",
       "</table>\n",
       "</div>"
      ],
      "text/plain": [
       "   listing_id       date  available       price month_period        day\n",
       "0      241032 2016-01-04       True   85.000000      2016-01     Monday\n",
       "1      241032 2016-01-05       True   85.000000      2016-01    Tuesday\n",
       "2      241032 2016-01-06      False  121.568409      2016-01  Wednesday\n",
       "3      241032 2016-01-07      False  121.568409      2016-01   Thursday\n",
       "4      241032 2016-01-08      False  121.568409      2016-01     Friday"
      ]
     },
     "execution_count": 52,
     "metadata": {},
     "output_type": "execute_result"
    }
   ],
   "source": [
    "calendar_df.head()"
   ]
  },
  {
   "cell_type": "code",
   "execution_count": null,
   "id": "cf8d63cb",
   "metadata": {},
   "outputs": [
    {
     "data": {
      "image/png": "[encoded data removed]",
      "text/plain": [
       "<Figure size 640x480 with 1 Axes>"
      ]
     },
     "metadata": {},
     "output_type": "display_data"
    }
   ],
   "source": [
    "# plot of average listing price vs day  of week\n",
    "calendar_df.groupby('day')['price'].mean().sort_values().plot(kind = 'line')\n",
    "plt.yticks(np.arange(120, 160, 5))\n",
    "plt.xticks(rotation = 45)\n",
    "plt.title('Average listing price by day of week')\n",
    "plt.ylabel('average price of listing');"
   ]
  },
  {
   "cell_type": "code",
   "execution_count": null,
   "id": "a3d75593",
   "metadata": {},
   "outputs": [
    {
     "data": {
      "text/html": [
       "<div>\n",
       "<style scoped>\n",
       "    .dataframe tbody tr th:only-of-type {\n",
       "        vertical-align: middle;\n",
       "    }\n",
       "\n",
       "    .dataframe tbody tr th {\n",
       "        vertical-align: top;\n",
       "    }\n",
       "\n",
       "    .dataframe thead th {\n",
       "        text-align: right;\n",
       "    }\n",
       "</style>\n",
       "<table border=\"1\" class=\"dataframe\">\n",
       "  <thead>\n",
       "    <tr style=\"text-align: right;\">\n",
       "      <th></th>\n",
       "      <th>listing_id</th>\n",
       "      <th>date</th>\n",
       "      <th>available</th>\n",
       "      <th>price</th>\n",
       "      <th>month_period</th>\n",
       "      <th>day</th>\n",
       "    </tr>\n",
       "  </thead>\n",
       "  <tbody>\n",
       "    <tr>\n",
       "      <th>0</th>\n",
       "      <td>241032</td>\n",
       "      <td>2016-01-04</td>\n",
       "      <td>True</td>\n",
       "      <td>85.000000</td>\n",
       "      <td>2016-01</td>\n",
       "      <td>Monday</td>\n",
       "    </tr>\n",
       "    <tr>\n",
       "      <th>1</th>\n",
       "      <td>241032</td>\n",
       "      <td>2016-01-05</td>\n",
       "      <td>True</td>\n",
       "      <td>85.000000</td>\n",
       "      <td>2016-01</td>\n",
       "      <td>Tuesday</td>\n",
       "    </tr>\n",
       "    <tr>\n",
       "      <th>2</th>\n",
       "      <td>241032</td>\n",
       "      <td>2016-01-06</td>\n",
       "      <td>False</td>\n",
       "      <td>121.568409</td>\n",
       "      <td>2016-01</td>\n",
       "      <td>Wednesday</td>\n",
       "    </tr>\n",
       "    <tr>\n",
       "      <th>3</th>\n",
       "      <td>241032</td>\n",
       "      <td>2016-01-07</td>\n",
       "      <td>False</td>\n",
       "      <td>121.568409</td>\n",
       "      <td>2016-01</td>\n",
       "      <td>Thursday</td>\n",
       "    </tr>\n",
       "    <tr>\n",
       "      <th>4</th>\n",
       "      <td>241032</td>\n",
       "      <td>2016-01-08</td>\n",
       "      <td>False</td>\n",
       "      <td>121.568409</td>\n",
       "      <td>2016-01</td>\n",
       "      <td>Friday</td>\n",
       "    </tr>\n",
       "    <tr>\n",
       "      <th>...</th>\n",
       "      <td>...</td>\n",
       "      <td>...</td>\n",
       "      <td>...</td>\n",
       "      <td>...</td>\n",
       "      <td>...</td>\n",
       "      <td>...</td>\n",
       "    </tr>\n",
       "    <tr>\n",
       "      <th>1393565</th>\n",
       "      <td>10208623</td>\n",
       "      <td>2016-12-29</td>\n",
       "      <td>False</td>\n",
       "      <td>137.251835</td>\n",
       "      <td>2016-12</td>\n",
       "      <td>Thursday</td>\n",
       "    </tr>\n",
       "    <tr>\n",
       "      <th>1393566</th>\n",
       "      <td>10208623</td>\n",
       "      <td>2016-12-30</td>\n",
       "      <td>False</td>\n",
       "      <td>137.251835</td>\n",
       "      <td>2016-12</td>\n",
       "      <td>Friday</td>\n",
       "    </tr>\n",
       "    <tr>\n",
       "      <th>1393567</th>\n",
       "      <td>10208623</td>\n",
       "      <td>2016-12-31</td>\n",
       "      <td>False</td>\n",
       "      <td>137.251835</td>\n",
       "      <td>2016-12</td>\n",
       "      <td>Saturday</td>\n",
       "    </tr>\n",
       "    <tr>\n",
       "      <th>1393568</th>\n",
       "      <td>10208623</td>\n",
       "      <td>2017-01-01</td>\n",
       "      <td>False</td>\n",
       "      <td>136.882590</td>\n",
       "      <td>2017-01</td>\n",
       "      <td>Sunday</td>\n",
       "    </tr>\n",
       "    <tr>\n",
       "      <th>1393569</th>\n",
       "      <td>10208623</td>\n",
       "      <td>2017-01-02</td>\n",
       "      <td>False</td>\n",
       "      <td>136.882590</td>\n",
       "      <td>2017-01</td>\n",
       "      <td>Monday</td>\n",
       "    </tr>\n",
       "  </tbody>\n",
       "</table>\n",
       "<p>1393570 rows × 6 columns</p>\n",
       "</div>"
      ],
      "text/plain": [
       "         listing_id       date  available       price month_period        day\n",
       "0            241032 2016-01-04       True   85.000000      2016-01     Monday\n",
       "1            241032 2016-01-05       True   85.000000      2016-01    Tuesday\n",
       "2            241032 2016-01-06      False  121.568409      2016-01  Wednesday\n",
       "3            241032 2016-01-07      False  121.568409      2016-01   Thursday\n",
       "4            241032 2016-01-08      False  121.568409      2016-01     Friday\n",
       "...             ...        ...        ...         ...          ...        ...\n",
       "1393565    10208623 2016-12-29      False  137.251835      2016-12   Thursday\n",
       "1393566    10208623 2016-12-30      False  137.251835      2016-12     Friday\n",
       "1393567    10208623 2016-12-31      False  137.251835      2016-12   Saturday\n",
       "1393568    10208623 2017-01-01      False  136.882590      2017-01     Sunday\n",
       "1393569    10208623 2017-01-02      False  136.882590      2017-01     Monday\n",
       "\n",
       "[1393570 rows x 6 columns]"
      ]
     },
     "execution_count": 54,
     "metadata": {},
     "output_type": "execute_result"
    }
   ],
   "source": [
    "calendar_df"
   ]
  },
  {
   "cell_type": "markdown",
   "id": "c18d306a",
   "metadata": {},
   "source": [
    "##### Observation:\n",
    "- Here, we see that indirectly proportional to average availability, on the average, prices are higher towards the middle of the year around the summer holiday periods (between **June** and **August**) and tend to drop after august.\n",
    "- We also see that on the average listing prices are higher on the weekends (Friday and Saturday) and tend to drop and even out on week days and on sunday\n",
    "\n",
    "\n",
    "##### We can further explore the average price of listings in neighbourhood groups around the summer period to see what areas to visit if on a budget to get  the cheapest prices in the summer."
   ]
  },
  {
   "cell_type": "code",
   "execution_count": null,
   "id": "c377b516",
   "metadata": {},
   "outputs": [],
   "source": [
    "# merging the listing_df dataframe and calendar_df dataframe to get date column added to the listing dataframe\n",
    "merged = listing_df.merge(calendar_df, left_on='id', right_on='listing_id')"
   ]
  },
  {
   "cell_type": "code",
   "execution_count": null,
   "id": "a32de5c4",
   "metadata": {},
   "outputs": [],
   "source": [
    "# Getting a subset(summer months) dataframe\n",
    "summer = merged.loc[merged['month_period'].dt.month.isin([6, 7, 8])][['id', 'neighbourhood', 'neighbourhood_group', 'price_y', 'month_period']]"
   ]
  },
  {
   "cell_type": "code",
   "execution_count": null,
   "id": "11954a51",
   "metadata": {},
   "outputs": [
    {
     "name": "stdout",
     "output_type": "stream",
     "text": [
      "<class 'pandas.core.frame.DataFrame'>\n",
      "Int64Index: 351256 entries, 149 to 1393445\n",
      "Data columns (total 5 columns):\n",
      " #   Column               Non-Null Count   Dtype    \n",
      "---  ------               --------------   -----    \n",
      " 0   id                   351256 non-null  int64    \n",
      " 1   neighbourhood        351256 non-null  object   \n",
      " 2   neighbourhood_group  351256 non-null  object   \n",
      " 3   price_y              351256 non-null  float64  \n",
      " 4   month_period         351256 non-null  period[M]\n",
      "dtypes: float64(1), int64(1), object(2), period[M](1)\n",
      "memory usage: 16.1+ MB\n"
     ]
    }
   ],
   "source": [
    "summer.info()"
   ]
  },
  {
   "cell_type": "code",
   "execution_count": null,
   "id": "fab4fb82",
   "metadata": {},
   "outputs": [
    {
     "data": {
      "text/plain": [
       "Text(0.5, 1.0, 'Costliest Neighbourhoodgroups on average in summer')"
      ]
     },
     "execution_count": 58,
     "metadata": {},
     "output_type": "execute_result"
    },
    {
     "data": {
      "image/png": "[encoded data removed]",
      "text/plain": [
       "<Figure size 1500x500 with 2 Axes>"
      ]
     },
     "metadata": {},
     "output_type": "display_data"
    }
   ],
   "source": [
    "plt.figure(figsize = (15, 5))\n",
    "plt.subplot(1, 2, 1)\n",
    "summer.groupby(['neighbourhood_group', 'month_period'])[ 'price_y'].mean().sort_values().nsmallest(10).plot(kind = 'bar')\n",
    "plt.title('Cheapest Neighbourhoodgroup on average In summer')\n",
    "\n",
    "#\n",
    "plt.subplot(1,2, 2)\n",
    "summer.groupby(['neighbourhood_group', 'month_period'])[ 'price_y'].mean().sort_values().nlargest(10).plot(kind = 'bar')\n",
    "plt.title('Costliest Neighbourhoodgroups on average in summer')"
   ]
  },
  {
   "cell_type": "markdown",
   "id": "cb92f9da",
   "metadata": {},
   "source": [
    "- We see Neighbourhood groups like **Delridge, Northgate, Lake City and Beacon Hill** under \\$120 per night during the summer period\n",
    "- We also see Neighbourhood groups like **Downtown, Magnolia, Queen Anne, Cascade** doing a minimum of over \\\\$150 on average and going as high as \\$200 dollars per night on average\n",
    "\n",
    "> **Note:** We can get Neighbourhoods that go as low as 20dollars in areas like Queen Anne and Downtown and other highbrow areas and get costly listings around low brow neighbourhoods too."
   ]
  },
  {
   "cell_type": "markdown",
   "id": "895d0898",
   "metadata": {},
   "source": [
    "### Cleaning and Wrangling the Reviews Dataframe"
   ]
  },
  {
   "cell_type": "code",
   "execution_count": null,
   "id": "5eccd3a9",
   "metadata": {},
   "outputs": [
    {
     "data": {
      "text/html": [
       "<div>\n",
       "<style scoped>\n",
       "    .dataframe tbody tr th:only-of-type {\n",
       "        vertical-align: middle;\n",
       "    }\n",
       "\n",
       "    .dataframe tbody tr th {\n",
       "        vertical-align: top;\n",
       "    }\n",
       "\n",
       "    .dataframe thead th {\n",
       "        text-align: right;\n",
       "    }\n",
       "</style>\n",
       "<table border=\"1\" class=\"dataframe\">\n",
       "  <thead>\n",
       "    <tr style=\"text-align: right;\">\n",
       "      <th></th>\n",
       "      <th>listing_id</th>\n",
       "      <th>id</th>\n",
       "      <th>date</th>\n",
       "      <th>reviewer_id</th>\n",
       "      <th>reviewer_name</th>\n",
       "      <th>comments</th>\n",
       "    </tr>\n",
       "  </thead>\n",
       "  <tbody>\n",
       "    <tr>\n",
       "      <th>0</th>\n",
       "      <td>7202016</td>\n",
       "      <td>38917982</td>\n",
       "      <td>2015-07-19</td>\n",
       "      <td>28943674</td>\n",
       "      <td>Bianca</td>\n",
       "      <td>Cute and cozy place. Perfect location to every...</td>\n",
       "    </tr>\n",
       "    <tr>\n",
       "      <th>1</th>\n",
       "      <td>7202016</td>\n",
       "      <td>39087409</td>\n",
       "      <td>2015-07-20</td>\n",
       "      <td>32440555</td>\n",
       "      <td>Frank</td>\n",
       "      <td>Kelly has a great room in a very central locat...</td>\n",
       "    </tr>\n",
       "    <tr>\n",
       "      <th>2</th>\n",
       "      <td>7202016</td>\n",
       "      <td>39820030</td>\n",
       "      <td>2015-07-26</td>\n",
       "      <td>37722850</td>\n",
       "      <td>Ian</td>\n",
       "      <td>Very spacious apartment, and in a great neighb...</td>\n",
       "    </tr>\n",
       "    <tr>\n",
       "      <th>3</th>\n",
       "      <td>7202016</td>\n",
       "      <td>40813543</td>\n",
       "      <td>2015-08-02</td>\n",
       "      <td>33671805</td>\n",
       "      <td>George</td>\n",
       "      <td>Close to Seattle Center and all it has to offe...</td>\n",
       "    </tr>\n",
       "    <tr>\n",
       "      <th>4</th>\n",
       "      <td>7202016</td>\n",
       "      <td>41986501</td>\n",
       "      <td>2015-08-10</td>\n",
       "      <td>34959538</td>\n",
       "      <td>Ming</td>\n",
       "      <td>Kelly was a great host and very accommodating ...</td>\n",
       "    </tr>\n",
       "    <tr>\n",
       "      <th>...</th>\n",
       "      <td>...</td>\n",
       "      <td>...</td>\n",
       "      <td>...</td>\n",
       "      <td>...</td>\n",
       "      <td>...</td>\n",
       "      <td>...</td>\n",
       "    </tr>\n",
       "    <tr>\n",
       "      <th>84844</th>\n",
       "      <td>3624990</td>\n",
       "      <td>50436321</td>\n",
       "      <td>2015-10-12</td>\n",
       "      <td>37419458</td>\n",
       "      <td>Ryan</td>\n",
       "      <td>The description and pictures of the apartment ...</td>\n",
       "    </tr>\n",
       "    <tr>\n",
       "      <th>84845</th>\n",
       "      <td>3624990</td>\n",
       "      <td>51024875</td>\n",
       "      <td>2015-10-17</td>\n",
       "      <td>6933252</td>\n",
       "      <td>Linda</td>\n",
       "      <td>We had an excellent stay. It was clean and com...</td>\n",
       "    </tr>\n",
       "    <tr>\n",
       "      <th>84846</th>\n",
       "      <td>3624990</td>\n",
       "      <td>51511988</td>\n",
       "      <td>2015-10-20</td>\n",
       "      <td>19543701</td>\n",
       "      <td>Jaime</td>\n",
       "      <td>Gran ubicación, cerca de todo lo atractivo del...</td>\n",
       "    </tr>\n",
       "    <tr>\n",
       "      <th>84847</th>\n",
       "      <td>3624990</td>\n",
       "      <td>52814482</td>\n",
       "      <td>2015-11-02</td>\n",
       "      <td>24445024</td>\n",
       "      <td>Jørgen</td>\n",
       "      <td>Very good apartement, clean and well sized. Si...</td>\n",
       "    </tr>\n",
       "    <tr>\n",
       "      <th>84848</th>\n",
       "      <td>9727246</td>\n",
       "      <td>56429621</td>\n",
       "      <td>2015-12-13</td>\n",
       "      <td>30860360</td>\n",
       "      <td>Stephanie</td>\n",
       "      <td>Breanne was a great host. Check in was easy, s...</td>\n",
       "    </tr>\n",
       "  </tbody>\n",
       "</table>\n",
       "<p>84849 rows × 6 columns</p>\n",
       "</div>"
      ],
      "text/plain": [
       "       listing_id        id        date  reviewer_id reviewer_name  \\\n",
       "0         7202016  38917982  2015-07-19     28943674        Bianca   \n",
       "1         7202016  39087409  2015-07-20     32440555         Frank   \n",
       "2         7202016  39820030  2015-07-26     37722850           Ian   \n",
       "3         7202016  40813543  2015-08-02     33671805        George   \n",
       "4         7202016  41986501  2015-08-10     34959538          Ming   \n",
       "...           ...       ...         ...          ...           ...   \n",
       "84844     3624990  50436321  2015-10-12     37419458          Ryan   \n",
       "84845     3624990  51024875  2015-10-17      6933252         Linda   \n",
       "84846     3624990  51511988  2015-10-20     19543701         Jaime   \n",
       "84847     3624990  52814482  2015-11-02     24445024        Jørgen   \n",
       "84848     9727246  56429621  2015-12-13     30860360     Stephanie   \n",
       "\n",
       "                                                comments  \n",
       "0      Cute and cozy place. Perfect location to every...  \n",
       "1      Kelly has a great room in a very central locat...  \n",
       "2      Very spacious apartment, and in a great neighb...  \n",
       "3      Close to Seattle Center and all it has to offe...  \n",
       "4      Kelly was a great host and very accommodating ...  \n",
       "...                                                  ...  \n",
       "84844  The description and pictures of the apartment ...  \n",
       "84845  We had an excellent stay. It was clean and com...  \n",
       "84846  Gran ubicación, cerca de todo lo atractivo del...  \n",
       "84847  Very good apartement, clean and well sized. Si...  \n",
       "84848  Breanne was a great host. Check in was easy, s...  \n",
       "\n",
       "[84849 rows x 6 columns]"
      ]
     },
     "execution_count": 59,
     "metadata": {},
     "output_type": "execute_result"
    }
   ],
   "source": [
    "reviews_df"
   ]
  },
  {
   "cell_type": "code",
   "execution_count": null,
   "id": "b2f3e55a",
   "metadata": {},
   "outputs": [
    {
     "data": {
      "text/html": [
       "<div>\n",
       "<style scoped>\n",
       "    .dataframe tbody tr th:only-of-type {\n",
       "        vertical-align: middle;\n",
       "    }\n",
       "\n",
       "    .dataframe tbody tr th {\n",
       "        vertical-align: top;\n",
       "    }\n",
       "\n",
       "    .dataframe thead th {\n",
       "        text-align: right;\n",
       "    }\n",
       "</style>\n",
       "<table border=\"1\" class=\"dataframe\">\n",
       "  <thead>\n",
       "    <tr style=\"text-align: right;\">\n",
       "      <th></th>\n",
       "      <th>listing_id</th>\n",
       "      <th>id</th>\n",
       "      <th>date</th>\n",
       "      <th>reviewer_id</th>\n",
       "      <th>reviewer_name</th>\n",
       "      <th>comments</th>\n",
       "    </tr>\n",
       "  </thead>\n",
       "  <tbody>\n",
       "    <tr>\n",
       "      <th>0</th>\n",
       "      <td>7202016</td>\n",
       "      <td>38917982</td>\n",
       "      <td>2015-07-19</td>\n",
       "      <td>28943674</td>\n",
       "      <td>Bianca</td>\n",
       "      <td>Cute and cozy place. Perfect location to every...</td>\n",
       "    </tr>\n",
       "    <tr>\n",
       "      <th>1</th>\n",
       "      <td>7202016</td>\n",
       "      <td>39087409</td>\n",
       "      <td>2015-07-20</td>\n",
       "      <td>32440555</td>\n",
       "      <td>Frank</td>\n",
       "      <td>Kelly has a great room in a very central locat...</td>\n",
       "    </tr>\n",
       "    <tr>\n",
       "      <th>2</th>\n",
       "      <td>7202016</td>\n",
       "      <td>39820030</td>\n",
       "      <td>2015-07-26</td>\n",
       "      <td>37722850</td>\n",
       "      <td>Ian</td>\n",
       "      <td>Very spacious apartment, and in a great neighb...</td>\n",
       "    </tr>\n",
       "    <tr>\n",
       "      <th>3</th>\n",
       "      <td>7202016</td>\n",
       "      <td>40813543</td>\n",
       "      <td>2015-08-02</td>\n",
       "      <td>33671805</td>\n",
       "      <td>George</td>\n",
       "      <td>Close to Seattle Center and all it has to offe...</td>\n",
       "    </tr>\n",
       "    <tr>\n",
       "      <th>4</th>\n",
       "      <td>7202016</td>\n",
       "      <td>41986501</td>\n",
       "      <td>2015-08-10</td>\n",
       "      <td>34959538</td>\n",
       "      <td>Ming</td>\n",
       "      <td>Kelly was a great host and very accommodating ...</td>\n",
       "    </tr>\n",
       "  </tbody>\n",
       "</table>\n",
       "</div>"
      ],
      "text/plain": [
       "   listing_id        id        date  reviewer_id reviewer_name  \\\n",
       "0     7202016  38917982  2015-07-19     28943674        Bianca   \n",
       "1     7202016  39087409  2015-07-20     32440555         Frank   \n",
       "2     7202016  39820030  2015-07-26     37722850           Ian   \n",
       "3     7202016  40813543  2015-08-02     33671805        George   \n",
       "4     7202016  41986501  2015-08-10     34959538          Ming   \n",
       "\n",
       "                                            comments  \n",
       "0  Cute and cozy place. Perfect location to every...  \n",
       "1  Kelly has a great room in a very central locat...  \n",
       "2  Very spacious apartment, and in a great neighb...  \n",
       "3  Close to Seattle Center and all it has to offe...  \n",
       "4  Kelly was a great host and very accommodating ...  "
      ]
     },
     "execution_count": 60,
     "metadata": {},
     "output_type": "execute_result"
    }
   ],
   "source": [
    "reviews_df.head()"
   ]
  },
  {
   "cell_type": "code",
   "execution_count": null,
   "id": "0e38e871",
   "metadata": {},
   "outputs": [
    {
     "data": {
      "text/plain": [
       "listing_id        int64\n",
       "id                int64\n",
       "date             object\n",
       "reviewer_id       int64\n",
       "reviewer_name    object\n",
       "comments         object\n",
       "dtype: object"
      ]
     },
     "execution_count": 61,
     "metadata": {},
     "output_type": "execute_result"
    }
   ],
   "source": [
    "reviews_df.dtypes"
   ]
  },
  {
   "cell_type": "code",
   "execution_count": null,
   "id": "5c70f3a4",
   "metadata": {},
   "outputs": [],
   "source": [
    "reviews_df['date'] = pd.to_datetime(reviews_df['date'])"
   ]
  },
  {
   "cell_type": "code",
   "execution_count": null,
   "id": "7fc17e6a",
   "metadata": {},
   "outputs": [
    {
     "data": {
      "text/plain": [
       "listing_id                int64\n",
       "id                        int64\n",
       "date             datetime64[ns]\n",
       "reviewer_id               int64\n",
       "reviewer_name            object\n",
       "comments                 object\n",
       "dtype: object"
      ]
     },
     "execution_count": 63,
     "metadata": {},
     "output_type": "execute_result"
    }
   ],
   "source": [
    "reviews_df.dtypes"
   ]
  },
  {
   "cell_type": "code",
   "execution_count": null,
   "id": "5ed6824e",
   "metadata": {},
   "outputs": [],
   "source": [
    "reviews_df['month_period'] = reviews_df['date'].dt.to_period('M')"
   ]
  },
  {
   "cell_type": "code",
   "execution_count": null,
   "id": "2273e049",
   "metadata": {},
   "outputs": [
    {
     "name": "stdout",
     "output_type": "stream",
     "text": [
      "<class 'pandas.core.frame.DataFrame'>\n",
      "RangeIndex: 84849 entries, 0 to 84848\n",
      "Data columns (total 7 columns):\n",
      " #   Column         Non-Null Count  Dtype         \n",
      "---  ------         --------------  -----         \n",
      " 0   listing_id     84849 non-null  int64         \n",
      " 1   id             84849 non-null  int64         \n",
      " 2   date           84849 non-null  datetime64[ns]\n",
      " 3   reviewer_id    84849 non-null  int64         \n",
      " 4   reviewer_name  84849 non-null  object        \n",
      " 5   comments       84831 non-null  object        \n",
      " 6   month_period   84849 non-null  period[M]     \n",
      "dtypes: datetime64[ns](1), int64(3), object(2), period[M](1)\n",
      "memory usage: 4.5+ MB\n"
     ]
    }
   ],
   "source": [
    "reviews_df.info()"
   ]
  },
  {
   "cell_type": "code",
   "execution_count": null,
   "id": "242baa54",
   "metadata": {},
   "outputs": [
    {
     "data": {
      "text/plain": [
       "2015-08    7963\n",
       "2015-09    6985\n",
       "2015-07    6580\n",
       "2015-06    5549\n",
       "2015-10    5536\n",
       "           ... \n",
       "2010-02       3\n",
       "2009-09       2\n",
       "2009-06       2\n",
       "2009-08       1\n",
       "2009-07       1\n",
       "Freq: M, Name: month_period, Length: 79, dtype: int64"
      ]
     },
     "execution_count": 66,
     "metadata": {},
     "output_type": "execute_result"
    }
   ],
   "source": [
    "reviews_df.month_period.value_counts()"
   ]
  },
  {
   "cell_type": "code",
   "execution_count": null,
   "id": "8ea7a48d",
   "metadata": {},
   "outputs": [],
   "source": [
    "reviews_df['year_period'] = reviews_df['date'].dt.year"
   ]
  },
  {
   "cell_type": "markdown",
   "id": "2ad69e45",
   "metadata": {},
   "source": [
    "##### Trend in number of listings by the years"
   ]
  },
  {
   "cell_type": "code",
   "execution_count": null,
   "id": "a49bbe16",
   "metadata": {},
   "outputs": [
    {
     "data": {
      "image/png": "[encoded data removed]",
      "text/plain": [
       "<Figure size 640x480 with 1 Axes>"
      ]
     },
     "metadata": {},
     "output_type": "display_data"
    }
   ],
   "source": [
    "reviews_df.groupby('year_period')['id'].count().plot(kind = 'line')\n",
    "plt.xticks(rotation = 45)\n",
    "plt.ylabel('number of listings');"
   ]
  },
  {
   "cell_type": "code",
   "execution_count": null,
   "id": "c35c50a8",
   "metadata": {},
   "outputs": [
    {
     "data": {
      "text/plain": [
       "Timestamp('2016-01-03 00:00:00')"
      ]
     },
     "execution_count": 69,
     "metadata": {},
     "output_type": "execute_result"
    }
   ],
   "source": [
    "reviews_df['date'].max()"
   ]
  },
  {
   "cell_type": "markdown",
   "id": "1e0bb7c0",
   "metadata": {},
   "source": [
    "- We see a general upward trend in the number of airbnb listings over the years with occasional dips\n",
    "- the graph seems to dip in the end but that is only because the data stops on the 3rd day of january 2016"
   ]
  },
  {
   "cell_type": "markdown",
   "id": "34e01605",
   "metadata": {},
   "source": [
    "### Modelling for Price Predition"
   ]
  },
  {
   "cell_type": "code",
   "execution_count": null,
   "id": "a0d500ad",
   "metadata": {},
   "outputs": [
    {
     "data": {
      "text/plain": [
       "Text(0, 0.5, 'correlation')"
      ]
     },
     "execution_count": 70,
     "metadata": {},
     "output_type": "execute_result"
    },
    {
     "data": {
      "image/png": "[encoded data removed]",
      "text/plain": [
       "<Figure size 640x480 with 1 Axes>"
      ]
     },
     "metadata": {},
     "output_type": "display_data"
    }
   ],
   "source": [
    "# A plot of numerical features showing correlation to price\n",
    "listing_df.corr()['price'].plot(kind = 'bar')\n",
    "plt.title('correlation plot')\n",
    "plt.xlabel('numerical features')\n",
    "plt.ylabel('correlation')"
   ]
  },
  {
   "cell_type": "markdown",
   "id": "5b26fd8e",
   "metadata": {},
   "source": [
    "Numerical features showing a strong positive correlation to price are: **Accommodates, Bathrooms, Bedrooms, Beds, Guests_included.** The more of these we have, the higher the price.\n",
    "> **Surprisingly we see that reviews have very weak negative correlations with price.**\n",
    "    "
   ]
  },
  {
   "cell_type": "code",
   "execution_count": null,
   "id": "e6a77647",
   "metadata": {},
   "outputs": [],
   "source": [
    "#Drop Columns that are irrelevant to the price modelling\n",
    "Unneeded_columns = ['id', 'street', 'city', 'state', 'cleaning_fee', 'extra_people', 'calendar_last_scraped','calendar_updated',\n",
    "                    'neighbourhood', 'listing_url', 'scrape_id', 'last_scraped', 'name', 'summary',\n",
    "       'space', 'description', 'experiences_offered', 'neighborhood_overview',\n",
    "       'transit', 'thumbnail_url', 'medium_url', 'picture_url',\n",
    "       'xl_picture_url', 'host_id', 'host_url', 'host_name', 'host_since',\n",
    "       'host_location', 'host_about', 'host_response_time',\n",
    "       'host_response_rate', 'host_acceptance_rate', 'host_is_superhost',\n",
    "       'host_thumbnail_url', 'host_picture_url', 'host_neighbourhood',\n",
    "       'host_listings_count', 'host_total_listings_count',\n",
    "       'host_verifications', 'host_has_profile_pic', 'host_identity_verified', 'zipcode',\n",
    "       'smart_location', 'country_code', 'country', 'latitude', 'longitude',\n",
    "       'is_location_exact', 'zipcode', 'first_review', 'last_review',\n",
    "       'smart_location', 'country_code', 'country', 'latitude', 'longitude',\n",
    "       'is_location_exact', 'calculated_host_listings_count', 'jurisdiction_names']"
   ]
  },
  {
   "cell_type": "markdown",
   "id": "3d643709",
   "metadata": {},
   "source": [
    "> **Note:** If this dataset involved comparing data for different states or cities then it would have been important to leave the city, state, street columns. But since we are focusing on only the Seattle area, only neighbourhood and neighbourhood group in terms of listing location are important to predict price."
   ]
  },
  {
   "cell_type": "code",
   "execution_count": null,
   "id": "e6d2f413",
   "metadata": {},
   "outputs": [],
   "source": [
    "listing_df.drop(Unneeded_columns, axis = 1, inplace = True)"
   ]
  },
  {
   "cell_type": "code",
   "execution_count": null,
   "id": "fb7400a8",
   "metadata": {},
   "outputs": [],
   "source": [
    "listing_df = listing_df[~listing_df.isnull().any(axis=1)]"
   ]
  },
  {
   "cell_type": "code",
   "execution_count": null,
   "id": "175dd94f",
   "metadata": {},
   "outputs": [
    {
     "name": "stdout",
     "output_type": "stream",
     "text": [
      "<class 'pandas.core.frame.DataFrame'>\n",
      "Int64Index: 3140 entries, 0 to 3814\n",
      "Data columns (total 32 columns):\n",
      " #   Column                            Non-Null Count  Dtype  \n",
      "---  ------                            --------------  -----  \n",
      " 0   neighbourhood_group               3140 non-null   object \n",
      " 1   property_type                     3140 non-null   object \n",
      " 2   room_type                         3140 non-null   object \n",
      " 3   accommodates                      3140 non-null   int64  \n",
      " 4   bathrooms                         3140 non-null   float64\n",
      " 5   bedrooms                          3140 non-null   float64\n",
      " 6   beds                              3140 non-null   float64\n",
      " 7   bed_type                          3140 non-null   object \n",
      " 8   amenities                         3140 non-null   object \n",
      " 9   price                             3140 non-null   float64\n",
      " 10  guests_included                   3140 non-null   int64  \n",
      " 11  minimum_nights                    3140 non-null   int64  \n",
      " 12  maximum_nights                    3140 non-null   int64  \n",
      " 13  has_availability                  3140 non-null   bool   \n",
      " 14  availability_30                   3140 non-null   int64  \n",
      " 15  availability_60                   3140 non-null   int64  \n",
      " 16  availability_90                   3140 non-null   int64  \n",
      " 17  availability_365                  3140 non-null   int64  \n",
      " 18  number_of_reviews                 3140 non-null   int64  \n",
      " 19  review_scores_rating              3140 non-null   float64\n",
      " 20  review_scores_accuracy            3140 non-null   float64\n",
      " 21  review_scores_cleanliness         3140 non-null   float64\n",
      " 22  review_scores_checkin             3140 non-null   float64\n",
      " 23  review_scores_communication       3140 non-null   float64\n",
      " 24  review_scores_location            3140 non-null   float64\n",
      " 25  review_scores_value               3140 non-null   float64\n",
      " 26  requires_license                  3140 non-null   bool   \n",
      " 27  instant_bookable                  3140 non-null   bool   \n",
      " 28  cancellation_policy               3140 non-null   object \n",
      " 29  require_guest_profile_picture     3140 non-null   bool   \n",
      " 30  require_guest_phone_verification  3140 non-null   bool   \n",
      " 31  reviews_per_month                 3140 non-null   float64\n",
      "dtypes: bool(5), float64(12), int64(9), object(6)\n",
      "memory usage: 702.2+ KB\n"
     ]
    }
   ],
   "source": [
    "listing_df.info()"
   ]
  },
  {
   "cell_type": "code",
   "execution_count": null,
   "id": "38a1d9ee",
   "metadata": {},
   "outputs": [
    {
     "name": "stderr",
     "output_type": "stream",
     "text": [
      "C:\\Users\\loveo\\anaconda3\\lib\\site-packages\\sklearn\\feature_extraction\\text.py:528: UserWarning: The parameter 'token_pattern' will not be used since 'tokenizer' is not None'\n",
      "  warnings.warn(\n"
     ]
    },
    {
     "data": {
      "text/html": [
       "<div>\n",
       "<style scoped>\n",
       "    .dataframe tbody tr th:only-of-type {\n",
       "        vertical-align: middle;\n",
       "    }\n",
       "\n",
       "    .dataframe tbody tr th {\n",
       "        vertical-align: top;\n",
       "    }\n",
       "\n",
       "    .dataframe thead th {\n",
       "        text-align: right;\n",
       "    }\n",
       "</style>\n",
       "<table border=\"1\" class=\"dataframe\">\n",
       "  <thead>\n",
       "    <tr style=\"text-align: right;\">\n",
       "      <th></th>\n",
       "      <th></th>\n",
       "      <th>24-hour_check-in</th>\n",
       "      <th>air_conditioning</th>\n",
       "      <th>breakfast</th>\n",
       "      <th>buzzer/wireless_intercom</th>\n",
       "      <th>cable_tv</th>\n",
       "      <th>carbon_monoxide_detector</th>\n",
       "      <th>cat(s)</th>\n",
       "      <th>dog(s)</th>\n",
       "      <th>doorman</th>\n",
       "      <th>...</th>\n",
       "      <th>safety_card</th>\n",
       "      <th>shampoo</th>\n",
       "      <th>smoke_detector</th>\n",
       "      <th>smoking_allowed</th>\n",
       "      <th>suitable_for_events</th>\n",
       "      <th>tv</th>\n",
       "      <th>washer</th>\n",
       "      <th>washer_/_dryer</th>\n",
       "      <th>wheelchair_accessible</th>\n",
       "      <th>wireless_internet</th>\n",
       "    </tr>\n",
       "  </thead>\n",
       "  <tbody>\n",
       "    <tr>\n",
       "      <th>0</th>\n",
       "      <td>0</td>\n",
       "      <td>0</td>\n",
       "      <td>1</td>\n",
       "      <td>0</td>\n",
       "      <td>0</td>\n",
       "      <td>1</td>\n",
       "      <td>0</td>\n",
       "      <td>0</td>\n",
       "      <td>0</td>\n",
       "      <td>0</td>\n",
       "      <td>...</td>\n",
       "      <td>0</td>\n",
       "      <td>0</td>\n",
       "      <td>0</td>\n",
       "      <td>0</td>\n",
       "      <td>0</td>\n",
       "      <td>1</td>\n",
       "      <td>1</td>\n",
       "      <td>0</td>\n",
       "      <td>0</td>\n",
       "      <td>1</td>\n",
       "    </tr>\n",
       "    <tr>\n",
       "      <th>1</th>\n",
       "      <td>0</td>\n",
       "      <td>0</td>\n",
       "      <td>0</td>\n",
       "      <td>0</td>\n",
       "      <td>1</td>\n",
       "      <td>0</td>\n",
       "      <td>1</td>\n",
       "      <td>0</td>\n",
       "      <td>0</td>\n",
       "      <td>0</td>\n",
       "      <td>...</td>\n",
       "      <td>1</td>\n",
       "      <td>0</td>\n",
       "      <td>1</td>\n",
       "      <td>0</td>\n",
       "      <td>0</td>\n",
       "      <td>1</td>\n",
       "      <td>1</td>\n",
       "      <td>0</td>\n",
       "      <td>0</td>\n",
       "      <td>1</td>\n",
       "    </tr>\n",
       "    <tr>\n",
       "      <th>2</th>\n",
       "      <td>0</td>\n",
       "      <td>0</td>\n",
       "      <td>1</td>\n",
       "      <td>0</td>\n",
       "      <td>0</td>\n",
       "      <td>1</td>\n",
       "      <td>1</td>\n",
       "      <td>1</td>\n",
       "      <td>1</td>\n",
       "      <td>0</td>\n",
       "      <td>...</td>\n",
       "      <td>0</td>\n",
       "      <td>1</td>\n",
       "      <td>1</td>\n",
       "      <td>0</td>\n",
       "      <td>0</td>\n",
       "      <td>1</td>\n",
       "      <td>1</td>\n",
       "      <td>0</td>\n",
       "      <td>0</td>\n",
       "      <td>1</td>\n",
       "    </tr>\n",
       "    <tr>\n",
       "      <th>3</th>\n",
       "      <td>0</td>\n",
       "      <td>0</td>\n",
       "      <td>0</td>\n",
       "      <td>0</td>\n",
       "      <td>0</td>\n",
       "      <td>0</td>\n",
       "      <td>1</td>\n",
       "      <td>0</td>\n",
       "      <td>0</td>\n",
       "      <td>0</td>\n",
       "      <td>...</td>\n",
       "      <td>1</td>\n",
       "      <td>1</td>\n",
       "      <td>1</td>\n",
       "      <td>0</td>\n",
       "      <td>0</td>\n",
       "      <td>0</td>\n",
       "      <td>1</td>\n",
       "      <td>0</td>\n",
       "      <td>0</td>\n",
       "      <td>1</td>\n",
       "    </tr>\n",
       "    <tr>\n",
       "      <th>4</th>\n",
       "      <td>0</td>\n",
       "      <td>0</td>\n",
       "      <td>0</td>\n",
       "      <td>0</td>\n",
       "      <td>0</td>\n",
       "      <td>1</td>\n",
       "      <td>1</td>\n",
       "      <td>0</td>\n",
       "      <td>0</td>\n",
       "      <td>0</td>\n",
       "      <td>...</td>\n",
       "      <td>0</td>\n",
       "      <td>1</td>\n",
       "      <td>1</td>\n",
       "      <td>0</td>\n",
       "      <td>0</td>\n",
       "      <td>1</td>\n",
       "      <td>0</td>\n",
       "      <td>0</td>\n",
       "      <td>0</td>\n",
       "      <td>1</td>\n",
       "    </tr>\n",
       "    <tr>\n",
       "      <th>...</th>\n",
       "      <td>...</td>\n",
       "      <td>...</td>\n",
       "      <td>...</td>\n",
       "      <td>...</td>\n",
       "      <td>...</td>\n",
       "      <td>...</td>\n",
       "      <td>...</td>\n",
       "      <td>...</td>\n",
       "      <td>...</td>\n",
       "      <td>...</td>\n",
       "      <td>...</td>\n",
       "      <td>...</td>\n",
       "      <td>...</td>\n",
       "      <td>...</td>\n",
       "      <td>...</td>\n",
       "      <td>...</td>\n",
       "      <td>...</td>\n",
       "      <td>...</td>\n",
       "      <td>...</td>\n",
       "      <td>...</td>\n",
       "      <td>...</td>\n",
       "    </tr>\n",
       "    <tr>\n",
       "      <th>3813</th>\n",
       "      <td>0</td>\n",
       "      <td>0</td>\n",
       "      <td>1</td>\n",
       "      <td>0</td>\n",
       "      <td>0</td>\n",
       "      <td>1</td>\n",
       "      <td>0</td>\n",
       "      <td>0</td>\n",
       "      <td>0</td>\n",
       "      <td>0</td>\n",
       "      <td>...</td>\n",
       "      <td>0</td>\n",
       "      <td>1</td>\n",
       "      <td>1</td>\n",
       "      <td>0</td>\n",
       "      <td>0</td>\n",
       "      <td>1</td>\n",
       "      <td>1</td>\n",
       "      <td>0</td>\n",
       "      <td>1</td>\n",
       "      <td>1</td>\n",
       "    </tr>\n",
       "    <tr>\n",
       "      <th>3814</th>\n",
       "      <td>0</td>\n",
       "      <td>1</td>\n",
       "      <td>0</td>\n",
       "      <td>0</td>\n",
       "      <td>0</td>\n",
       "      <td>1</td>\n",
       "      <td>0</td>\n",
       "      <td>0</td>\n",
       "      <td>0</td>\n",
       "      <td>0</td>\n",
       "      <td>...</td>\n",
       "      <td>0</td>\n",
       "      <td>1</td>\n",
       "      <td>1</td>\n",
       "      <td>0</td>\n",
       "      <td>0</td>\n",
       "      <td>1</td>\n",
       "      <td>0</td>\n",
       "      <td>0</td>\n",
       "      <td>0</td>\n",
       "      <td>1</td>\n",
       "    </tr>\n",
       "    <tr>\n",
       "      <th>3815</th>\n",
       "      <td>0</td>\n",
       "      <td>0</td>\n",
       "      <td>0</td>\n",
       "      <td>1</td>\n",
       "      <td>0</td>\n",
       "      <td>1</td>\n",
       "      <td>0</td>\n",
       "      <td>1</td>\n",
       "      <td>1</td>\n",
       "      <td>0</td>\n",
       "      <td>...</td>\n",
       "      <td>1</td>\n",
       "      <td>0</td>\n",
       "      <td>1</td>\n",
       "      <td>0</td>\n",
       "      <td>0</td>\n",
       "      <td>0</td>\n",
       "      <td>1</td>\n",
       "      <td>0</td>\n",
       "      <td>0</td>\n",
       "      <td>1</td>\n",
       "    </tr>\n",
       "    <tr>\n",
       "      <th>3816</th>\n",
       "      <td>0</td>\n",
       "      <td>0</td>\n",
       "      <td>0</td>\n",
       "      <td>0</td>\n",
       "      <td>0</td>\n",
       "      <td>0</td>\n",
       "      <td>0</td>\n",
       "      <td>0</td>\n",
       "      <td>0</td>\n",
       "      <td>0</td>\n",
       "      <td>...</td>\n",
       "      <td>0</td>\n",
       "      <td>0</td>\n",
       "      <td>1</td>\n",
       "      <td>0</td>\n",
       "      <td>0</td>\n",
       "      <td>1</td>\n",
       "      <td>0</td>\n",
       "      <td>0</td>\n",
       "      <td>0</td>\n",
       "      <td>1</td>\n",
       "    </tr>\n",
       "    <tr>\n",
       "      <th>3817</th>\n",
       "      <td>0</td>\n",
       "      <td>0</td>\n",
       "      <td>0</td>\n",
       "      <td>0</td>\n",
       "      <td>1</td>\n",
       "      <td>1</td>\n",
       "      <td>0</td>\n",
       "      <td>0</td>\n",
       "      <td>1</td>\n",
       "      <td>0</td>\n",
       "      <td>...</td>\n",
       "      <td>0</td>\n",
       "      <td>1</td>\n",
       "      <td>1</td>\n",
       "      <td>0</td>\n",
       "      <td>0</td>\n",
       "      <td>1</td>\n",
       "      <td>1</td>\n",
       "      <td>0</td>\n",
       "      <td>0</td>\n",
       "      <td>1</td>\n",
       "    </tr>\n",
       "  </tbody>\n",
       "</table>\n",
       "<p>3818 rows × 42 columns</p>\n",
       "</div>"
      ],
      "text/plain": [
       "         24-hour_check-in  air_conditioning  breakfast  \\\n",
       "0     0                 0                 1          0   \n",
       "1     0                 0                 0          0   \n",
       "2     0                 0                 1          0   \n",
       "3     0                 0                 0          0   \n",
       "4     0                 0                 0          0   \n",
       "...  ..               ...               ...        ...   \n",
       "3813  0                 0                 1          0   \n",
       "3814  0                 1                 0          0   \n",
       "3815  0                 0                 0          1   \n",
       "3816  0                 0                 0          0   \n",
       "3817  0                 0                 0          0   \n",
       "\n",
       "      buzzer/wireless_intercom  cable_tv  carbon_monoxide_detector  cat(s)  \\\n",
       "0                            0         1                         0       0   \n",
       "1                            1         0                         1       0   \n",
       "2                            0         1                         1       1   \n",
       "3                            0         0                         1       0   \n",
       "4                            0         1                         1       0   \n",
       "...                        ...       ...                       ...     ...   \n",
       "3813                         0         1                         0       0   \n",
       "3814                         0         1                         0       0   \n",
       "3815                         0         1                         0       1   \n",
       "3816                         0         0                         0       0   \n",
       "3817                         1         1                         0       0   \n",
       "\n",
       "      dog(s)  doorman  ...  safety_card  shampoo  smoke_detector  \\\n",
       "0          0        0  ...            0        0               0   \n",
       "1          0        0  ...            1        0               1   \n",
       "2          1        0  ...            0        1               1   \n",
       "3          0        0  ...            1        1               1   \n",
       "4          0        0  ...            0        1               1   \n",
       "...      ...      ...  ...          ...      ...             ...   \n",
       "3813       0        0  ...            0        1               1   \n",
       "3814       0        0  ...            0        1               1   \n",
       "3815       1        0  ...            1        0               1   \n",
       "3816       0        0  ...            0        0               1   \n",
       "3817       1        0  ...            0        1               1   \n",
       "\n",
       "      smoking_allowed  suitable_for_events  tv  washer  washer_/_dryer  \\\n",
       "0                   0                    0   1       1               0   \n",
       "1                   0                    0   1       1               0   \n",
       "2                   0                    0   1       1               0   \n",
       "3                   0                    0   0       1               0   \n",
       "4                   0                    0   1       0               0   \n",
       "...               ...                  ...  ..     ...             ...   \n",
       "3813                0                    0   1       1               0   \n",
       "3814                0                    0   1       0               0   \n",
       "3815                0                    0   0       1               0   \n",
       "3816                0                    0   1       0               0   \n",
       "3817                0                    0   1       1               0   \n",
       "\n",
       "      wheelchair_accessible  wireless_internet  \n",
       "0                         0                  1  \n",
       "1                         0                  1  \n",
       "2                         0                  1  \n",
       "3                         0                  1  \n",
       "4                         0                  1  \n",
       "...                     ...                ...  \n",
       "3813                      1                  1  \n",
       "3814                      0                  1  \n",
       "3815                      0                  1  \n",
       "3816                      0                  1  \n",
       "3817                      0                  1  \n",
       "\n",
       "[3818 rows x 42 columns]"
      ]
     },
     "execution_count": 75,
     "metadata": {},
     "output_type": "execute_result"
    }
   ],
   "source": [
    "#Use the CountVectorizer feature extractor to obtain amenities from each listings.\n",
    "from sklearn.feature_extraction.text import CountVectorizer\n",
    "count_vectorizer = CountVectorizer(analyzer = 'word', tokenizer=lambda u:u.strip().split(','))\n",
    "bag_of_words = count_vectorizer.fit_transform(u)\n",
    "bag_of_words = pd.DataFrame(bag_of_words.toarray(), index=u.index, columns = count_vectorizer.get_feature_names_out())\n",
    "bag_of_words"
   ]
  },
  {
   "cell_type": "code",
   "execution_count": null,
   "id": "dfa2d6a4",
   "metadata": {},
   "outputs": [],
   "source": [
    "listing_df_new = listing_df.join(bag_of_words)"
   ]
  },
  {
   "cell_type": "code",
   "execution_count": null,
   "id": "0f16f65d",
   "metadata": {},
   "outputs": [],
   "source": [
    "#Drop the amenities feature\n",
    "listing_df_new.drop('amenities', axis = 1, inplace = True)"
   ]
  },
  {
   "cell_type": "code",
   "execution_count": null,
   "id": "d769bb40",
   "metadata": {},
   "outputs": [],
   "source": [
    "feat_types = listing_df_new.dtypes"
   ]
  },
  {
   "cell_type": "code",
   "execution_count": null,
   "id": "7040efe8",
   "metadata": {},
   "outputs": [],
   "source": [
    "Categorical_typ = feat_types[feat_types == 'object'].index.tolist()"
   ]
  },
  {
   "cell_type": "code",
   "execution_count": null,
   "id": "f4a62a7a",
   "metadata": {},
   "outputs": [
    {
     "data": {
      "text/plain": [
       "['neighbourhood_group',\n",
       " 'property_type',\n",
       " 'room_type',\n",
       " 'bed_type',\n",
       " 'cancellation_policy']"
      ]
     },
     "execution_count": 80,
     "metadata": {},
     "output_type": "execute_result"
    }
   ],
   "source": [
    "Categorical_typ"
   ]
  },
  {
   "cell_type": "code",
   "execution_count": null,
   "id": "11e404c5",
   "metadata": {},
   "outputs": [],
   "source": [
    "# Get dummy variables for categorical type data\n",
    "listing_df_final = pd.get_dummies(listing_df_new, columns = Categorical_typ)"
   ]
  },
  {
   "cell_type": "code",
   "execution_count": null,
   "id": "86de3932",
   "metadata": {},
   "outputs": [
    {
     "data": {
      "text/html": [
       "<div>\n",
       "<style scoped>\n",
       "    .dataframe tbody tr th:only-of-type {\n",
       "        vertical-align: middle;\n",
       "    }\n",
       "\n",
       "    .dataframe tbody tr th {\n",
       "        vertical-align: top;\n",
       "    }\n",
       "\n",
       "    .dataframe thead th {\n",
       "        text-align: right;\n",
       "    }\n",
       "</style>\n",
       "<table border=\"1\" class=\"dataframe\">\n",
       "  <thead>\n",
       "    <tr style=\"text-align: right;\">\n",
       "      <th></th>\n",
       "      <th>accommodates</th>\n",
       "      <th>bathrooms</th>\n",
       "      <th>bedrooms</th>\n",
       "      <th>beds</th>\n",
       "      <th>price</th>\n",
       "      <th>guests_included</th>\n",
       "      <th>minimum_nights</th>\n",
       "      <th>maximum_nights</th>\n",
       "      <th>has_availability</th>\n",
       "      <th>availability_30</th>\n",
       "      <th>...</th>\n",
       "      <th>room_type_Private room</th>\n",
       "      <th>room_type_Shared room</th>\n",
       "      <th>bed_type_Airbed</th>\n",
       "      <th>bed_type_Couch</th>\n",
       "      <th>bed_type_Futon</th>\n",
       "      <th>bed_type_Pull-out Sofa</th>\n",
       "      <th>bed_type_Real Bed</th>\n",
       "      <th>cancellation_policy_flexible</th>\n",
       "      <th>cancellation_policy_moderate</th>\n",
       "      <th>cancellation_policy_strict</th>\n",
       "    </tr>\n",
       "  </thead>\n",
       "  <tbody>\n",
       "    <tr>\n",
       "      <th>0</th>\n",
       "      <td>4</td>\n",
       "      <td>1.0</td>\n",
       "      <td>1.0</td>\n",
       "      <td>1.0</td>\n",
       "      <td>85.0</td>\n",
       "      <td>2</td>\n",
       "      <td>1</td>\n",
       "      <td>365</td>\n",
       "      <td>True</td>\n",
       "      <td>14</td>\n",
       "      <td>...</td>\n",
       "      <td>0</td>\n",
       "      <td>0</td>\n",
       "      <td>0</td>\n",
       "      <td>0</td>\n",
       "      <td>0</td>\n",
       "      <td>0</td>\n",
       "      <td>1</td>\n",
       "      <td>0</td>\n",
       "      <td>1</td>\n",
       "      <td>0</td>\n",
       "    </tr>\n",
       "    <tr>\n",
       "      <th>1</th>\n",
       "      <td>4</td>\n",
       "      <td>1.0</td>\n",
       "      <td>1.0</td>\n",
       "      <td>1.0</td>\n",
       "      <td>150.0</td>\n",
       "      <td>1</td>\n",
       "      <td>2</td>\n",
       "      <td>90</td>\n",
       "      <td>True</td>\n",
       "      <td>13</td>\n",
       "      <td>...</td>\n",
       "      <td>0</td>\n",
       "      <td>0</td>\n",
       "      <td>0</td>\n",
       "      <td>0</td>\n",
       "      <td>0</td>\n",
       "      <td>0</td>\n",
       "      <td>1</td>\n",
       "      <td>0</td>\n",
       "      <td>0</td>\n",
       "      <td>1</td>\n",
       "    </tr>\n",
       "    <tr>\n",
       "      <th>2</th>\n",
       "      <td>11</td>\n",
       "      <td>4.5</td>\n",
       "      <td>5.0</td>\n",
       "      <td>7.0</td>\n",
       "      <td>975.0</td>\n",
       "      <td>10</td>\n",
       "      <td>4</td>\n",
       "      <td>30</td>\n",
       "      <td>True</td>\n",
       "      <td>1</td>\n",
       "      <td>...</td>\n",
       "      <td>0</td>\n",
       "      <td>0</td>\n",
       "      <td>0</td>\n",
       "      <td>0</td>\n",
       "      <td>0</td>\n",
       "      <td>0</td>\n",
       "      <td>1</td>\n",
       "      <td>0</td>\n",
       "      <td>0</td>\n",
       "      <td>1</td>\n",
       "    </tr>\n",
       "    <tr>\n",
       "      <th>4</th>\n",
       "      <td>6</td>\n",
       "      <td>2.0</td>\n",
       "      <td>3.0</td>\n",
       "      <td>3.0</td>\n",
       "      <td>450.0</td>\n",
       "      <td>6</td>\n",
       "      <td>1</td>\n",
       "      <td>1125</td>\n",
       "      <td>True</td>\n",
       "      <td>30</td>\n",
       "      <td>...</td>\n",
       "      <td>0</td>\n",
       "      <td>0</td>\n",
       "      <td>0</td>\n",
       "      <td>0</td>\n",
       "      <td>0</td>\n",
       "      <td>0</td>\n",
       "      <td>1</td>\n",
       "      <td>0</td>\n",
       "      <td>0</td>\n",
       "      <td>1</td>\n",
       "    </tr>\n",
       "    <tr>\n",
       "      <th>5</th>\n",
       "      <td>2</td>\n",
       "      <td>1.0</td>\n",
       "      <td>1.0</td>\n",
       "      <td>1.0</td>\n",
       "      <td>120.0</td>\n",
       "      <td>1</td>\n",
       "      <td>1</td>\n",
       "      <td>6</td>\n",
       "      <td>True</td>\n",
       "      <td>0</td>\n",
       "      <td>...</td>\n",
       "      <td>1</td>\n",
       "      <td>0</td>\n",
       "      <td>0</td>\n",
       "      <td>0</td>\n",
       "      <td>0</td>\n",
       "      <td>0</td>\n",
       "      <td>1</td>\n",
       "      <td>0</td>\n",
       "      <td>0</td>\n",
       "      <td>1</td>\n",
       "    </tr>\n",
       "    <tr>\n",
       "      <th>...</th>\n",
       "      <td>...</td>\n",
       "      <td>...</td>\n",
       "      <td>...</td>\n",
       "      <td>...</td>\n",
       "      <td>...</td>\n",
       "      <td>...</td>\n",
       "      <td>...</td>\n",
       "      <td>...</td>\n",
       "      <td>...</td>\n",
       "      <td>...</td>\n",
       "      <td>...</td>\n",
       "      <td>...</td>\n",
       "      <td>...</td>\n",
       "      <td>...</td>\n",
       "      <td>...</td>\n",
       "      <td>...</td>\n",
       "      <td>...</td>\n",
       "      <td>...</td>\n",
       "      <td>...</td>\n",
       "      <td>...</td>\n",
       "      <td>...</td>\n",
       "    </tr>\n",
       "    <tr>\n",
       "      <th>3810</th>\n",
       "      <td>5</td>\n",
       "      <td>1.0</td>\n",
       "      <td>2.0</td>\n",
       "      <td>3.0</td>\n",
       "      <td>154.0</td>\n",
       "      <td>4</td>\n",
       "      <td>2</td>\n",
       "      <td>14</td>\n",
       "      <td>True</td>\n",
       "      <td>13</td>\n",
       "      <td>...</td>\n",
       "      <td>0</td>\n",
       "      <td>0</td>\n",
       "      <td>0</td>\n",
       "      <td>0</td>\n",
       "      <td>0</td>\n",
       "      <td>0</td>\n",
       "      <td>1</td>\n",
       "      <td>0</td>\n",
       "      <td>0</td>\n",
       "      <td>1</td>\n",
       "    </tr>\n",
       "    <tr>\n",
       "      <th>3811</th>\n",
       "      <td>3</td>\n",
       "      <td>1.0</td>\n",
       "      <td>1.0</td>\n",
       "      <td>1.0</td>\n",
       "      <td>65.0</td>\n",
       "      <td>1</td>\n",
       "      <td>1</td>\n",
       "      <td>1125</td>\n",
       "      <td>True</td>\n",
       "      <td>2</td>\n",
       "      <td>...</td>\n",
       "      <td>0</td>\n",
       "      <td>0</td>\n",
       "      <td>0</td>\n",
       "      <td>0</td>\n",
       "      <td>0</td>\n",
       "      <td>0</td>\n",
       "      <td>1</td>\n",
       "      <td>0</td>\n",
       "      <td>1</td>\n",
       "      <td>0</td>\n",
       "    </tr>\n",
       "    <tr>\n",
       "      <th>3812</th>\n",
       "      <td>4</td>\n",
       "      <td>1.0</td>\n",
       "      <td>1.0</td>\n",
       "      <td>2.0</td>\n",
       "      <td>95.0</td>\n",
       "      <td>2</td>\n",
       "      <td>3</td>\n",
       "      <td>365</td>\n",
       "      <td>True</td>\n",
       "      <td>11</td>\n",
       "      <td>...</td>\n",
       "      <td>0</td>\n",
       "      <td>0</td>\n",
       "      <td>0</td>\n",
       "      <td>0</td>\n",
       "      <td>0</td>\n",
       "      <td>0</td>\n",
       "      <td>1</td>\n",
       "      <td>0</td>\n",
       "      <td>1</td>\n",
       "      <td>0</td>\n",
       "    </tr>\n",
       "    <tr>\n",
       "      <th>3813</th>\n",
       "      <td>6</td>\n",
       "      <td>2.0</td>\n",
       "      <td>3.0</td>\n",
       "      <td>3.0</td>\n",
       "      <td>359.0</td>\n",
       "      <td>1</td>\n",
       "      <td>3</td>\n",
       "      <td>1125</td>\n",
       "      <td>True</td>\n",
       "      <td>18</td>\n",
       "      <td>...</td>\n",
       "      <td>0</td>\n",
       "      <td>0</td>\n",
       "      <td>0</td>\n",
       "      <td>0</td>\n",
       "      <td>0</td>\n",
       "      <td>0</td>\n",
       "      <td>1</td>\n",
       "      <td>0</td>\n",
       "      <td>0</td>\n",
       "      <td>1</td>\n",
       "    </tr>\n",
       "    <tr>\n",
       "      <th>3814</th>\n",
       "      <td>4</td>\n",
       "      <td>1.0</td>\n",
       "      <td>1.0</td>\n",
       "      <td>2.0</td>\n",
       "      <td>79.0</td>\n",
       "      <td>3</td>\n",
       "      <td>2</td>\n",
       "      <td>29</td>\n",
       "      <td>True</td>\n",
       "      <td>6</td>\n",
       "      <td>...</td>\n",
       "      <td>0</td>\n",
       "      <td>0</td>\n",
       "      <td>0</td>\n",
       "      <td>0</td>\n",
       "      <td>0</td>\n",
       "      <td>0</td>\n",
       "      <td>1</td>\n",
       "      <td>0</td>\n",
       "      <td>1</td>\n",
       "      <td>0</td>\n",
       "    </tr>\n",
       "  </tbody>\n",
       "</table>\n",
       "<p>3140 rows × 112 columns</p>\n",
       "</div>"
      ],
      "text/plain": [
       "      accommodates  bathrooms  bedrooms  beds  price  guests_included  \\\n",
       "0                4        1.0       1.0   1.0   85.0                2   \n",
       "1                4        1.0       1.0   1.0  150.0                1   \n",
       "2               11        4.5       5.0   7.0  975.0               10   \n",
       "4                6        2.0       3.0   3.0  450.0                6   \n",
       "5                2        1.0       1.0   1.0  120.0                1   \n",
       "...            ...        ...       ...   ...    ...              ...   \n",
       "3810             5        1.0       2.0   3.0  154.0                4   \n",
       "3811             3        1.0       1.0   1.0   65.0                1   \n",
       "3812             4        1.0       1.0   2.0   95.0                2   \n",
       "3813             6        2.0       3.0   3.0  359.0                1   \n",
       "3814             4        1.0       1.0   2.0   79.0                3   \n",
       "\n",
       "      minimum_nights  maximum_nights  has_availability  availability_30  ...  \\\n",
       "0                  1             365              True               14  ...   \n",
       "1                  2              90              True               13  ...   \n",
       "2                  4              30              True                1  ...   \n",
       "4                  1            1125              True               30  ...   \n",
       "5                  1               6              True                0  ...   \n",
       "...              ...             ...               ...              ...  ...   \n",
       "3810               2              14              True               13  ...   \n",
       "3811               1            1125              True                2  ...   \n",
       "3812               3             365              True               11  ...   \n",
       "3813               3            1125              True               18  ...   \n",
       "3814               2              29              True                6  ...   \n",
       "\n",
       "      room_type_Private room  room_type_Shared room  bed_type_Airbed  \\\n",
       "0                          0                      0                0   \n",
       "1                          0                      0                0   \n",
       "2                          0                      0                0   \n",
       "4                          0                      0                0   \n",
       "5                          1                      0                0   \n",
       "...                      ...                    ...              ...   \n",
       "3810                       0                      0                0   \n",
       "3811                       0                      0                0   \n",
       "3812                       0                      0                0   \n",
       "3813                       0                      0                0   \n",
       "3814                       0                      0                0   \n",
       "\n",
       "      bed_type_Couch  bed_type_Futon  bed_type_Pull-out Sofa  \\\n",
       "0                  0               0                       0   \n",
       "1                  0               0                       0   \n",
       "2                  0               0                       0   \n",
       "4                  0               0                       0   \n",
       "5                  0               0                       0   \n",
       "...              ...             ...                     ...   \n",
       "3810               0               0                       0   \n",
       "3811               0               0                       0   \n",
       "3812               0               0                       0   \n",
       "3813               0               0                       0   \n",
       "3814               0               0                       0   \n",
       "\n",
       "      bed_type_Real Bed  cancellation_policy_flexible  \\\n",
       "0                     1                             0   \n",
       "1                     1                             0   \n",
       "2                     1                             0   \n",
       "4                     1                             0   \n",
       "5                     1                             0   \n",
       "...                 ...                           ...   \n",
       "3810                  1                             0   \n",
       "3811                  1                             0   \n",
       "3812                  1                             0   \n",
       "3813                  1                             0   \n",
       "3814                  1                             0   \n",
       "\n",
       "      cancellation_policy_moderate  cancellation_policy_strict  \n",
       "0                                1                           0  \n",
       "1                                0                           1  \n",
       "2                                0                           1  \n",
       "4                                0                           1  \n",
       "5                                0                           1  \n",
       "...                            ...                         ...  \n",
       "3810                             0                           1  \n",
       "3811                             1                           0  \n",
       "3812                             1                           0  \n",
       "3813                             0                           1  \n",
       "3814                             1                           0  \n",
       "\n",
       "[3140 rows x 112 columns]"
      ]
     },
     "execution_count": 82,
     "metadata": {},
     "output_type": "execute_result"
    }
   ],
   "source": [
    "listing_df_final"
   ]
  },
  {
   "cell_type": "code",
   "execution_count": null,
   "id": "33fae903",
   "metadata": {},
   "outputs": [],
   "source": [
    "X = listing_df_final.drop('price',axis = 1)\n",
    "y = listing_df_final['price']"
   ]
  },
  {
   "cell_type": "code",
   "execution_count": null,
   "id": "00be5aeb",
   "metadata": {},
   "outputs": [],
   "source": [
    "X_train, X_test, y_train, y_test = train_test_split(X, y, test_size = .30, random_state = 42)"
   ]
  },
  {
   "cell_type": "code",
   "execution_count": null,
   "id": "13d6ee27",
   "metadata": {},
   "outputs": [
    {
     "data": {
      "text/html": [
       "<style>#sk-container-id-1 {color: black;background-color: white;}#sk-container-id-1 pre{padding: 0;}#sk-container-id-1 div.sk-toggleable {background-color: white;}#sk-container-id-1 label.sk-toggleable__label {cursor: pointer;display: block;width: 100%;margin-bottom: 0;padding: 0.3em;box-sizing: border-box;text-align: center;}#sk-container-id-1 label.sk-toggleable__label-arrow:before {content: \"▸\";float: left;margin-right: 0.25em;color: #696969;}#sk-container-id-1 label.sk-toggleable__label-arrow:hover:before {color: black;}#sk-container-id-1 div.sk-estimator:hover label.sk-toggleable__label-arrow:before {color: black;}#sk-container-id-1 div.sk-toggleable__content {max-height: 0;max-width: 0;overflow: hidden;text-align: left;background-color: #f0f8ff;}#sk-container-id-1 div.sk-toggleable__content pre {margin: 0.2em;color: black;border-radius: 0.25em;background-color: #f0f8ff;}#sk-container-id-1 input.sk-toggleable__control:checked~div.sk-toggleable__content {max-height: 200px;max-width: 100%;overflow: auto;}#sk-container-id-1 input.sk-toggleable__control:checked~label.sk-toggleable__label-arrow:before {content: \"▾\";}#sk-container-id-1 div.sk-estimator input.sk-toggleable__control:checked~label.sk-toggleable__label {background-color: #d4ebff;}#sk-container-id-1 div.sk-label input.sk-toggleable__control:checked~label.sk-toggleable__label {background-color: #d4ebff;}#sk-container-id-1 input.sk-hidden--visually {border: 0;clip: rect(1px 1px 1px 1px);clip: rect(1px, 1px, 1px, 1px);height: 1px;margin: -1px;overflow: hidden;padding: 0;position: absolute;width: 1px;}#sk-container-id-1 div.sk-estimator {font-family: monospace;background-color: #f0f8ff;border: 1px dotted black;border-radius: 0.25em;box-sizing: border-box;margin-bottom: 0.5em;}#sk-container-id-1 div.sk-estimator:hover {background-color: #d4ebff;}#sk-container-id-1 div.sk-parallel-item::after {content: \"\";width: 100%;border-bottom: 1px solid gray;flex-grow: 1;}#sk-container-id-1 div.sk-label:hover label.sk-toggleable__label {background-color: #d4ebff;}#sk-container-id-1 div.sk-serial::before {content: \"\";position: absolute;border-left: 1px solid gray;box-sizing: border-box;top: 0;bottom: 0;left: 50%;z-index: 0;}#sk-container-id-1 div.sk-serial {display: flex;flex-direction: column;align-items: center;background-color: white;padding-right: 0.2em;padding-left: 0.2em;position: relative;}#sk-container-id-1 div.sk-item {position: relative;z-index: 1;}#sk-container-id-1 div.sk-parallel {display: flex;align-items: stretch;justify-content: center;background-color: white;position: relative;}#sk-container-id-1 div.sk-item::before, #sk-container-id-1 div.sk-parallel-item::before {content: \"\";position: absolute;border-left: 1px solid gray;box-sizing: border-box;top: 0;bottom: 0;left: 50%;z-index: -1;}#sk-container-id-1 div.sk-parallel-item {display: flex;flex-direction: column;z-index: 1;position: relative;background-color: white;}#sk-container-id-1 div.sk-parallel-item:first-child::after {align-self: flex-end;width: 50%;}#sk-container-id-1 div.sk-parallel-item:last-child::after {align-self: flex-start;width: 50%;}#sk-container-id-1 div.sk-parallel-item:only-child::after {width: 0;}#sk-container-id-1 div.sk-dashed-wrapped {border: 1px dashed gray;margin: 0 0.4em 0.5em 0.4em;box-sizing: border-box;padding-bottom: 0.4em;background-color: white;}#sk-container-id-1 div.sk-label label {font-family: monospace;font-weight: bold;display: inline-block;line-height: 1.2em;}#sk-container-id-1 div.sk-label-container {text-align: center;}#sk-container-id-1 div.sk-container {/* jupyter's `normalize.less` sets `[hidden] { display: none; }` but bootstrap.min.css set `[hidden] { display: none !important; }` so we also need the `!important` here to be able to override the default hidden behavior on the sphinx rendered scikit-learn.org. See: https://github.com/scikit-learn/scikit-learn/issues/21755 */display: inline-block !important;position: relative;}#sk-container-id-1 div.sk-text-repr-fallback {display: none;}</style><div id=\"sk-container-id-1\" class=\"sk-top-container\"><div class=\"sk-text-repr-fallback\"><pre>LinearRegression()</pre><b>In a Jupyter environment, please rerun this cell to show the HTML representation or trust the notebook. <br />On GitHub, the HTML representation is unable to render, please try loading this page with nbviewer.org.</b></div><div class=\"sk-container\" hidden><div class=\"sk-item\"><div class=\"sk-estimator sk-toggleable\"><input class=\"sk-toggleable__control sk-hidden--visually\" id=\"sk-estimator-id-1\" type=\"checkbox\" checked><label for=\"sk-estimator-id-1\" class=\"sk-toggleable__label sk-toggleable__label-arrow\">LinearRegression</label><div class=\"sk-toggleable__content\"><pre>LinearRegression()</pre></div></div></div></div></div>"
      ],
      "text/plain": [
       "LinearRegression()"
      ]
     },
     "execution_count": 85,
     "metadata": {},
     "output_type": "execute_result"
    }
   ],
   "source": [
    "model = LinearRegression()\n",
    "model.fit(X_train, y_train)"
   ]
  },
  {
   "cell_type": "code",
   "execution_count": null,
   "id": "2d062144",
   "metadata": {},
   "outputs": [
    {
     "data": {
      "text/plain": [
       "0.5233529377982948"
      ]
     },
     "execution_count": 86,
     "metadata": {},
     "output_type": "execute_result"
    }
   ],
   "source": [
    "preds = model.predict(X_test)\n",
    "accuracy = r2_score(y_test, preds)\n",
    "accuracy"
   ]
  },
  {
   "cell_type": "code",
   "execution_count": null,
   "id": "e4884a0b",
   "metadata": {},
   "outputs": [],
   "source": [
    "from sklearn.ensemble import RandomForestRegressor"
   ]
  },
  {
   "cell_type": "code",
   "execution_count": null,
   "id": "46b46538",
   "metadata": {},
   "outputs": [],
   "source": [
    "rfr = RandomForestRegressor(n_estimators=200, criterion = 'absolute_error', random_state=42)\n",
    "rfr.fit(X_train, y_train)\n",
    "\n",
    "# compute feature importances\n",
    "importances = rfr.feature_importances_\n",
    "\n",
    "# rank features by importance score\n",
    "indices = np.argsort(importances)[::-1]\n"
   ]
  },
  {
   "cell_type": "code",
   "execution_count": null,
   "id": "df8b4c65",
   "metadata": {},
   "outputs": [
    {
     "data": {
      "text/plain": [
       "0.5786104810359058"
      ]
     },
     "execution_count": 89,
     "metadata": {},
     "output_type": "execute_result"
    }
   ],
   "source": [
    "preds = rfr.predict(X_test)\n",
    "r2 = r2_score(y_test, preds)\n",
    "r2"
   ]
  },
  {
   "cell_type": "code",
   "execution_count": null,
   "id": "18f8f631",
   "metadata": {},
   "outputs": [
    {
     "data": {
      "text/plain": [
       "[2, 100, 24, 1, 0, 11, 12, 13, 6, 5, 10, 4, 9, 73, 8, 79, 69, 36, 3, 18]"
      ]
     },
     "execution_count": 90,
     "metadata": {},
     "output_type": "execute_result"
    }
   ],
   "source": [
    "imp_feat = indices[:20].tolist()\n",
    "imp_feat"
   ]
  },
  {
   "cell_type": "code",
   "execution_count": null,
   "id": "f4702704",
   "metadata": {},
   "outputs": [
    {
     "name": "stdout",
     "output_type": "stream",
     "text": [
      "the top 20 features that are most important for price prediction are: \n",
      "['bedrooms', 'property_type_Yurt', 'require_guest_phone_verification', 'bathrooms', 'accommodates', 'availability_90', 'availability_365', 'number_of_reviews', 'minimum_nights', 'guests_included', 'availability_60', 'price', 'availability_30', 'neighbourhood_group_Delridge', 'has_availability', 'neighbourhood_group_Other neighborhoods', 'neighbourhood_group_Beacon Hill', 'dryer', 'beds', 'review_scores_communication']\n"
     ]
    }
   ],
   "source": [
    "important_features = listing_df_final.iloc[:,imp_feat]\n",
    "important_features\n",
    "print('the top 20 features that are most important for price prediction are: ')\n",
    "print(important_features.columns.tolist())"
   ]
  },
  {
   "cell_type": "markdown",
   "id": "adf38c51",
   "metadata": {},
   "source": [
    "- The features that are the most important determinant of price are:\n",
    "    **'bedrooms', 'property_type', 'require_guest_phone_verification', 'bathrooms', 'accommodates', Availability, 'number_of_reviews', 'minimum_nights', 'guests_included', neighbourhood_group, dryer, beds, review_scores_communication**\n",
    "    \n",
    "> **We see that these talies with the correlation plot from earlier since we can find the same numerical features from the correlation plot as important features that can predict price**"
   ]
  },
  {
   "cell_type": "markdown",
   "id": "1764d662",
   "metadata": {},
   "source": [
    "### CONCLUSION: \n",
    "\n",
    "###### 1. Property type trends.\n",
    "the properties available in seattles airbnb listings are: **'Apartment', 'House', 'Cabin', 'Condominium', 'Camper/RV',\n",
    "       'Bungalow', 'Townhouse', 'Loft', 'Boat', 'Bed & Breakfast',\n",
    "       'Other', 'Dorm', 'Treehouse', 'Yurt', 'Chalet', 'Tent'**\n",
    "* **Houses and Apartments** are the most common properties accounting for about 90% of seattles listings. while the **Yurt** is the least common propety types.\n",
    "- **Boat** listings are the most expensive on the average while the cheapest on average are **Dorms**\n",
    "\n",
    "###### 2. Neighbourhood trends.\n",
    "Neighbourhood groups in the seattle area are: \n",
    "- The neighbourhood-group with the highest price on the average is the **Magnolia Neighbourhood.** Magnolia is the second largest neighborhood of Seattle, Washington by area (google). This and the fact that it is one of the neighbourhood group with the lowest number of listings (**meaning high brow area, with low units available**) may explain why it is the highest on average.\n",
    "- The most expensive neighbourhood_groups by average price are: **Magnolia, Queen Anne, Downtown, West_Seattle and Cascade**\n",
    "- The least expensive neighbourhood_groups on average are: **University District, Lake City, Rainier Valley, Northgate, Delridge**\n",
    "> 20 Most expensive neighbourhoods in order of decreasing average prices: **'Southeast Magnolia'** (which is in the magnolia Neighbourhood group), **'Portage Bay','Westlake','West Queen Anne','Montlake','Briarcliff','Sunset Hill', 'Industrial District','Alki','Windermere','Pioneer Square','Central Business District','Fauntleroy','Belltown','East Queen Anne','Madrona','Pike-Market','North Queen Anne','Green Lake','Lawton Park'**\n",
    "\n",
    "###### 3. Busiest times of the year to visit Seattle.\n",
    "\n",
    "- Listings are **mostly Unavailable** towards the middle of the year around the summer holiday periods (between **June** and **August**). This is most likely due to high demands around these periods.\n",
    "- The prices of listings on the average have an indirect realtionship with availability. The average prices of listings are therefore (as shown on the chart) higher around the Summer Season(June- August) and tend to be lower after august and before June. The prices also seemed to be on the average higher on the **weekends (Fridays and Saturdays)** and maintain lower prices on **weekdays and sundays**.\n",
    "\n",
    "- Anyone on a budget during the summer period should consider neighbourhoods like: **Delridge, Northgate, Lake City and Beacon Hill** which have prices under \\$120 on average during the summer period compared to Neighbourhood groups like **Downtown, Magnolia, Queen Anne, Cascade** doing a minimum of over \\\\$150 on average and going as high as \\$200 dollars on average in the summer.\n",
    "> **Note:** We can get Neighbourhoods that go as low as 30dollars in areas like Queen Anne and Downtown and other highbrow areas and get costly listings around low brow neighbourhoods too.\n",
    "\n",
    "###### 4. Is there a general upward trend of both new Airbnb listings and total Airbnb visitors to Seattle?\n",
    "- We see a general upward trend in the number of airbnb listings over the years with occasional dips\n",
    " > **Note:** the graph seems to dip in the end but that is only because the data stops on the 3rd day of january 2016.\n",
    " \n",
    "###### 5. The most important Factors that influenc price and can be used to predict price:\n",
    "- The features that are the most important determinant of price are:\n",
    "       **'bedrooms', 'property_type', 'require_guest_phone_verification', 'bathrooms', 'accommodates', Availability, 'number_of_reviews', 'minimum_nights', 'guests_included', neighbourhood_group, dryer, beds, review_scores_communication**"
   ]
  }
 ],
 "metadata": {
  "kernelspec": {
   "display_name": "Python 3 (ipykernel)",
   "language": "python",
   "name": "python3"
  },
  "language_info": {
   "codemirror_mode": {
    "name": "ipython",
    "version": 3
   },
   "file_extension": ".py",
   "mimetype": "text/x-python",
   "name": "python",
   "nbconvert_exporter": "python",
   "pygments_lexer": "ipython3",
   "version": "3.9.13"
  }
 },
 "nbformat": 4,
 "nbformat_minor": 5
}
